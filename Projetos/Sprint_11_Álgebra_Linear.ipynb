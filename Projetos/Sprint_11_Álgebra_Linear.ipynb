{
  "cells": [
    {
      "cell_type": "markdown",
      "metadata": {
        "id": "view-in-github",
        "colab_type": "text"
      },
      "source": [
        "<a href=\"https://colab.research.google.com/github/lucianolcp/projetosbootcamp/blob/main/Projetos/Sprint_11_%C3%81lgebra_Linear.ipynb\" target=\"_parent\"><img src=\"https://colab.research.google.com/assets/colab-badge.svg\" alt=\"Open In Colab\"/></a>"
      ]
    },
    {
      "cell_type": "markdown",
      "metadata": {
        "id": "PQaG_aA1nSMc"
      },
      "source": [
        "# Statement"
      ]
    },
    {
      "cell_type": "markdown",
      "metadata": {
        "id": "25wbA5VRnSMd"
      },
      "source": [
        "A companhia de seguros Proteja Seu Amanhã quer resolver algumas tarefas com a ajuda de aprendizado de máquina e você precisa avaliar a possibilidade de fazê-lo.\n",
        "\n",
        "- Tarefa 1: Encontrar clientes semelhantes a um determinado cliente. Isso vai ajudar os agentes da empresa com tarefas de marketing.\n",
        "- Tarefa 2: Predizer se um novo cliente provavelmente receberá um pagamento de seguro. Um modelo de predição pode ser melhor do que um modelo dummy?\n",
        "- Tarefa 3: Predizer o número de pagamentos de seguro que um novo cliente provavelmente receberá usando um modelo de regressão linear.\n",
        "- Tarefa 4: Proteger os dados pessoais dos clientes sem estragar o modelo da tarefa anterior. É necessário desenvolver um algoritmo de transformação de dados que tornaria difícil recuperar informações pessoais se os dados caíssem nas mãos erradas. Isso é chamado de mascaramento de dados ou ofuscação de dados. Mas os dados devem ser protegidos de forma que a qualidade dos modelos de aprendizado de máquina não piore. Você não precisa escolher o melhor modelo, só prove que o algoritmo funciona corretamente."
      ]
    },
    {
      "cell_type": "markdown",
      "metadata": {
        "id": "eZk9uSHlnSMd"
      },
      "source": [
        "# Pré-processamento de dados & Exploração\n",
        "\n",
        "## Inicialização"
      ]
    },
    {
      "cell_type": "code",
      "execution_count": null,
      "metadata": {
        "id": "H8K3OSPEnSMe",
        "outputId": "4911f8d3-3e45-49cc-ecfd-ea94314550f7"
      },
      "outputs": [
        {
          "name": "stdout",
          "output_type": "stream",
          "text": [
            "\u001b[33mWARNING: Ignoring invalid distribution - (/opt/conda/envs/python3/lib/python3.9/site-packages)\u001b[0m\u001b[33m\n",
            "\u001b[0m\u001b[33mWARNING: Ignoring invalid distribution -cikit-learn (/opt/conda/envs/python3/lib/python3.9/site-packages)\u001b[0m\u001b[33m\n",
            "\u001b[0mRequirement already satisfied: scikit-learn in /opt/conda/envs/python3/lib/python3.9/site-packages (0.24.1)\n",
            "Collecting scikit-learn\n",
            "  Using cached scikit_learn-1.5.1-cp39-cp39-manylinux_2_17_x86_64.manylinux2014_x86_64.whl.metadata (12 kB)\n",
            "Requirement already satisfied: numpy>=1.19.5 in /opt/conda/envs/python3/lib/python3.9/site-packages (from scikit-learn) (1.21.2)\n",
            "Requirement already satisfied: scipy>=1.6.0 in /opt/conda/envs/python3/lib/python3.9/site-packages (from scikit-learn) (1.10.1)\n",
            "Requirement already satisfied: joblib>=1.2.0 in /opt/conda/envs/python3/lib/python3.9/site-packages (from scikit-learn) (1.4.2)\n",
            "Requirement already satisfied: threadpoolctl>=3.1.0 in /opt/conda/envs/python3/lib/python3.9/site-packages (from scikit-learn) (3.5.0)\n",
            "Using cached scikit_learn-1.5.1-cp39-cp39-manylinux_2_17_x86_64.manylinux2014_x86_64.whl (13.4 MB)\n",
            "\u001b[33mWARNING: Ignoring invalid distribution - (/opt/conda/envs/python3/lib/python3.9/site-packages)\u001b[0m\u001b[33m\n",
            "\u001b[0m\u001b[33mWARNING: Ignoring invalid distribution -cikit-learn (/opt/conda/envs/python3/lib/python3.9/site-packages)\u001b[0m\u001b[33m\n",
            "\u001b[0mInstalling collected packages: scikit-learn\n",
            "  Attempting uninstall: scikit-learn\n",
            "    Found existing installation: scikit-learn 0.24.1\n",
            "    Uninstalling scikit-learn-0.24.1:\n",
            "\u001b[31mERROR: Could not install packages due to an OSError: [Errno 13] Permission denied: 'COPYING'\n",
            "Consider using the `--user` option or check the permissions.\n",
            "\u001b[0m\u001b[31m\n",
            "\u001b[0mNote: you may need to restart the kernel to use updated packages.\n"
          ]
        }
      ],
      "source": [
        "pip install scikit-learn --upgrade"
      ]
    },
    {
      "cell_type": "code",
      "execution_count": null,
      "metadata": {
        "id": "ZGbZ396RnSMf"
      },
      "outputs": [],
      "source": [
        "import numpy as np\n",
        "import pandas as pd\n",
        "\n",
        "import seaborn as sns\n",
        "\n",
        "import sklearn.linear_model\n",
        "import sklearn.metrics\n",
        "import sklearn.neighbors\n",
        "import sklearn.preprocessing\n",
        "\n",
        "from sklearn.model_selection import train_test_split\n",
        "\n",
        "from IPython.display import display"
      ]
    },
    {
      "cell_type": "markdown",
      "metadata": {
        "id": "uFD2ZMXgnSMg"
      },
      "source": [
        "## Carregar Dados"
      ]
    },
    {
      "cell_type": "markdown",
      "metadata": {
        "id": "I8s3_a_5nSMg"
      },
      "source": [
        "Carregue os dados e faça uma verificação básica de que estão livres de problemas óbvios."
      ]
    },
    {
      "cell_type": "code",
      "execution_count": null,
      "metadata": {
        "id": "gcMFr_VNnSMg"
      },
      "outputs": [],
      "source": [
        "df = pd.read_csv('/datasets/insurance_us.csv')"
      ]
    },
    {
      "cell_type": "markdown",
      "metadata": {
        "id": "bTSAu0nRnSMg"
      },
      "source": [
        "Renomeamos as colunas para tornar o código mais consistente com seu estilo."
      ]
    },
    {
      "cell_type": "code",
      "execution_count": null,
      "metadata": {
        "id": "7kcWitLlnSMh"
      },
      "outputs": [],
      "source": [
        "df = df.rename(columns={'Gender': 'gender', 'Age': 'age', 'Salary': 'income', 'Family members': 'family_members', 'Insurance benefits': 'insurance_benefits'})"
      ]
    },
    {
      "cell_type": "code",
      "execution_count": null,
      "metadata": {
        "id": "oGc5GWTbnSMh",
        "outputId": "3d98e660-8bd3-40a6-f95e-a2efa78c25d8"
      },
      "outputs": [
        {
          "data": {
            "text/html": [
              "<div>\n",
              "<style scoped>\n",
              "    .dataframe tbody tr th:only-of-type {\n",
              "        vertical-align: middle;\n",
              "    }\n",
              "\n",
              "    .dataframe tbody tr th {\n",
              "        vertical-align: top;\n",
              "    }\n",
              "\n",
              "    .dataframe thead th {\n",
              "        text-align: right;\n",
              "    }\n",
              "</style>\n",
              "<table border=\"1\" class=\"dataframe\">\n",
              "  <thead>\n",
              "    <tr style=\"text-align: right;\">\n",
              "      <th></th>\n",
              "      <th>gender</th>\n",
              "      <th>age</th>\n",
              "      <th>income</th>\n",
              "      <th>family_members</th>\n",
              "      <th>insurance_benefits</th>\n",
              "    </tr>\n",
              "  </thead>\n",
              "  <tbody>\n",
              "    <tr>\n",
              "      <th>4095</th>\n",
              "      <td>1</td>\n",
              "      <td>20.0</td>\n",
              "      <td>38600.0</td>\n",
              "      <td>2</td>\n",
              "      <td>0</td>\n",
              "    </tr>\n",
              "    <tr>\n",
              "      <th>2773</th>\n",
              "      <td>1</td>\n",
              "      <td>24.0</td>\n",
              "      <td>26100.0</td>\n",
              "      <td>2</td>\n",
              "      <td>0</td>\n",
              "    </tr>\n",
              "    <tr>\n",
              "      <th>308</th>\n",
              "      <td>1</td>\n",
              "      <td>25.0</td>\n",
              "      <td>44600.0</td>\n",
              "      <td>1</td>\n",
              "      <td>0</td>\n",
              "    </tr>\n",
              "    <tr>\n",
              "      <th>4617</th>\n",
              "      <td>1</td>\n",
              "      <td>19.0</td>\n",
              "      <td>45400.0</td>\n",
              "      <td>0</td>\n",
              "      <td>0</td>\n",
              "    </tr>\n",
              "    <tr>\n",
              "      <th>1793</th>\n",
              "      <td>1</td>\n",
              "      <td>32.0</td>\n",
              "      <td>54400.0</td>\n",
              "      <td>0</td>\n",
              "      <td>0</td>\n",
              "    </tr>\n",
              "    <tr>\n",
              "      <th>4014</th>\n",
              "      <td>1</td>\n",
              "      <td>34.0</td>\n",
              "      <td>43800.0</td>\n",
              "      <td>3</td>\n",
              "      <td>0</td>\n",
              "    </tr>\n",
              "    <tr>\n",
              "      <th>320</th>\n",
              "      <td>0</td>\n",
              "      <td>36.0</td>\n",
              "      <td>40300.0</td>\n",
              "      <td>5</td>\n",
              "      <td>0</td>\n",
              "    </tr>\n",
              "    <tr>\n",
              "      <th>2520</th>\n",
              "      <td>1</td>\n",
              "      <td>21.0</td>\n",
              "      <td>46100.0</td>\n",
              "      <td>2</td>\n",
              "      <td>0</td>\n",
              "    </tr>\n",
              "    <tr>\n",
              "      <th>4901</th>\n",
              "      <td>1</td>\n",
              "      <td>41.0</td>\n",
              "      <td>56400.0</td>\n",
              "      <td>2</td>\n",
              "      <td>0</td>\n",
              "    </tr>\n",
              "    <tr>\n",
              "      <th>4597</th>\n",
              "      <td>1</td>\n",
              "      <td>40.0</td>\n",
              "      <td>43300.0</td>\n",
              "      <td>2</td>\n",
              "      <td>0</td>\n",
              "    </tr>\n",
              "  </tbody>\n",
              "</table>\n",
              "</div>"
            ],
            "text/plain": [
              "      gender   age   income  family_members  insurance_benefits\n",
              "4095       1  20.0  38600.0               2                   0\n",
              "2773       1  24.0  26100.0               2                   0\n",
              "308        1  25.0  44600.0               1                   0\n",
              "4617       1  19.0  45400.0               0                   0\n",
              "1793       1  32.0  54400.0               0                   0\n",
              "4014       1  34.0  43800.0               3                   0\n",
              "320        0  36.0  40300.0               5                   0\n",
              "2520       1  21.0  46100.0               2                   0\n",
              "4901       1  41.0  56400.0               2                   0\n",
              "4597       1  40.0  43300.0               2                   0"
            ]
          },
          "execution_count": 5,
          "metadata": {},
          "output_type": "execute_result"
        }
      ],
      "source": [
        "df.sample(10)"
      ]
    },
    {
      "cell_type": "code",
      "execution_count": null,
      "metadata": {
        "id": "KqqwMok_nSMh",
        "outputId": "53491f0a-a236-4025-b24c-fb355c68f42f"
      },
      "outputs": [
        {
          "name": "stdout",
          "output_type": "stream",
          "text": [
            "<class 'pandas.core.frame.DataFrame'>\n",
            "RangeIndex: 5000 entries, 0 to 4999\n",
            "Data columns (total 5 columns):\n",
            " #   Column              Non-Null Count  Dtype  \n",
            "---  ------              --------------  -----  \n",
            " 0   gender              5000 non-null   int64  \n",
            " 1   age                 5000 non-null   float64\n",
            " 2   income              5000 non-null   float64\n",
            " 3   family_members      5000 non-null   int64  \n",
            " 4   insurance_benefits  5000 non-null   int64  \n",
            "dtypes: float64(2), int64(3)\n",
            "memory usage: 195.4 KB\n"
          ]
        }
      ],
      "source": [
        "df.info()"
      ]
    },
    {
      "cell_type": "code",
      "execution_count": null,
      "metadata": {
        "id": "rdSVinZbnSMh"
      },
      "outputs": [],
      "source": [
        "# podemos querer corrigir o tipo de idade (de float para int), embora isso não seja crítico\n",
        "\n",
        "# escreva sua conversão aqui se você escolher:\n",
        "# Converter a coluna 'age' de float para int\n",
        "df['age'] = df['age'].astype(int)"
      ]
    },
    {
      "cell_type": "code",
      "execution_count": null,
      "metadata": {
        "id": "x1DxxjlynSMi",
        "outputId": "48ed7606-36d8-4337-cc77-2c810068bddd"
      },
      "outputs": [
        {
          "name": "stdout",
          "output_type": "stream",
          "text": [
            "<class 'pandas.core.frame.DataFrame'>\n",
            "RangeIndex: 5000 entries, 0 to 4999\n",
            "Data columns (total 5 columns):\n",
            " #   Column              Non-Null Count  Dtype  \n",
            "---  ------              --------------  -----  \n",
            " 0   gender              5000 non-null   int64  \n",
            " 1   age                 5000 non-null   int64  \n",
            " 2   income              5000 non-null   float64\n",
            " 3   family_members      5000 non-null   int64  \n",
            " 4   insurance_benefits  5000 non-null   int64  \n",
            "dtypes: float64(1), int64(4)\n",
            "memory usage: 195.4 KB\n"
          ]
        }
      ],
      "source": [
        "# verifique se a conversão foi bem-sucedida\n",
        "df.info()"
      ]
    },
    {
      "cell_type": "code",
      "execution_count": null,
      "metadata": {
        "id": "LqkOisNsnSMi"
      },
      "outputs": [],
      "source": [
        "# agora dê uma olhada nas estatísticas descritivas dos dados.\n",
        "# Parece que está tudo bem?"
      ]
    },
    {
      "cell_type": "code",
      "execution_count": null,
      "metadata": {
        "id": "7InEMpxunSMi",
        "outputId": "1d815c0c-029b-48d6-b83e-5118de21de6b"
      },
      "outputs": [
        {
          "name": "stdout",
          "output_type": "stream",
          "text": [
            "            gender          age        income  family_members  \\\n",
            "count  5000.000000  5000.000000   5000.000000     5000.000000   \n",
            "mean      0.499000    30.952800  39916.360000        1.194200   \n",
            "std       0.500049     8.440807   9900.083569        1.091387   \n",
            "min       0.000000    18.000000   5300.000000        0.000000   \n",
            "25%       0.000000    24.000000  33300.000000        0.000000   \n",
            "50%       0.000000    30.000000  40200.000000        1.000000   \n",
            "75%       1.000000    37.000000  46600.000000        2.000000   \n",
            "max       1.000000    65.000000  79000.000000        6.000000   \n",
            "\n",
            "       insurance_benefits  \n",
            "count         5000.000000  \n",
            "mean             0.148000  \n",
            "std              0.463183  \n",
            "min              0.000000  \n",
            "25%              0.000000  \n",
            "50%              0.000000  \n",
            "75%              0.000000  \n",
            "max              5.000000  \n"
          ]
        }
      ],
      "source": [
        "# Exibir estatísticas descritivas\n",
        "print(df.describe())"
      ]
    },
    {
      "cell_type": "markdown",
      "metadata": {
        "id": "TbDuh5bcnSMi"
      },
      "source": [
        "Os dados parecem não ter valores extremos ou fora do normal."
      ]
    },
    {
      "cell_type": "markdown",
      "metadata": {
        "id": "6aDQx1FznSMj"
      },
      "source": [
        "## AED"
      ]
    },
    {
      "cell_type": "markdown",
      "metadata": {
        "id": "3QQORrLrnSMj"
      },
      "source": [
        "Vamos verificar rapidamente se existem determinados grupos de clientes observando o gráfico de pares."
      ]
    },
    {
      "cell_type": "code",
      "execution_count": null,
      "metadata": {
        "id": "Hqb7e6mNnSMj",
        "outputId": "3f094172-c218-4397-ef41-eecfd176077c"
      },
      "outputs": [
        {
          "data": {
            "image/png": "[encoded data removed]",
            "text/plain": [
              "<Figure size 1200x1200 with 30 Axes>"
            ]
          },
          "metadata": {},
          "output_type": "display_data"
        }
      ],
      "source": [
        "g = sns.pairplot(df, kind='hist')\n",
        "g.fig.set_size_inches(12, 12)"
      ]
    },
    {
      "cell_type": "markdown",
      "metadata": {
        "id": "59DKQvrsnSMj"
      },
      "source": [
        "Ok, é um pouco difícil identificar grupos óbvios (clusters), pois é difícil combinar várias variáveis simultaneamente (para analisar distribuições multivariadas). É aí que Álgebra Linear e Aprendizado de Máquina podem ser bastante úteis."
      ]
    },
    {
      "cell_type": "markdown",
      "metadata": {
        "id": "iQm2wUC5nSMj"
      },
      "source": [
        "# Tarefa 1. Clientes Similares"
      ]
    },
    {
      "cell_type": "markdown",
      "metadata": {
        "id": "XYly72FenSMk"
      },
      "source": [
        "Na linguagem de AM, é necessário desenvolver um procedimento que retorne k vizinhos mais próximos (objetos) para um determinado objeto com base na distância entre os objetos.\n",
        "Você pode querer rever as seguintes lições (capítulo -> lição)- Distância Entre Vetores -> Distância Euclidiana\n",
        "- Distância Entre Vetores -> Distância de Manhattan\n",
        "\n",
        "Para resolver a tarefa, podemos tentar diferentes métricas de distância."
      ]
    },
    {
      "cell_type": "markdown",
      "metadata": {
        "id": "6WK0-cxnnSMk"
      },
      "source": [
        "Escreva uma função que retorne k vizinhos mais próximos para um n-ésimo objeto com base em uma métrica de distância especificada. O número de pagamentos de seguro recebidos não deve ser levado em consideração para esta tarefa.\n",
        "\n",
        "Você pode usar uma implementação pronta do algoritmo kNN do scikit-learn (verifique [o link](https://scikit-learn.org/stable/modules/generated/sklearn.neighbors.NearestNeighbors.html#sklearn.neighbors.NearestNeighbors)) ou usar a sua própria.\n",
        "Teste-o para quatro combinações de dois casos\n",
        "- Escalabilidade\n",
        "  - os dados não são escalados\n",
        "  - os dados escalados com o escalonador [MaxAbsScaler](https://scikit-learn.org/stable/modules/generated/sklearn.preprocessing.MaxAbsScaler.html)\n",
        "- Métricas de distância\n",
        "  - Euclidiana\n",
        "  - Manhattan\n",
        "\n",
        "Responda às perguntas:\n",
        "- Os dados não escalados afetam o algoritmo kNN? Se sim, como isso acontece?\n",
        "-Quão semelhantes são os resultados usando a métrica de distância de Manhattan (independentemente da escalabilidade)?"
      ]
    },
    {
      "cell_type": "code",
      "execution_count": null,
      "metadata": {
        "id": "khOoe8t_nSMl"
      },
      "outputs": [],
      "source": [
        "from sklearn.neighbors import NearestNeighbors\n",
        "\n",
        "feature_names = ['gender', 'age', 'income', 'family_members']"
      ]
    },
    {
      "cell_type": "code",
      "execution_count": null,
      "metadata": {
        "id": "LcvL2UklnSMl"
      },
      "outputs": [],
      "source": [
        "def get_knn(df, n, k, metric):\n",
        "    \"\"\"\n",
        "    Retorna os k vizinhos mais próximos de um objeto n.\n",
        "\n",
        "    :param df: DataFrame pandas usado para encontrar objetos semelhantes\n",
        "    :param n: índice do objeto para o qual os vizinhos mais próximos são procurados\n",
        "    :param k: número dos vizinhos mais próximos a serem retornados\n",
        "    :param metric: nome da métrica de distância ('euclidean' ou 'manhattan')\n",
        "    :return: DataFrame com os k vizinhos mais próximos e suas distâncias\n",
        "    \"\"\"\n",
        "    # Obter os dados originais (não escalados)\n",
        "    data = df[feature_names].to_numpy()\n",
        "\n",
        "    # Configurar o algoritmo kNN\n",
        "    nbrs = NearestNeighbors(n_neighbors=k, metric=metric)\n",
        "    nbrs.fit(data)\n",
        "\n",
        "    # Encontrar os vizinhos mais próximos\n",
        "    nbrs_distances, nbrs_indices = nbrs.kneighbors([data[n]], return_distance=True)\n",
        "\n",
        "    # Criar DataFrame com os resultados\n",
        "    df_res = pd.concat([\n",
        "        df.iloc[nbrs_indices[0]],\n",
        "        pd.DataFrame(nbrs_distances.T, index=nbrs_indices[0], columns=['distance'])\n",
        "        ], axis=1)\n",
        "\n",
        "    return df_res\n"
      ]
    },
    {
      "cell_type": "code",
      "execution_count": null,
      "metadata": {
        "id": "XLb1WLcjnSMm",
        "outputId": "73d9b52a-0b49-411b-e696-aad344d8eb7b"
      },
      "outputs": [
        {
          "name": "stdout",
          "output_type": "stream",
          "text": [
            "Dados não escalados, métrica Euclidiana:\n",
            "      gender  age   income  family_members  insurance_benefits  distance\n",
            "0          1   41  49600.0               1                   0  0.000000\n",
            "2022       1   41  49600.0               0                   0  1.000000\n",
            "1225       0   42  49600.0               0                   1  1.732051\n",
            "4031       1   44  49600.0               2                   1  3.162278\n",
            "3424       0   38  49600.0               0                   0  3.316625\n",
            "\n",
            "Dados não escalados, métrica Manhattan:\n",
            "      gender  age   income  family_members  insurance_benefits  distance\n",
            "0          1   41  49600.0               1                   0       0.0\n",
            "2022       1   41  49600.0               0                   0       1.0\n",
            "1225       0   42  49600.0               0                   1       3.0\n",
            "4031       1   44  49600.0               2                   1       4.0\n",
            "3424       0   38  49600.0               0                   0       5.0\n"
          ]
        }
      ],
      "source": [
        "# Índice do registro para o qual queremos encontrar vizinhos\n",
        "n = 0\n",
        "k = 5\n",
        "\n",
        "# Usar dados não escalados, métrica Euclidiana\n",
        "print(\"Dados não escalados, métrica Euclidiana:\")\n",
        "result_no_scale_euclidean = get_knn(df, n=n, k=k, metric='euclidean')\n",
        "print(result_no_scale_euclidean)\n",
        "\n",
        "# Usar dados não escalados, métrica Manhattan\n",
        "print(\"\\nDados não escalados, métrica Manhattan:\")\n",
        "result_no_scale_manhattan = get_knn(df, n=n, k=k, metric='manhattan')\n",
        "print(result_no_scale_manhattan)\n"
      ]
    },
    {
      "cell_type": "markdown",
      "metadata": {
        "id": "_mXQlapvnSMm"
      },
      "source": [
        "Escalando os dados"
      ]
    },
    {
      "cell_type": "code",
      "execution_count": null,
      "metadata": {
        "id": "kvVdWjzMnSMm"
      },
      "outputs": [],
      "source": [
        "from sklearn.preprocessing import MaxAbsScaler\n",
        "\n",
        "# Escalar os dados\n",
        "scaler = MaxAbsScaler()\n",
        "df_scaled = df.copy()\n",
        "df_scaled[feature_names] = scaler.fit_transform(df[feature_names])"
      ]
    },
    {
      "cell_type": "code",
      "execution_count": null,
      "metadata": {
        "id": "NM-PQc93nSMm",
        "outputId": "4d3df2d9-f8be-4408-961c-62625269d5b1"
      },
      "outputs": [
        {
          "name": "stdout",
          "output_type": "stream",
          "text": [
            "      gender       age    income  family_members  insurance_benefits\n",
            "2654     0.0  0.307692  0.465823        0.000000                   0\n",
            "2882     1.0  0.569231  0.535443        0.166667                   0\n",
            "4640     0.0  0.692308  0.382278        0.166667                   1\n",
            "1274     0.0  0.553846  0.669620        0.500000                   0\n",
            "766      1.0  0.446154  0.651899        0.833333                   0\n"
          ]
        }
      ],
      "source": [
        "# Visualizar uma amostra dos dados escalados\n",
        "print(df_scaled.sample(5))"
      ]
    },
    {
      "cell_type": "code",
      "execution_count": null,
      "metadata": {
        "id": "s9EbLwemnSMn",
        "outputId": "574332b8-eb36-4781-b104-1579be9fbac5"
      },
      "outputs": [
        {
          "name": "stdout",
          "output_type": "stream",
          "text": [
            "Dados escalados, métrica Euclidiana:\n",
            "      gender       age    income  family_members  insurance_benefits  distance\n",
            "0        1.0  0.630769  0.627848        0.166667                   0  0.000000\n",
            "2689     1.0  0.630769  0.634177        0.166667                   0  0.006329\n",
            "133      1.0  0.615385  0.636709        0.166667                   0  0.017754\n",
            "4869     1.0  0.646154  0.637975        0.166667                   1  0.018418\n",
            "3275     1.0  0.646154  0.651899        0.166667                   1  0.028550\n",
            "\n",
            "Dados escalados, métrica Manhattan:\n",
            "      gender       age    income  family_members  insurance_benefits  distance\n",
            "0        1.0  0.630769  0.627848        0.166667                   0  0.000000\n",
            "2689     1.0  0.630769  0.634177        0.166667                   0  0.006329\n",
            "133      1.0  0.615385  0.636709        0.166667                   0  0.024245\n",
            "4869     1.0  0.646154  0.637975        0.166667                   1  0.025511\n",
            "3365     1.0  0.630769  0.596203        0.166667                   0  0.031646\n"
          ]
        }
      ],
      "source": [
        "# Usar dados escalados, métrica Euclidiana\n",
        "print(\"Dados escalados, métrica Euclidiana:\")\n",
        "result_scaled_euclidean = get_knn(df_scaled, n=n, k=k, metric='euclidean')\n",
        "print(result_scaled_euclidean)\n",
        "\n",
        "# Usar dados escalados, métrica Manhattan\n",
        "print(\"\\nDados escalados, métrica Manhattan:\")\n",
        "result_scaled_manhattan = get_knn(df_scaled, n=n, k=k, metric='manhattan')\n",
        "print(result_scaled_manhattan)"
      ]
    },
    {
      "cell_type": "markdown",
      "metadata": {
        "id": "CqvmvQY0nSMn"
      },
      "source": [
        "Agora, vamos obter registros semelhantes para um determinado registro para cada combinação"
      ]
    },
    {
      "cell_type": "code",
      "execution_count": null,
      "metadata": {
        "id": "46xMn5fknSMn"
      },
      "outputs": [],
      "source": []
    },
    {
      "cell_type": "markdown",
      "metadata": {
        "id": "3XJkWIP3nSMn"
      },
      "source": [
        "Respostas para as perguntas"
      ]
    },
    {
      "cell_type": "markdown",
      "metadata": {
        "id": "p3q2RA8UnSMo"
      },
      "source": [
        "**Os dados não escalados afetam o algoritmo kNN? Se sim, como isso acontece?**\n",
        "\n",
        "Sim, os dados não escalados podem afetar o algoritmo kNN, pois características com magnitudes maiores, como income, podem dominar o cálculo das distâncias. Isso pode levar a uma seleção de vizinhos que são mais semelhantes em termos dessa característica dominante, enquanto outras características são subvalorizadas."
      ]
    },
    {
      "cell_type": "markdown",
      "metadata": {
        "id": "PTboszLjnSMo"
      },
      "source": [
        "**Quão semelhantes são os resultados usando a métrica de distância de Manhattan (independentemente da escalabilidade)?**\n",
        "\n",
        "A métrica de distância de Manhattan tende a ser menos sensível a outliers e variações extremas nas características. Os resultados usando a métrica de Manhattan podem ser mais consistentes entre os dados escalados e não escalados, especialmente se as características tiverem magnitudes semelhantes após o escalonamento."
      ]
    },
    {
      "cell_type": "markdown",
      "metadata": {
        "id": "SUPbHnvpnSMo"
      },
      "source": [
        "# Tarefa 2. É provável que o cliente receba um pagamento do seguro?"
      ]
    },
    {
      "cell_type": "markdown",
      "metadata": {
        "id": "w34pv7tYnSMp"
      },
      "source": [
        "Em termos de aprendizado de máquina, podemos olhar para isso como uma tarefa de classificação binária."
      ]
    },
    {
      "cell_type": "markdown",
      "metadata": {
        "id": "ZDi-EtRPnSMp"
      },
      "source": [
        "Com os pagamentos de seguro sendo mais do que zero como objetivo, avalie se a abordagem da classificação kNN pode ser melhor do que um modelo dummy.\n",
        "\n",
        "Instruções:\n",
        "- Construa um classificador baseado em kNN e meça sua qualidade com a métrica F1 para k=1..10 tanto para os dados originais quanto para os escalados. Seria interessante ver como k pode influenciar a métrica de avaliação e se a escalabilidade dos dados faz alguma diferença. Você pode usar uma implementação pronta do algoritmo de classificação kNN do scikit-learn (verifique [o link](https://scikit-learn.org/stable/modules/generated/sklearn.neighbors.KNeighborsClassifier.html)) ou usar a sua própria.\n",
        "- Construa o modelo dummy, que é aleatório para este caso. Deve retornar com alguma probabilidade o valor \"1\". LVamos testar o modelo com quatro valores de probabilidade: 0, a probabilidade de fazer qualquer pagamento de seguro, 0,5, 1.\n",
        "\n",
        "A probabilidade de fazer qualquer pagamento de seguro pode ser definida como\n",
        "\n",
        "$$\n",
        "P\\{\\text{pagamento de seguro recebido}= número de clientes que receberam qualquer pagamento de seguro}}{\\text{número total de clientes}}.\n",
        "$$\n",
        "\n",
        "Divida os dados inteiros na proporção 70:30 para as partes de treinamento/teste."
      ]
    },
    {
      "cell_type": "code",
      "execution_count": null,
      "metadata": {
        "id": "1v7j8xEOnSMp"
      },
      "outputs": [],
      "source": [
        "# calcule a meta\n",
        "df['insurance_benefits_received'] = (df['insurance_benefits'] > 0).astype(int)"
      ]
    },
    {
      "cell_type": "code",
      "execution_count": null,
      "metadata": {
        "id": "AvGvJ4tOnSMq",
        "outputId": "9d48dcc5-3fc9-4a2f-e292-4afe7c11488b"
      },
      "outputs": [
        {
          "name": "stdout",
          "output_type": "stream",
          "text": [
            "Distribuição de classes:\n",
            "0    0.8872\n",
            "1    0.1128\n",
            "Name: insurance_benefits_received, dtype: float64\n"
          ]
        }
      ],
      "source": [
        "# verifique o desequilíbrio de classe com value_counts()\n",
        "\n",
        "class_distribution = df['insurance_benefits_received'].value_counts(normalize=True)\n",
        "print(\"Distribuição de classes:\")\n",
        "print(class_distribution)"
      ]
    },
    {
      "cell_type": "code",
      "execution_count": null,
      "metadata": {
        "id": "P-Ny6LvYnSMq"
      },
      "outputs": [],
      "source": [
        "# Características e alvo\n",
        "feature_names = ['gender', 'age', 'income', 'family_members']\n",
        "X = df[feature_names]\n",
        "y = df['insurance_benefits_received']\n",
        "\n",
        "# Dividir os dados em treinamento e teste\n",
        "X_train, X_test, y_train, y_test = train_test_split(X, y, test_size=0.3, random_state=123, stratify=y)"
      ]
    },
    {
      "cell_type": "code",
      "execution_count": null,
      "metadata": {
        "id": "7v2oB14LnSMq",
        "outputId": "c0da3e63-890a-4951-c60e-45f644c88d54"
      },
      "outputs": [
        {
          "data": {
            "image/png": "[encoded data removed]",
            "text/plain": [
              "<Figure size 1000x600 with 1 Axes>"
            ]
          },
          "metadata": {},
          "output_type": "display_data"
        }
      ],
      "source": [
        "# Avaliar o classificador kNN\n",
        "from sklearn.neighbors import KNeighborsClassifier\n",
        "from sklearn.metrics import f1_score\n",
        "import matplotlib.pyplot as plt\n",
        "\n",
        "# Função para calcular o F1 score para diferentes valores de k\n",
        "def evaluate_knn(X_train, X_test, y_train, y_test, k_range=range(1, 11)):\n",
        "    f1_scores = []\n",
        "    for k in k_range:\n",
        "        knn = KNeighborsClassifier(n_neighbors=k)\n",
        "        knn.fit(X_train, y_train)\n",
        "        y_pred = knn.predict(X_test)\n",
        "        f1 = f1_score(y_test, y_pred)\n",
        "        f1_scores.append(f1)\n",
        "    return f1_scores\n",
        "\n",
        "# Avaliar kNN nos dados não escalados\n",
        "f1_scores_original = evaluate_knn(X_train, X_test, y_train, y_test)\n",
        "\n",
        "# Escalar os dados\n",
        "scaler = MaxAbsScaler()\n",
        "X_train_scaled = scaler.fit_transform(X_train)\n",
        "X_test_scaled = scaler.transform(X_test)\n",
        "\n",
        "# Avaliar kNN nos dados escalados\n",
        "f1_scores_scaled = evaluate_knn(X_train_scaled, X_test_scaled, y_train, y_test)\n",
        "\n",
        "# Visualizar os resultados\n",
        "plt.figure(figsize=(10, 6))\n",
        "plt.plot(range(1, 11), f1_scores_original, label='Original')\n",
        "plt.plot(range(1, 11), f1_scores_scaled, label='Escalados')\n",
        "plt.xlabel('Número de Vizinhos (k)')\n",
        "plt.ylabel('F1 Score')\n",
        "plt.title('F1 Score para Diferentes Valores de k')\n",
        "plt.legend()\n",
        "plt.grid()\n",
        "plt.show()"
      ]
    },
    {
      "cell_type": "code",
      "execution_count": null,
      "metadata": {
        "id": "jvrOT59fnSMr"
      },
      "outputs": [],
      "source": [
        "def eval_classifier(y_true, y_pred):\n",
        "\n",
        "    f1_score = sklearn.metrics.f1_score(y_true, y_pred)\n",
        "    print(f'F1: {f1_score:.2f}')\n",
        "\n",
        "# se você tiver um problema com a linha a seguir, reinicie o kernel e execute o caderno novamente\n",
        "    cm = sklearn.metrics.confusion_matrix(y_true, y_pred, normalize='all')\n",
        "    print('Matriz de Confusão')\n",
        "    print(cm)"
      ]
    },
    {
      "cell_type": "code",
      "execution_count": null,
      "metadata": {
        "id": "zhj0drXPnSMr"
      },
      "outputs": [],
      "source": [
        "# gerando saída de um modelo aleatório\n",
        "\n",
        "def rnd_model_predict(P, size, seed=123):\n",
        "\n",
        "    rng = np.random.default_rng(seed=seed)\n",
        "    return rng.binomial(n=1, p=P, size=size)"
      ]
    },
    {
      "cell_type": "code",
      "execution_count": null,
      "metadata": {
        "id": "xa66mcp1nSMr",
        "outputId": "78521ef9-cee0-42a7-d4ec-08f67f396418"
      },
      "outputs": [
        {
          "name": "stdout",
          "output_type": "stream",
          "text": [
            "A probabilidade: 0.00\n",
            "F1: 0.00\n",
            "Matriz de Confusão\n",
            "[[0.88733333 0.        ]\n",
            " [0.11266667 0.        ]]\n",
            "\n",
            "A probabilidade: 0.11\n",
            "F1: 0.12\n",
            "Matriz de Confusão\n",
            "[[0.78533333 0.102     ]\n",
            " [0.09866667 0.014     ]]\n",
            "\n",
            "A probabilidade: 0.50\n",
            "F1: 0.18\n",
            "Matriz de Confusão\n",
            "[[0.448      0.43933333]\n",
            " [0.05866667 0.054     ]]\n",
            "\n",
            "A probabilidade: 1.00\n",
            "F1: 0.20\n",
            "Matriz de Confusão\n",
            "[[0.         0.88733333]\n",
            " [0.         0.11266667]]\n",
            "\n"
          ]
        }
      ],
      "source": [
        "for P in [0, df['insurance_benefits_received'].sum() / len(df), 0.5, 1]:\n",
        "    print(f'A probabilidade: {P:.2f}')\n",
        "    y_pred_rnd = rnd_model_predict(P, len(y_test))\n",
        "\n",
        "    eval_classifier(y_test, y_pred_rnd)\n",
        "    print()"
      ]
    },
    {
      "cell_type": "markdown",
      "metadata": {
        "id": "kkCuFNkwnSMr"
      },
      "source": [
        "**Conclusões**\n",
        "\n",
        "*Efeito da Escala nos Dados:*\n",
        "\n",
        "A escalagem dos dados é crucial para o desempenho do modelo kNN. Sem escalagem, características com valores maiores tendem a dominar o cálculo de distância, afetando negativamente o desempenho.\n",
        "\n",
        "*kNN vs Modelo Dummy:*\n",
        "\n",
        "Mesmo o kNN simples com dados escalados supera o modelo dummy em termos de F1 score, indicando que ele consegue capturar padrões nos dados que o modelo dummy aleatório não consegue.\n",
        "\n",
        "*Importância da Escolha de k:*\n",
        "\n",
        "O valor de k influencia o desempenho do kNN, mas a diferença é menos pronunciada nos dados escalados, o que sugere que a escolha do valor de k deve ser acompanhada de uma boa pré-processamento dos dados."
      ]
    },
    {
      "cell_type": "code",
      "execution_count": null,
      "metadata": {
        "id": "sSMPorLrnSMs"
      },
      "outputs": [],
      "source": []
    },
    {
      "cell_type": "markdown",
      "metadata": {
        "id": "mJE0ULMOnSMs"
      },
      "source": [
        "# Tarefa 3. Regressão (com Regressão Linear)"
      ]
    },
    {
      "cell_type": "markdown",
      "metadata": {
        "id": "DnAptWkSnSMs"
      },
      "source": [
        "Com os pagamentos de seguro como objetivo, avalie qual seria o REQM para um modelo de Regressão Linear."
      ]
    },
    {
      "cell_type": "markdown",
      "metadata": {
        "id": "KvNYLjQsnSMs"
      },
      "source": [
        "Construa sua própria implementação de Regressão Linear. Para isso, lembre-se de como a solução da tarefa de regressão linear é formulada em termos de Álgebra linear. Verifique o REQM para os dados originais e os escalados. Você pode ver alguma diferença no REQM entre esses dois casos?\n",
        "\n",
        "Vamos denotar\n",
        "- $X$ — matriz de características, cada linha é um caso, cada coluna é uma característica, a primeira coluna consiste em unidades\n",
        "- $y$ — objetivo (um vetor)\n",
        "- $\\hat{y}$ — objetivo estimado (um vetor)- $w$ — vetor de peso\n",
        "\n",
        "A tarefa de regressão linear na linguagem de matrizes pode ser formulada como\n",
        "$$\n",
        "y = Xw\n",
        "$$\n",
        "\n",
        "O objetivo do treinamento, então, é encontrar os $w$ que minimizaria a distância L2 (EQM) entre $Xw$ e $y$:\n",
        "\n",
        "$$\n",
        "\\min_w d_2(Xw, y) \\quad \\text{or} \\quad \\min_w \\text{MSE}(Xw, y)\n",
        "$$\n",
        "\n",
        "Parece que há uma solução analítica para a questão acima:\n",
        "\n",
        "$$\n",
        "w = (X^T X)^{-1} X^T y\n",
        "$$\n",
        "\n",
        "A fórmula acima pode ser usada para encontrar os pesos $w$ e o último pode ser usado para calcular valores preditos\n",
        "\n",
        "$$\n",
        "\\hat{y} = X_{val}w\n",
        "$$"
      ]
    },
    {
      "cell_type": "markdown",
      "metadata": {
        "id": "JyefcKYinSMt"
      },
      "source": [
        "Divida todos os dados na proporção 70:30 para as partes de treinamento/validação. Use a métrica REQM para a avaliação do modelo."
      ]
    },
    {
      "cell_type": "code",
      "execution_count": null,
      "metadata": {
        "id": "GukQ3xcunSMt"
      },
      "outputs": [],
      "source": [
        "class MyLinearRegression:\n",
        "\n",
        "    def __init__(self):\n",
        "\n",
        "        self.weights = None\n",
        "\n",
        "    def fit(self, X, y):\n",
        "\n",
        "        # somando as unidades\n",
        "        X2 = np.append(np.ones([len(X), 1]), X, axis=1)\n",
        "        self.weights = np.linalg.inv(X2.T @ X2) @ X2.T @ y\n",
        "\n",
        "    def predict(self, X):\n",
        "\n",
        "        # somando as unidades\n",
        "        X2 = np.append(np.ones([len(X), 1]), X, axis=1)\n",
        "        # calculando a previsão\n",
        "        y_pred = X2 @ self.weights\n",
        "\n",
        "        return y_pred"
      ]
    },
    {
      "cell_type": "code",
      "execution_count": null,
      "metadata": {
        "id": "AAOC0xqHnSMt"
      },
      "outputs": [],
      "source": [
        "def eval_regressor(y_true, y_pred):\n",
        "\n",
        "    rmse = math.sqrt(sklearn.metrics.mean_squared_error(y_true, y_pred))\n",
        "    print(f'REQM: {rmse:.2f}')\n",
        "\n",
        "    r2_score = math.sqrt(sklearn.metrics.r2_score(y_true, y_pred))\n",
        "    print(f'R2: {r2_score:.2f}')"
      ]
    },
    {
      "cell_type": "code",
      "execution_count": null,
      "metadata": {
        "id": "beLvyKz6nSMt"
      },
      "outputs": [],
      "source": [
        "import math"
      ]
    },
    {
      "cell_type": "code",
      "execution_count": null,
      "metadata": {
        "id": "JmBm32q-nSMu",
        "outputId": "f8286455-039d-4545-d807-d754b1ccd46e"
      },
      "outputs": [
        {
          "name": "stdout",
          "output_type": "stream",
          "text": [
            "Modelo com dados originais:\n",
            "Pesos: [-9.14582870e-01  3.53803396e-02  1.20560585e-02 -4.16412924e-07\n",
            " -1.62446835e-02]\n",
            "REQM: 0.35\n",
            "R2: 0.65\n",
            "\n",
            "Modelo com dados escalados:\n",
            "Pesos: [ 0.15053259  0.29860875  0.00602802 -0.00412211 -0.01772746]\n",
            "REQM: 0.35\n",
            "R2: 0.65\n"
          ]
        }
      ],
      "source": [
        "# Dados originais\n",
        "X = df[['age', 'gender', 'income', 'family_members']].to_numpy()\n",
        "y = df['insurance_benefits'].to_numpy()\n",
        "\n",
        "# Escala os dados\n",
        "scaler = sklearn.preprocessing.StandardScaler().fit(X)\n",
        "X_scaled = scaler.transform(X)\n",
        "\n",
        "# Divide os dados em treinamento e teste\n",
        "X_train, X_test, y_train, y_test = train_test_split(X, y, test_size=0.3, random_state=123)\n",
        "X_scaled_train, X_scaled_test, _, _ = train_test_split(X_scaled, y, test_size=0.3, random_state=123)\n",
        "\n",
        "# Modelo com dados originais\n",
        "print(\"Modelo com dados originais:\")\n",
        "lr = MyLinearRegression()\n",
        "lr.fit(X_train, y_train)\n",
        "print(\"Pesos:\", lr.weights)\n",
        "\n",
        "y_test_pred = lr.predict(X_test)\n",
        "eval_regressor(y_test, y_test_pred)\n",
        "print()\n",
        "\n",
        "# Modelo com dados escalados\n",
        "print(\"Modelo com dados escalados:\")\n",
        "lr_scaled = MyLinearRegression()\n",
        "lr_scaled.fit(X_scaled_train, y_train)\n",
        "print(\"Pesos:\", lr_scaled.weights)\n",
        "\n",
        "y_scaled_test_pred = lr_scaled.predict(X_scaled_test)\n",
        "eval_regressor(y_test, y_scaled_test_pred)\n"
      ]
    },
    {
      "cell_type": "markdown",
      "metadata": {
        "id": "8zfwT2CnnSMu"
      },
      "source": [
        "Os resultados mostram que, para este caso, a escalagem dos dados não teve um impacto significativo no desempenho do modelo de regressão linear. Tanto o erro quadrático médio (REQM) quanto o coeficiente de determinação (R2) são idênticos para os modelos treinados com dados originais e escalados."
      ]
    },
    {
      "cell_type": "markdown",
      "metadata": {
        "id": "ywEss72tnSMu"
      },
      "source": [
        "# Tarefa 4. Ofuscando dados"
      ]
    },
    {
      "cell_type": "markdown",
      "metadata": {
        "id": "ufgW9xSZnSMu"
      },
      "source": [
        "É melhor ofuscar os dados multiplicando as características numéricas (lembre-se, elas podem ser vistos como a matriz $X$) por uma matriz invertível $P$.\n",
        "\n",
        "$$\n",
        "X' = X \\times P\n",
        "$$\n",
        "\n",
        "Tente fazer isso e verifique como os valores das características ficarão após a transformação. Aliás, a invertibilidade é importante aqui, portanto, certifique-se de que $P$ seja realmente invertível.\n",
        "\n",
        "Você pode querer revisar a lição 'Matrizes e Operações com Matrizes -> Multiplicação de Matrizes' para relembrar a regra de multiplicação de matrizes e sua implementação com NumPy."
      ]
    },
    {
      "cell_type": "code",
      "execution_count": null,
      "metadata": {
        "id": "QF9tR0KWnSMv"
      },
      "outputs": [],
      "source": [
        "personal_info_column_list = ['gender', 'age', 'income', 'family_members']\n",
        "df_pn = df[personal_info_column_list]"
      ]
    },
    {
      "cell_type": "code",
      "execution_count": null,
      "metadata": {
        "id": "ftNFY4mnnSMv"
      },
      "outputs": [],
      "source": [
        "X = df_pn.to_numpy()"
      ]
    },
    {
      "cell_type": "markdown",
      "metadata": {
        "id": "fmICeCYinSMv"
      },
      "source": [
        "Gerando uma matriz $P$ aleatória."
      ]
    },
    {
      "cell_type": "code",
      "execution_count": null,
      "metadata": {
        "id": "WBtKKPQtnSMv"
      },
      "outputs": [],
      "source": [
        "rng = np.random.default_rng(seed=42)\n",
        "P = rng.random(size=(X.shape[1], X.shape[1]))"
      ]
    },
    {
      "cell_type": "markdown",
      "metadata": {
        "id": "LGDjtWaGnSMv"
      },
      "source": [
        "Verificando se a matriz $P$ é invertível"
      ]
    },
    {
      "cell_type": "code",
      "execution_count": null,
      "metadata": {
        "id": "pAon5cFCnSMw",
        "outputId": "0b29b699-0413-467d-ef8b-f23ebcbe2a6a"
      },
      "outputs": [
        {
          "name": "stdout",
          "output_type": "stream",
          "text": [
            "Determinante de P: 0.24339135998015463\n",
            "A matriz P é invertível.\n",
            "Valores transformados das características:\n",
            "[[ 6359.71527314 22380.40467609 18424.09074184 46000.69669016]\n",
            " [ 4873.29406479 17160.36702982 14125.78076133 35253.45577301]\n",
            " [ 2693.11742928  9486.397744    7808.83156024 19484.86063067]\n",
            " [ 5345.60393712 18803.22720286 15479.14837264 38663.06186284]\n",
            " [ 3347.17673462 11782.82928336  9699.99894205 24211.27337753]]\n"
          ]
        }
      ],
      "source": [
        "det_P = np.linalg.det(P)\n",
        "print(f\"Determinante de P: {det_P}\")\n",
        "\n",
        "if det_P != 0:\n",
        "    print(\"A matriz P é invertível.\")\n",
        "else:\n",
        "    print(\"A matriz P não é invertível.\")\n",
        "\n",
        "# Multiplicando X por P para ofuscar os dados\n",
        "X_transformed = np.dot(X, P)\n",
        "\n",
        "# Exibindo os primeiros 5 valores transformados\n",
        "print(\"Valores transformados das características:\")\n",
        "print(X_transformed[:5])"
      ]
    },
    {
      "cell_type": "markdown",
      "metadata": {
        "id": "1-tzWGDLnSMw"
      },
      "source": [
        "Você consegue adivinhar a idade ou a renda dos clientes após a transformação?"
      ]
    },
    {
      "cell_type": "markdown",
      "metadata": {
        "id": "a3WR3AgynSMw"
      },
      "source": [
        "Não, não há como inferir diretamente os valores de idade ou renda a partir dos dados transformados."
      ]
    },
    {
      "cell_type": "markdown",
      "metadata": {
        "id": "ooHrB5NcnSMw"
      },
      "source": [
        "Você pode recuperar os dados originais de $X′$ se souber $P$? Tente verificar isso com cálculos movendo $P$ do lado direito da fórmula acima para o esquerdo. As regras da multiplicação de matrizes são realmente úteis aqui"
      ]
    },
    {
      "cell_type": "code",
      "execution_count": null,
      "metadata": {
        "id": "6YUOyYZenSMw",
        "outputId": "576faf43-f08f-4af3-9a68-d45095a368fc"
      },
      "outputs": [
        {
          "name": "stdout",
          "output_type": "stream",
          "text": [
            "Dados originais recuperados:\n",
            "[[ 1.00000001e+00  4.10000000e+01  4.96000000e+04  9.99999995e-01]\n",
            " [ 9.30527505e-10  4.60000000e+01  3.80000000e+04  9.99999994e-01]\n",
            " [ 4.29589187e-09  2.90000000e+01  2.10000000e+04  3.67931876e-09]\n",
            " [ 2.91334345e-10  2.10000000e+01  4.17000000e+04  2.00000001e+00]\n",
            " [ 1.00000000e+00  2.80000000e+01  2.61000000e+04 -7.86253027e-09]]\n"
          ]
        }
      ],
      "source": [
        "rng = np.random.default_rng(seed=42)\n",
        "P = rng.random(size=(4, 4))\n",
        "\n",
        "# Verifique se P é invertível e, em caso afirmativo, calcule a inversa\n",
        "P_inv = np.linalg.inv(P)\n",
        "\n",
        "# Dados transformados X'\n",
        "X_transformed = np.array([\n",
        "    [6359.71527314, 22380.40467609, 18424.09074184, 46000.69669016],\n",
        "    [4873.29406479, 17160.36702982, 14125.78076133, 35253.45577301],\n",
        "    [2693.11742928, 9486.397744, 7808.83156024, 19484.86063067],\n",
        "    [5345.60393712, 18803.22720286, 15479.14837264, 38663.06186284],\n",
        "    [3347.17673462, 11782.82928336, 9699.99894205, 24211.27337753]\n",
        "])\n",
        "\n",
        "# Recupere os dados originais X\n",
        "X_recovered = X_transformed.dot(P_inv)\n",
        "\n",
        "print(\"Dados originais recuperados:\")\n",
        "print(X_recovered)\n"
      ]
    },
    {
      "cell_type": "markdown",
      "metadata": {
        "id": "iG7QfUjZnSMx"
      },
      "source": [
        "Imprima todos os três casos para alguns clientes- Os dados originais\n",
        "- O transformado\n",
        "- O invertido (recuperado)"
      ]
    },
    {
      "cell_type": "code",
      "execution_count": null,
      "metadata": {
        "id": "ldCkYABanSMx",
        "outputId": "343dd098-a2b1-425e-f511-cb4c8d21b87c"
      },
      "outputs": [
        {
          "name": "stdout",
          "output_type": "stream",
          "text": [
            "Dados Originais:\n",
            "[[1.00e+00 4.10e+01 4.96e+04 1.00e+00]\n",
            " [0.00e+00 4.60e+01 3.80e+04 1.00e+00]\n",
            " [0.00e+00 2.90e+01 2.10e+04 0.00e+00]\n",
            " [0.00e+00 2.10e+01 4.17e+04 2.00e+00]\n",
            " [1.00e+00 2.80e+01 2.61e+04 0.00e+00]]\n",
            "\n",
            "Dados transformados:\n",
            "[[ 6359.71527314 22380.40467609 18424.09074184 46000.69669016]\n",
            " [ 4873.29406479 17160.36702982 14125.78076133 35253.45577301]\n",
            " [ 2693.11742928  9486.397744    7808.83156024 19484.86063067]\n",
            " [ 5345.60393712 18803.22720286 15479.14837264 38663.06186284]\n",
            " [ 3347.17673462 11782.82928336  9699.99894205 24211.27337753]]\n",
            "\n",
            "Dados recuperados:\n",
            "[[ 1.00000000e+00  4.10000000e+01  4.96000000e+04  1.00000000e+00]\n",
            " [-4.47363596e-12  4.60000000e+01  3.80000000e+04  1.00000000e+00]\n",
            " [-2.51586878e-12  2.90000000e+01  2.10000000e+04  9.52452315e-13]\n",
            " [-4.84498208e-12  2.10000000e+01  4.17000000e+04  2.00000000e+00]\n",
            " [ 1.00000000e+00  2.80000000e+01  2.61000000e+04 -1.01990740e-13]]\n"
          ]
        }
      ],
      "source": [
        "# Dados originais\n",
        "X_original = X[:5]\n",
        "print(\"Dados Originais:\")\n",
        "print(X_original)\n",
        "\n",
        "# Gerando a matriz P e sua inversa\n",
        "rng = np.random.default_rng(seed=42)\n",
        "P = rng.random(size=(X.shape[1], X.shape[1]))\n",
        "P_inv = np.linalg.inv(P)\n",
        "\n",
        "# Aplicando a transformação\n",
        "X_transformed = X @ P\n",
        "print(\"\\nDados transformados:\")\n",
        "print(X_transformed[:5])\n",
        "\n",
        "# Recuperando os dados originais\n",
        "X_recovered = X_transformed @ P_inv\n",
        "print(\"\\nDados recuperados:\")\n",
        "print(X_recovered[:5])\n"
      ]
    },
    {
      "cell_type": "markdown",
      "metadata": {
        "id": "5RKqlKa6nSMx"
      },
      "source": [
        "Você provavelmente pode ver que alguns valores não são exatamente iguais aos dos dados originais. Qual pode ser a razão disso?"
      ]
    },
    {
      "cell_type": "markdown",
      "metadata": {
        "id": "EqibT5qenSMx"
      },
      "source": [
        "A multiplicação e a inversão de matrizes são operações  que envolvem muitas operações. Cada uma dessas operações pode introduzir pequenos erros de arredondamento que se acumulam."
      ]
    },
    {
      "cell_type": "markdown",
      "metadata": {
        "id": "Bs4DI2tcnSMy"
      },
      "source": [
        "## Provas de que a ofuscação de dados pode funcionar com a Regressão Linear"
      ]
    },
    {
      "cell_type": "markdown",
      "metadata": {
        "id": "5SNmbqw7nSMy"
      },
      "source": [
        "A tarefa de regressão foi resolvida com regressão linear neste projeto. Sua próxima tarefa é provar analiticamente que o método de ofuscação fornecido não afetará a regressão linear em termos de valores preditos, ou seja, seus valores permanecerão os mesmos. Você acredita nisso? Bem, você não precisa acreditar, você deve provar isso!"
      ]
    },
    {
      "cell_type": "markdown",
      "metadata": {
        "id": "oVNyvcoWnSMy"
      },
      "source": [
        "Assim, os dados são ofuscados e há $X \\ P$ em vez de apenas X agora. Consequentemente, existem outros pesos $w_P$ como\n",
        "$$\n",
        "w = (X^T X)^{-1} X^T y \\quad \\Rightarrow \\quad w_P = [(XP)^T XP]^{-1} (XP)^T y\n",
        "$$\n",
        "\n",
        "Como  $w$ e $w_P$ seriam ligados se você simplificasse a fórmula para $w_P$ acima?\n",
        "\n",
        "Quais seriam os valores previstos com $w_P$?\n",
        "\n",
        "O que isso significa para a qualidade da regressão linear se você medir com REQM?\n",
        "\n",
        "Verifique o Apêndice B Propriedades das Matrizes no final do caderno. Existem fórmulas úteis lá!\n",
        "\n",
        "Nenhum código é necessário nesta seção, apenas explicação analítica!"
      ]
    },
    {
      "cell_type": "markdown",
      "metadata": {
        "id": "X6ywyor0nSMy"
      },
      "source": [
        "**Resposta**"
      ]
    },
    {
      "cell_type": "markdown",
      "metadata": {
        "id": "BdvALQvKnSMy"
      },
      "source": [
        "\n",
        "$w = (X^T X)^{-1} X^T y$\n",
        "$w_P = [(X P)^T (X P)]^{-1} (X P)^T y$\n",
        "\n",
        "\n",
        "\n",
        "$w_P = (P^T X^T X P)^{-1} (P^T X^T) y$\n",
        "\n",
        "\n",
        "$w_P = P^{-1} (X^T X)^{-1} X^T y = P^{-1} w$\n",
        "\n",
        "Os valores previstos usando $w_P$ seriam:\n",
        "\n",
        "$y_P = X' w_P = (X \\times P) (P^{-1} w) = X w = y$\n",
        "\n",
        "A simplificação acima mostra que, mesmo após a transformação $X′= X × P$, a equação de previsão permanece a mesma: $y_P = y$. Portanto, a ofuscação dos dados por meio da multiplicação por uma matriz invertível $P$ não afeta as previsões do modelo de regressão linear. Isso significa que a qualidade da regressão linear, medida pelo REQM, também permanece inalterada.\n",
        "\n"
      ]
    },
    {
      "cell_type": "markdown",
      "metadata": {
        "id": "gaUTX4OrnSMz"
      },
      "source": [
        "**Prova analítica**"
      ]
    },
    {
      "cell_type": "markdown",
      "metadata": {
        "id": "8BAnBKCznSMz"
      },
      "source": [
        "$w_P = P^{-1}w$"
      ]
    },
    {
      "cell_type": "markdown",
      "metadata": {
        "id": "qtCqq3TvnSMz"
      },
      "source": [
        "\n",
        "\n",
        "$$\n",
        "wp = [(XP)^T(XP)]^{-1}(XP)^Ty\n",
        "$$\n",
        "\n",
        "Simplificando a expressão utilizando a propriedade da transposição:\n",
        "$$\n",
        "wp = [(XP)^T(XP)]^{-1}P^TX^Ty\n",
        "$$\n",
        "\n",
        "Reorganizando os termos para obter a expressão na forma desejada:\n",
        "$$\n",
        "wp = [P^TX^TXP]^{-1}P^TX^Ty\n",
        "$$\n",
        "\n",
        "Aplicando a inversão de matrizes para simplificar a expressão:\n",
        "$$\n",
        "wp = P^{-1}(X^TX)^{-1}(P^T)^{-1}P^TX^Ty\n",
        "$$\n",
        "\n",
        "Introduzindo a matriz identidade:\n",
        "$$\n",
        "wp = P^{-1}(X^TX)^{-1}IX^Ty\n",
        "$$\n",
        "\n",
        "Recuperando a fórmula original da regressão linear:\n",
        "$$\n",
        "w = (X^TX)^{-1}X^Ty\n",
        "$$\n",
        "\n",
        "Conclusão:\n",
        "$$\n",
        "wp = P^{-1}w\n",
        "$$"
      ]
    },
    {
      "cell_type": "markdown",
      "metadata": {
        "id": "rSAJTR8GnSM0"
      },
      "source": [
        "## Teste de regressão linear com ofuscação de dados"
      ]
    },
    {
      "cell_type": "markdown",
      "metadata": {
        "id": "Jzel2AItnSM0"
      },
      "source": [
        "Agora, vamos provar que a Regressão Linear pode funcionar computacionalmente com a transformação de ofuscação escolhida.\n",
        "Crie um procedimento ou uma classe que execute a Regressão Linear opcionalmente com a ofuscação. Você pode usar uma implementação pronta de Regressão Linear do scikit-learn ou sua própria.\n",
        "\n",
        "Execute a Regressão Linear para os dados originais e os ofuscados, compare os valores previstos e os valores da métrica $R^2$ do REQM. Há alguma diferença?"
      ]
    },
    {
      "cell_type": "markdown",
      "metadata": {
        "id": "nH_d2PofnSM0"
      },
      "source": [
        "**Procedimento**\n",
        "\n",
        "- Crie uma matriz quadrada $P$ de números aleatórios.\n",
        "- Verifique se é invertível. Caso contrário, repita o primeiro ponto até obtermos uma matriz invertível.\n",
        "- <! seu comentário aqui!>\n",
        "- Use $XP$ como a nova matriz de características"
      ]
    },
    {
      "cell_type": "code",
      "execution_count": null,
      "metadata": {
        "id": "QKAt_flZnSM0"
      },
      "outputs": [],
      "source": [
        "from sklearn.linear_model import LinearRegression\n",
        "from sklearn.metrics import mean_squared_error, r2_score\n",
        "\n",
        "# Suponha que X e y sejam dados de entrada e saída\n",
        "\n",
        "# Criar a matriz quadrada P\n",
        "np.random.seed(123)  # Para reprodutibilidade\n",
        "P_size = X.shape[1]\n",
        "P = np.random.rand(P_size, P_size)\n",
        "\n",
        "# Verificar a invertibilidade de P\n",
        "while np.linalg.det(P) == 0:\n",
        "    P = np.random.rand(P_size, P_size)\n",
        "\n",
        "# Calcular X' = X * P\n",
        "X_prime = np.dot(X, P)\n",
        "\n",
        "# Criar e treinar o modelo de regressão linear nos dados originais\n",
        "model_original = LinearRegression().fit(X, y)\n",
        "y_pred_original = model_original.predict(X)\n",
        "\n",
        "# Criar e treinar o modelo de regressão linear nos dados ofuscados\n",
        "model_obfuscated = LinearRegression().fit(X_prime, y)\n",
        "y_pred_obfuscated = model_obfuscated.predict(X_prime)\n",
        "\n",
        "# Calcular métricas para os dados originais\n",
        "mse_original = mean_squared_error(y, y_pred_original)\n",
        "r2_original = r2_score(y, y_pred_original)\n",
        "\n",
        "# Calcular métricas para os dados ofuscados\n",
        "mse_obfuscated = mean_squared_error(y, y_pred_obfuscated)\n",
        "r2_obfuscated = r2_score(y, y_pred_obfuscated)\n"
      ]
    },
    {
      "cell_type": "code",
      "execution_count": null,
      "metadata": {
        "id": "GWPl1cSHnSM0",
        "outputId": "1da5d95d-5cbf-44a0-faad-5ea44c050062"
      },
      "outputs": [
        {
          "name": "stdout",
          "output_type": "stream",
          "text": [
            "Métricas para dados originais:\n",
            "REQM: 0.1233, R^2: 0.4249\n",
            "\n",
            "Métricas para dados ofuscados:\n",
            "REQM: 0.1233, R^2: 0.4249\n",
            "\n",
            "Diferença nos valores previstos (dados originais - dados ofuscados):\n",
            "True\n"
          ]
        }
      ],
      "source": [
        "print(\"Métricas para dados originais:\")\n",
        "print(f\"REQM: {mse_original:.4f}, R^2: {r2_original:.4f}\")\n",
        "\n",
        "print(\"\\nMétricas para dados ofuscados:\")\n",
        "print(f\"REQM: {mse_obfuscated:.4f}, R^2: {r2_obfuscated:.4f}\")\n",
        "\n",
        "# Comparar os valores previstos\n",
        "print(\"\\nDiferença nos valores previstos (dados originais - dados ofuscados):\")\n",
        "print(np.allclose(y_pred_original, y_pred_obfuscated))\n"
      ]
    },
    {
      "cell_type": "markdown",
      "metadata": {
        "id": "8M4rQcxenSM1"
      },
      "source": [
        "# Conclusões"
      ]
    },
    {
      "cell_type": "markdown",
      "metadata": {
        "id": "nTQVGIAznSM1"
      },
      "source": [
        "Inalterabilidade dos resultados:\n",
        "\n",
        "As métricas de desempenho $R^2$ e REQM para os dados originais e ofuscados são idênticas. Isso demonstra que a ofuscação dos dados não afeta a capacidade do modelo de prever o alvo com precisão. O método de ofuscação preserva as propriedades dos dados relevantes para a regressão linear.\n",
        "\n",
        "Integridade dos valores previstos:\n",
        "\n",
        "Os valores previstos para os dados originais e ofuscados são idênticos, indicando que a transformação dos dados com a matriz $P$ não altera as previsões feitas pelo modelo.\n",
        "\n",
        "Eficácia da ofuscação:\n",
        "\n",
        "A técnica de ofuscação usada é eficaz, pois permite que os dados sejam transformados sem perder informações críticas necessárias para a análise preditiva. Isso pode ser especialmente útil em cenários onde a proteção da privacidade é crucial, pois os dados podem ser ofuscados sem comprometer a análise."
      ]
    }
  ],
  "metadata": {
    "ExecuteTimeLog": [
      {
        "duration": 4250,
        "start_time": "2024-08-03T22:46:57.078Z"
      },
      {
        "duration": 5257,
        "start_time": "2024-08-03T22:47:01.333Z"
      },
      {
        "duration": 15,
        "start_time": "2024-08-03T22:47:06.593Z"
      },
      {
        "duration": 12,
        "start_time": "2024-08-03T22:47:06.611Z"
      },
      {
        "duration": 19,
        "start_time": "2024-08-03T22:47:06.627Z"
      },
      {
        "duration": 17,
        "start_time": "2024-08-03T22:47:06.650Z"
      },
      {
        "duration": 4,
        "start_time": "2024-08-03T22:47:06.671Z"
      },
      {
        "duration": 3,
        "start_time": "2024-08-03T22:47:06.678Z"
      },
      {
        "duration": 4,
        "start_time": "2024-08-03T22:47:06.724Z"
      },
      {
        "duration": 4904,
        "start_time": "2024-08-03T22:47:06.731Z"
      },
      {
        "duration": 4,
        "start_time": "2024-08-03T22:47:11.639Z"
      },
      {
        "duration": 10,
        "start_time": "2024-08-03T22:47:11.646Z"
      },
      {
        "duration": 0,
        "start_time": "2024-08-03T22:47:11.660Z"
      },
      {
        "duration": 0,
        "start_time": "2024-08-03T22:47:11.662Z"
      },
      {
        "duration": 0,
        "start_time": "2024-08-03T22:47:11.664Z"
      },
      {
        "duration": 0,
        "start_time": "2024-08-03T22:47:11.667Z"
      },
      {
        "duration": 0,
        "start_time": "2024-08-03T22:47:11.669Z"
      },
      {
        "duration": 0,
        "start_time": "2024-08-03T22:47:11.671Z"
      },
      {
        "duration": 0,
        "start_time": "2024-08-03T22:47:11.673Z"
      },
      {
        "duration": 1,
        "start_time": "2024-08-03T22:47:11.674Z"
      },
      {
        "duration": 0,
        "start_time": "2024-08-03T22:47:11.676Z"
      },
      {
        "duration": 0,
        "start_time": "2024-08-03T22:47:11.678Z"
      },
      {
        "duration": 0,
        "start_time": "2024-08-03T22:47:11.680Z"
      },
      {
        "duration": 0,
        "start_time": "2024-08-03T22:47:11.682Z"
      },
      {
        "duration": 0,
        "start_time": "2024-08-03T22:47:11.723Z"
      },
      {
        "duration": 3881,
        "start_time": "2024-08-03T22:47:45.203Z"
      },
      {
        "duration": 1562,
        "start_time": "2024-08-03T22:47:51.606Z"
      },
      {
        "duration": 11,
        "start_time": "2024-08-03T22:47:55.808Z"
      },
      {
        "duration": 5,
        "start_time": "2024-08-03T22:48:00.781Z"
      },
      {
        "duration": 18,
        "start_time": "2024-08-03T22:48:03.573Z"
      },
      {
        "duration": 14,
        "start_time": "2024-08-03T22:48:09.308Z"
      },
      {
        "duration": 423,
        "start_time": "2024-08-03T22:50:04.274Z"
      },
      {
        "duration": 4,
        "start_time": "2024-08-03T22:50:18.733Z"
      },
      {
        "duration": 7,
        "start_time": "2024-08-03T22:50:31.473Z"
      },
      {
        "duration": 14,
        "start_time": "2024-08-03T22:50:55.470Z"
      },
      {
        "duration": 24,
        "start_time": "2024-08-03T22:52:20.717Z"
      },
      {
        "duration": 4810,
        "start_time": "2024-08-03T23:06:53.381Z"
      },
      {
        "duration": 4,
        "start_time": "2024-08-03T23:13:31.268Z"
      },
      {
        "duration": 10,
        "start_time": "2024-08-03T23:13:37.795Z"
      },
      {
        "duration": 7,
        "start_time": "2024-08-03T23:18:21.721Z"
      },
      {
        "duration": 27,
        "start_time": "2024-08-03T23:18:31.795Z"
      },
      {
        "duration": 31,
        "start_time": "2024-08-03T23:19:57.931Z"
      },
      {
        "duration": 15,
        "start_time": "2024-08-03T23:20:30.047Z"
      },
      {
        "duration": 14,
        "start_time": "2024-08-03T23:20:32.242Z"
      },
      {
        "duration": 52,
        "start_time": "2024-08-03T23:21:54.673Z"
      },
      {
        "duration": 3882,
        "start_time": "2024-08-03T23:22:45.194Z"
      },
      {
        "duration": 1530,
        "start_time": "2024-08-03T23:22:49.080Z"
      },
      {
        "duration": 13,
        "start_time": "2024-08-03T23:22:50.613Z"
      },
      {
        "duration": 6,
        "start_time": "2024-08-03T23:22:50.633Z"
      },
      {
        "duration": 19,
        "start_time": "2024-08-03T23:22:50.642Z"
      },
      {
        "duration": 15,
        "start_time": "2024-08-03T23:22:50.664Z"
      },
      {
        "duration": 5,
        "start_time": "2024-08-03T23:22:50.722Z"
      },
      {
        "duration": 16,
        "start_time": "2024-08-03T23:22:50.730Z"
      },
      {
        "duration": 4,
        "start_time": "2024-08-03T23:22:50.749Z"
      },
      {
        "duration": 24,
        "start_time": "2024-08-03T23:22:50.759Z"
      },
      {
        "duration": 4816,
        "start_time": "2024-08-03T23:22:50.823Z"
      },
      {
        "duration": 3,
        "start_time": "2024-08-03T23:22:55.643Z"
      },
      {
        "duration": 9,
        "start_time": "2024-08-03T23:22:55.649Z"
      },
      {
        "duration": 14,
        "start_time": "2024-08-03T23:22:55.662Z"
      },
      {
        "duration": 13,
        "start_time": "2024-08-03T23:22:55.679Z"
      },
      {
        "duration": 483,
        "start_time": "2024-08-03T23:22:55.695Z"
      },
      {
        "duration": 0,
        "start_time": "2024-08-03T23:22:56.181Z"
      },
      {
        "duration": 0,
        "start_time": "2024-08-03T23:22:56.183Z"
      },
      {
        "duration": 0,
        "start_time": "2024-08-03T23:22:56.185Z"
      },
      {
        "duration": 0,
        "start_time": "2024-08-03T23:22:56.187Z"
      },
      {
        "duration": 0,
        "start_time": "2024-08-03T23:22:56.190Z"
      },
      {
        "duration": 0,
        "start_time": "2024-08-03T23:22:56.193Z"
      },
      {
        "duration": 0,
        "start_time": "2024-08-03T23:22:56.194Z"
      },
      {
        "duration": 0,
        "start_time": "2024-08-03T23:22:56.223Z"
      },
      {
        "duration": 0,
        "start_time": "2024-08-03T23:22:56.224Z"
      },
      {
        "duration": 0,
        "start_time": "2024-08-03T23:22:56.227Z"
      },
      {
        "duration": 0,
        "start_time": "2024-08-03T23:22:56.229Z"
      },
      {
        "duration": 4,
        "start_time": "2024-08-03T23:33:06.811Z"
      },
      {
        "duration": 10,
        "start_time": "2024-08-03T23:33:09.073Z"
      },
      {
        "duration": 27,
        "start_time": "2024-08-03T23:33:25.470Z"
      },
      {
        "duration": 24,
        "start_time": "2024-08-03T23:41:54.516Z"
      },
      {
        "duration": 16,
        "start_time": "2024-08-03T23:42:06.341Z"
      },
      {
        "duration": 9,
        "start_time": "2024-08-03T23:42:08.864Z"
      },
      {
        "duration": 55,
        "start_time": "2024-08-03T23:42:39.274Z"
      },
      {
        "duration": 5,
        "start_time": "2024-08-04T00:04:11.822Z"
      },
      {
        "duration": 7,
        "start_time": "2024-08-04T00:04:21.866Z"
      },
      {
        "duration": 10,
        "start_time": "2024-08-04T00:08:09.703Z"
      },
      {
        "duration": 1812,
        "start_time": "2024-08-04T00:08:48.754Z"
      },
      {
        "duration": 5,
        "start_time": "2024-08-04T00:09:41.324Z"
      },
      {
        "duration": 4,
        "start_time": "2024-08-04T00:09:51.964Z"
      },
      {
        "duration": 7,
        "start_time": "2024-08-04T00:10:00.350Z"
      },
      {
        "duration": 476,
        "start_time": "2024-08-04T00:10:27.616Z"
      },
      {
        "duration": 23,
        "start_time": "2024-08-04T00:10:38.851Z"
      },
      {
        "duration": 5,
        "start_time": "2024-08-04T00:11:38.251Z"
      },
      {
        "duration": 6,
        "start_time": "2024-08-04T00:11:48.721Z"
      },
      {
        "duration": 4303,
        "start_time": "2024-08-05T17:40:57.566Z"
      },
      {
        "duration": 5269,
        "start_time": "2024-08-05T17:41:01.874Z"
      },
      {
        "duration": 22,
        "start_time": "2024-08-05T17:41:07.149Z"
      },
      {
        "duration": 5,
        "start_time": "2024-08-05T17:41:07.175Z"
      },
      {
        "duration": 19,
        "start_time": "2024-08-05T17:41:07.187Z"
      },
      {
        "duration": 16,
        "start_time": "2024-08-05T17:41:07.208Z"
      },
      {
        "duration": 43,
        "start_time": "2024-08-05T17:41:07.227Z"
      },
      {
        "duration": 17,
        "start_time": "2024-08-05T17:41:07.273Z"
      },
      {
        "duration": 4,
        "start_time": "2024-08-05T17:41:07.294Z"
      },
      {
        "duration": 24,
        "start_time": "2024-08-05T17:41:07.302Z"
      },
      {
        "duration": 4953,
        "start_time": "2024-08-05T17:41:07.371Z"
      },
      {
        "duration": 4,
        "start_time": "2024-08-05T17:41:12.328Z"
      },
      {
        "duration": 7,
        "start_time": "2024-08-05T17:41:12.336Z"
      },
      {
        "duration": 41,
        "start_time": "2024-08-05T17:41:12.351Z"
      },
      {
        "duration": 16,
        "start_time": "2024-08-05T17:41:12.395Z"
      },
      {
        "duration": 10,
        "start_time": "2024-08-05T17:41:12.413Z"
      },
      {
        "duration": 86,
        "start_time": "2024-08-05T17:41:12.427Z"
      },
      {
        "duration": 6,
        "start_time": "2024-08-05T17:41:12.516Z"
      },
      {
        "duration": 7,
        "start_time": "2024-08-05T17:41:12.525Z"
      },
      {
        "duration": 40,
        "start_time": "2024-08-05T17:41:12.535Z"
      },
      {
        "duration": 1776,
        "start_time": "2024-08-05T17:41:12.578Z"
      },
      {
        "duration": 8,
        "start_time": "2024-08-05T17:41:14.360Z"
      },
      {
        "duration": 5,
        "start_time": "2024-08-05T17:41:14.371Z"
      },
      {
        "duration": 6,
        "start_time": "2024-08-05T17:41:14.380Z"
      },
      {
        "duration": 22,
        "start_time": "2024-08-05T17:41:14.389Z"
      },
      {
        "duration": 53,
        "start_time": "2024-08-05T17:41:14.414Z"
      },
      {
        "duration": 0,
        "start_time": "2024-08-05T17:41:14.470Z"
      },
      {
        "duration": 0,
        "start_time": "2024-08-05T17:41:14.472Z"
      },
      {
        "duration": 0,
        "start_time": "2024-08-05T17:41:14.474Z"
      },
      {
        "duration": 0,
        "start_time": "2024-08-05T17:41:14.476Z"
      },
      {
        "duration": 0,
        "start_time": "2024-08-05T17:41:14.479Z"
      },
      {
        "duration": 6,
        "start_time": "2024-08-05T18:05:11.966Z"
      },
      {
        "duration": 5,
        "start_time": "2024-08-05T18:05:25.076Z"
      },
      {
        "duration": 658,
        "start_time": "2024-08-05T18:05:52.099Z"
      },
      {
        "duration": 5,
        "start_time": "2024-08-05T18:05:57.808Z"
      },
      {
        "duration": 131,
        "start_time": "2024-08-05T18:07:48.139Z"
      },
      {
        "duration": 3,
        "start_time": "2024-08-05T18:08:22.732Z"
      },
      {
        "duration": 14,
        "start_time": "2024-08-05T18:08:24.716Z"
      },
      {
        "duration": 33,
        "start_time": "2024-08-05T18:37:28.362Z"
      },
      {
        "duration": 18,
        "start_time": "2024-08-05T18:39:06.595Z"
      },
      {
        "duration": 14,
        "start_time": "2024-08-05T18:39:36.229Z"
      },
      {
        "duration": 3934,
        "start_time": "2024-08-05T18:39:50.392Z"
      },
      {
        "duration": 1538,
        "start_time": "2024-08-05T18:39:54.330Z"
      },
      {
        "duration": 14,
        "start_time": "2024-08-05T18:39:55.871Z"
      },
      {
        "duration": 6,
        "start_time": "2024-08-05T18:39:55.890Z"
      },
      {
        "duration": 22,
        "start_time": "2024-08-05T18:39:55.898Z"
      },
      {
        "duration": 54,
        "start_time": "2024-08-05T18:39:55.923Z"
      },
      {
        "duration": 5,
        "start_time": "2024-08-05T18:39:55.980Z"
      },
      {
        "duration": 14,
        "start_time": "2024-08-05T18:39:55.988Z"
      },
      {
        "duration": 4,
        "start_time": "2024-08-05T18:39:56.005Z"
      },
      {
        "duration": 70,
        "start_time": "2024-08-05T18:39:56.015Z"
      },
      {
        "duration": 4981,
        "start_time": "2024-08-05T18:39:56.088Z"
      },
      {
        "duration": 4,
        "start_time": "2024-08-05T18:40:01.071Z"
      },
      {
        "duration": 9,
        "start_time": "2024-08-05T18:40:01.079Z"
      },
      {
        "duration": 26,
        "start_time": "2024-08-05T18:40:01.092Z"
      },
      {
        "duration": 51,
        "start_time": "2024-08-05T18:40:01.121Z"
      },
      {
        "duration": 10,
        "start_time": "2024-08-05T18:40:01.175Z"
      },
      {
        "duration": 84,
        "start_time": "2024-08-05T18:40:01.189Z"
      },
      {
        "duration": 5,
        "start_time": "2024-08-05T18:40:01.277Z"
      },
      {
        "duration": 8,
        "start_time": "2024-08-05T18:40:01.286Z"
      },
      {
        "duration": 11,
        "start_time": "2024-08-05T18:40:01.297Z"
      },
      {
        "duration": 1927,
        "start_time": "2024-08-05T18:40:01.311Z"
      },
      {
        "duration": 5,
        "start_time": "2024-08-05T18:40:03.241Z"
      },
      {
        "duration": 4,
        "start_time": "2024-08-05T18:40:03.267Z"
      },
      {
        "duration": 24,
        "start_time": "2024-08-05T18:40:03.274Z"
      },
      {
        "duration": 7,
        "start_time": "2024-08-05T18:40:03.301Z"
      },
      {
        "duration": 6,
        "start_time": "2024-08-05T18:40:03.311Z"
      },
      {
        "duration": 3,
        "start_time": "2024-08-05T18:40:03.321Z"
      },
      {
        "duration": 17,
        "start_time": "2024-08-05T18:40:03.374Z"
      },
      {
        "duration": 76,
        "start_time": "2024-08-05T18:40:03.396Z"
      },
      {
        "duration": 5,
        "start_time": "2024-08-05T18:40:03.475Z"
      },
      {
        "duration": 4,
        "start_time": "2024-08-05T18:40:03.484Z"
      },
      {
        "duration": 76,
        "start_time": "2024-08-05T18:40:03.492Z"
      },
      {
        "duration": 22,
        "start_time": "2024-08-05T18:41:50.840Z"
      },
      {
        "duration": 22,
        "start_time": "2024-08-05T18:42:03.249Z"
      },
      {
        "duration": 22,
        "start_time": "2024-08-05T18:42:10.385Z"
      },
      {
        "duration": 14,
        "start_time": "2024-08-05T18:42:24.579Z"
      },
      {
        "duration": 4043,
        "start_time": "2024-08-05T18:42:55.706Z"
      },
      {
        "duration": 1594,
        "start_time": "2024-08-05T18:42:59.753Z"
      },
      {
        "duration": 17,
        "start_time": "2024-08-05T18:43:01.351Z"
      },
      {
        "duration": 5,
        "start_time": "2024-08-05T18:43:01.373Z"
      },
      {
        "duration": 19,
        "start_time": "2024-08-05T18:43:01.381Z"
      },
      {
        "duration": 15,
        "start_time": "2024-08-05T18:43:01.402Z"
      },
      {
        "duration": 48,
        "start_time": "2024-08-05T18:43:01.420Z"
      },
      {
        "duration": 15,
        "start_time": "2024-08-05T18:43:01.470Z"
      },
      {
        "duration": 5,
        "start_time": "2024-08-05T18:43:01.488Z"
      },
      {
        "duration": 22,
        "start_time": "2024-08-05T18:43:01.499Z"
      },
      {
        "duration": 4957,
        "start_time": "2024-08-05T18:43:01.524Z"
      },
      {
        "duration": 4,
        "start_time": "2024-08-05T18:43:06.485Z"
      },
      {
        "duration": 7,
        "start_time": "2024-08-05T18:43:06.492Z"
      },
      {
        "duration": 27,
        "start_time": "2024-08-05T18:43:06.502Z"
      },
      {
        "duration": 40,
        "start_time": "2024-08-05T18:43:06.532Z"
      },
      {
        "duration": 11,
        "start_time": "2024-08-05T18:43:06.575Z"
      },
      {
        "duration": 87,
        "start_time": "2024-08-05T18:43:06.590Z"
      },
      {
        "duration": 6,
        "start_time": "2024-08-05T18:43:06.680Z"
      },
      {
        "duration": 7,
        "start_time": "2024-08-05T18:43:06.689Z"
      },
      {
        "duration": 11,
        "start_time": "2024-08-05T18:43:06.700Z"
      },
      {
        "duration": 1815,
        "start_time": "2024-08-05T18:43:06.714Z"
      },
      {
        "duration": 5,
        "start_time": "2024-08-05T18:43:08.532Z"
      },
      {
        "duration": 27,
        "start_time": "2024-08-05T18:43:08.541Z"
      },
      {
        "duration": 23,
        "start_time": "2024-08-05T18:43:08.572Z"
      },
      {
        "duration": 7,
        "start_time": "2024-08-05T18:43:08.598Z"
      },
      {
        "duration": 5,
        "start_time": "2024-08-05T18:43:08.608Z"
      },
      {
        "duration": 3,
        "start_time": "2024-08-05T18:43:08.617Z"
      },
      {
        "duration": 6,
        "start_time": "2024-08-05T18:43:08.669Z"
      },
      {
        "duration": 23,
        "start_time": "2024-08-05T18:43:08.677Z"
      },
      {
        "duration": 65,
        "start_time": "2024-08-05T18:43:08.704Z"
      },
      {
        "duration": 9,
        "start_time": "2024-08-05T18:43:08.772Z"
      },
      {
        "duration": 6,
        "start_time": "2024-08-05T18:43:08.784Z"
      },
      {
        "duration": 5,
        "start_time": "2024-08-05T18:53:28.759Z"
      },
      {
        "duration": 3,
        "start_time": "2024-08-05T18:53:29.956Z"
      },
      {
        "duration": 4,
        "start_time": "2024-08-05T18:53:32.206Z"
      },
      {
        "duration": 6,
        "start_time": "2024-08-05T18:55:32.720Z"
      },
      {
        "duration": 5,
        "start_time": "2024-08-05T18:58:17.024Z"
      },
      {
        "duration": 7,
        "start_time": "2024-08-05T18:58:58.339Z"
      },
      {
        "duration": 8,
        "start_time": "2024-08-05T19:02:29.464Z"
      },
      {
        "duration": 4231,
        "start_time": "2024-08-06T14:55:43.361Z"
      },
      {
        "duration": 5058,
        "start_time": "2024-08-06T14:55:47.597Z"
      },
      {
        "duration": 18,
        "start_time": "2024-08-06T14:55:52.658Z"
      },
      {
        "duration": 5,
        "start_time": "2024-08-06T14:55:52.681Z"
      },
      {
        "duration": 30,
        "start_time": "2024-08-06T14:55:52.692Z"
      },
      {
        "duration": 15,
        "start_time": "2024-08-06T14:55:52.724Z"
      },
      {
        "duration": 5,
        "start_time": "2024-08-06T14:55:52.742Z"
      },
      {
        "duration": 14,
        "start_time": "2024-08-06T14:55:52.751Z"
      },
      {
        "duration": 3,
        "start_time": "2024-08-06T14:55:52.808Z"
      },
      {
        "duration": 25,
        "start_time": "2024-08-06T14:55:52.814Z"
      },
      {
        "duration": 4883,
        "start_time": "2024-08-06T14:55:52.842Z"
      },
      {
        "duration": 4,
        "start_time": "2024-08-06T14:55:57.728Z"
      },
      {
        "duration": 7,
        "start_time": "2024-08-06T14:55:57.735Z"
      },
      {
        "duration": 121,
        "start_time": "2024-08-06T14:55:57.751Z"
      },
      {
        "duration": 33,
        "start_time": "2024-08-06T14:55:57.875Z"
      },
      {
        "duration": 10,
        "start_time": "2024-08-06T14:55:57.912Z"
      },
      {
        "duration": 83,
        "start_time": "2024-08-06T14:55:57.926Z"
      },
      {
        "duration": 6,
        "start_time": "2024-08-06T14:55:58.012Z"
      },
      {
        "duration": 8,
        "start_time": "2024-08-06T14:55:58.022Z"
      },
      {
        "duration": 11,
        "start_time": "2024-08-06T14:55:58.035Z"
      },
      {
        "duration": 1831,
        "start_time": "2024-08-06T14:55:58.049Z"
      },
      {
        "duration": 5,
        "start_time": "2024-08-06T14:55:59.883Z"
      },
      {
        "duration": 4,
        "start_time": "2024-08-06T14:55:59.908Z"
      },
      {
        "duration": 22,
        "start_time": "2024-08-06T14:55:59.918Z"
      },
      {
        "duration": 7,
        "start_time": "2024-08-06T14:55:59.943Z"
      },
      {
        "duration": 6,
        "start_time": "2024-08-06T14:55:59.953Z"
      },
      {
        "duration": 4,
        "start_time": "2024-08-06T14:55:59.963Z"
      },
      {
        "duration": 22,
        "start_time": "2024-08-06T14:56:00.009Z"
      },
      {
        "duration": 74,
        "start_time": "2024-08-06T14:56:00.036Z"
      },
      {
        "duration": 4,
        "start_time": "2024-08-06T14:56:00.113Z"
      },
      {
        "duration": 5,
        "start_time": "2024-08-06T14:56:00.120Z"
      },
      {
        "duration": 82,
        "start_time": "2024-08-06T14:56:00.129Z"
      },
      {
        "duration": 8,
        "start_time": "2024-08-06T15:09:59.364Z"
      },
      {
        "duration": 10,
        "start_time": "2024-08-06T15:11:04.022Z"
      },
      {
        "duration": 4243,
        "start_time": "2024-08-06T18:26:10.556Z"
      },
      {
        "duration": 5128,
        "start_time": "2024-08-06T18:26:14.803Z"
      },
      {
        "duration": 20,
        "start_time": "2024-08-06T18:26:19.934Z"
      },
      {
        "duration": 5,
        "start_time": "2024-08-06T18:26:19.958Z"
      },
      {
        "duration": 19,
        "start_time": "2024-08-06T18:26:19.966Z"
      },
      {
        "duration": 42,
        "start_time": "2024-08-06T18:26:19.988Z"
      },
      {
        "duration": 6,
        "start_time": "2024-08-06T18:26:20.032Z"
      },
      {
        "duration": 15,
        "start_time": "2024-08-06T18:26:20.042Z"
      },
      {
        "duration": 4,
        "start_time": "2024-08-06T18:26:20.063Z"
      },
      {
        "duration": 66,
        "start_time": "2024-08-06T18:26:20.073Z"
      },
      {
        "duration": 4897,
        "start_time": "2024-08-06T18:26:20.142Z"
      },
      {
        "duration": 4,
        "start_time": "2024-08-06T18:26:25.043Z"
      },
      {
        "duration": 8,
        "start_time": "2024-08-06T18:26:25.051Z"
      },
      {
        "duration": 125,
        "start_time": "2024-08-06T18:26:25.062Z"
      },
      {
        "duration": 17,
        "start_time": "2024-08-06T18:26:25.189Z"
      },
      {
        "duration": 10,
        "start_time": "2024-08-06T18:26:25.223Z"
      },
      {
        "duration": 60,
        "start_time": "2024-08-06T18:26:25.236Z"
      },
      {
        "duration": 5,
        "start_time": "2024-08-06T18:26:25.324Z"
      },
      {
        "duration": 7,
        "start_time": "2024-08-06T18:26:25.332Z"
      },
      {
        "duration": 11,
        "start_time": "2024-08-06T18:26:25.342Z"
      },
      {
        "duration": 1957,
        "start_time": "2024-08-06T18:26:25.356Z"
      },
      {
        "duration": 10,
        "start_time": "2024-08-06T18:26:27.315Z"
      },
      {
        "duration": 5,
        "start_time": "2024-08-06T18:26:27.328Z"
      },
      {
        "duration": 26,
        "start_time": "2024-08-06T18:26:27.337Z"
      },
      {
        "duration": 8,
        "start_time": "2024-08-06T18:26:27.366Z"
      },
      {
        "duration": 47,
        "start_time": "2024-08-06T18:26:27.376Z"
      },
      {
        "duration": 3,
        "start_time": "2024-08-06T18:26:27.426Z"
      },
      {
        "duration": 19,
        "start_time": "2024-08-06T18:26:27.436Z"
      },
      {
        "duration": 68,
        "start_time": "2024-08-06T18:26:27.457Z"
      },
      {
        "duration": 4,
        "start_time": "2024-08-06T18:26:27.529Z"
      },
      {
        "duration": 4,
        "start_time": "2024-08-06T18:26:27.536Z"
      },
      {
        "duration": 84,
        "start_time": "2024-08-06T18:26:27.543Z"
      },
      {
        "duration": 9,
        "start_time": "2024-08-06T18:26:27.631Z"
      },
      {
        "duration": 85,
        "start_time": "2024-08-06T18:26:27.642Z"
      },
      {
        "duration": 4320,
        "start_time": "2024-08-07T11:33:07.432Z"
      },
      {
        "duration": 5184,
        "start_time": "2024-08-07T11:33:11.755Z"
      },
      {
        "duration": 18,
        "start_time": "2024-08-07T11:33:16.942Z"
      },
      {
        "duration": 6,
        "start_time": "2024-08-07T11:33:16.963Z"
      },
      {
        "duration": 36,
        "start_time": "2024-08-07T11:33:16.972Z"
      },
      {
        "duration": 15,
        "start_time": "2024-08-07T11:33:17.011Z"
      },
      {
        "duration": 5,
        "start_time": "2024-08-07T11:33:17.030Z"
      },
      {
        "duration": 56,
        "start_time": "2024-08-07T11:33:17.039Z"
      },
      {
        "duration": 4,
        "start_time": "2024-08-07T11:33:17.098Z"
      },
      {
        "duration": 24,
        "start_time": "2024-08-07T11:33:17.108Z"
      },
      {
        "duration": 5079,
        "start_time": "2024-08-07T11:33:17.136Z"
      },
      {
        "duration": 4,
        "start_time": "2024-08-07T11:33:22.218Z"
      },
      {
        "duration": 7,
        "start_time": "2024-08-07T11:33:22.226Z"
      },
      {
        "duration": 126,
        "start_time": "2024-08-07T11:33:22.237Z"
      },
      {
        "duration": 29,
        "start_time": "2024-08-07T11:33:22.366Z"
      },
      {
        "duration": 10,
        "start_time": "2024-08-07T11:33:22.397Z"
      },
      {
        "duration": 85,
        "start_time": "2024-08-07T11:33:22.410Z"
      },
      {
        "duration": 11,
        "start_time": "2024-08-07T11:33:22.497Z"
      },
      {
        "duration": 8,
        "start_time": "2024-08-07T11:33:22.512Z"
      },
      {
        "duration": 17,
        "start_time": "2024-08-07T11:33:22.523Z"
      },
      {
        "duration": 1856,
        "start_time": "2024-08-07T11:33:22.543Z"
      },
      {
        "duration": 5,
        "start_time": "2024-08-07T11:33:24.402Z"
      },
      {
        "duration": 4,
        "start_time": "2024-08-07T11:33:24.411Z"
      },
      {
        "duration": 22,
        "start_time": "2024-08-07T11:33:24.419Z"
      },
      {
        "duration": 47,
        "start_time": "2024-08-07T11:33:24.445Z"
      },
      {
        "duration": 5,
        "start_time": "2024-08-07T11:33:24.495Z"
      },
      {
        "duration": 4,
        "start_time": "2024-08-07T11:33:24.504Z"
      },
      {
        "duration": 74,
        "start_time": "2024-08-07T11:33:24.516Z"
      },
      {
        "duration": 8,
        "start_time": "2024-08-07T11:33:24.596Z"
      },
      {
        "duration": 79,
        "start_time": "2024-08-07T11:33:24.612Z"
      },
      {
        "duration": 5,
        "start_time": "2024-08-07T11:33:24.693Z"
      },
      {
        "duration": 7,
        "start_time": "2024-08-07T11:33:24.702Z"
      },
      {
        "duration": 9,
        "start_time": "2024-08-07T11:33:24.713Z"
      },
      {
        "duration": 73,
        "start_time": "2024-08-07T11:33:24.725Z"
      },
      {
        "duration": 4275,
        "start_time": "2024-08-07T20:35:28.747Z"
      },
      {
        "duration": 5213,
        "start_time": "2024-08-07T20:35:33.026Z"
      },
      {
        "duration": 17,
        "start_time": "2024-08-07T20:35:38.242Z"
      },
      {
        "duration": 5,
        "start_time": "2024-08-07T20:35:38.263Z"
      },
      {
        "duration": 20,
        "start_time": "2024-08-07T20:35:38.273Z"
      },
      {
        "duration": 15,
        "start_time": "2024-08-07T20:35:38.296Z"
      },
      {
        "duration": 5,
        "start_time": "2024-08-07T20:35:38.315Z"
      },
      {
        "duration": 57,
        "start_time": "2024-08-07T20:35:38.323Z"
      },
      {
        "duration": 4,
        "start_time": "2024-08-07T20:35:38.382Z"
      },
      {
        "duration": 24,
        "start_time": "2024-08-07T20:35:38.394Z"
      },
      {
        "duration": 4931,
        "start_time": "2024-08-07T20:35:38.421Z"
      },
      {
        "duration": 4,
        "start_time": "2024-08-07T20:35:43.355Z"
      },
      {
        "duration": 7,
        "start_time": "2024-08-07T20:35:43.362Z"
      },
      {
        "duration": 28,
        "start_time": "2024-08-07T20:35:43.373Z"
      },
      {
        "duration": 17,
        "start_time": "2024-08-07T20:35:43.404Z"
      },
      {
        "duration": 47,
        "start_time": "2024-08-07T20:35:43.423Z"
      },
      {
        "duration": 57,
        "start_time": "2024-08-07T20:35:43.473Z"
      },
      {
        "duration": 5,
        "start_time": "2024-08-07T20:35:43.533Z"
      },
      {
        "duration": 30,
        "start_time": "2024-08-07T20:35:43.542Z"
      },
      {
        "duration": 11,
        "start_time": "2024-08-07T20:35:43.575Z"
      },
      {
        "duration": 1852,
        "start_time": "2024-08-07T20:35:43.589Z"
      },
      {
        "duration": 5,
        "start_time": "2024-08-07T20:35:45.445Z"
      },
      {
        "duration": 5,
        "start_time": "2024-08-07T20:35:45.469Z"
      },
      {
        "duration": 24,
        "start_time": "2024-08-07T20:35:45.477Z"
      },
      {
        "duration": 6,
        "start_time": "2024-08-07T20:35:45.504Z"
      },
      {
        "duration": 6,
        "start_time": "2024-08-07T20:35:45.513Z"
      },
      {
        "duration": 46,
        "start_time": "2024-08-07T20:35:45.522Z"
      },
      {
        "duration": 23,
        "start_time": "2024-08-07T20:35:45.577Z"
      },
      {
        "duration": 66,
        "start_time": "2024-08-07T20:35:45.603Z"
      },
      {
        "duration": 5,
        "start_time": "2024-08-07T20:35:45.671Z"
      },
      {
        "duration": 5,
        "start_time": "2024-08-07T20:35:45.679Z"
      },
      {
        "duration": 82,
        "start_time": "2024-08-07T20:35:45.687Z"
      },
      {
        "duration": 15,
        "start_time": "2024-08-07T20:35:45.772Z"
      },
      {
        "duration": 81,
        "start_time": "2024-08-07T20:35:45.790Z"
      },
      {
        "duration": 15,
        "start_time": "2024-08-07T21:16:20.790Z"
      },
      {
        "duration": 6,
        "start_time": "2024-08-07T21:22:02.348Z"
      },
      {
        "duration": 8,
        "start_time": "2024-08-07T21:22:15.004Z"
      },
      {
        "duration": 4072,
        "start_time": "2024-08-07T21:31:15.769Z"
      },
      {
        "duration": 1547,
        "start_time": "2024-08-07T21:31:19.844Z"
      },
      {
        "duration": 12,
        "start_time": "2024-08-07T21:31:21.395Z"
      },
      {
        "duration": 5,
        "start_time": "2024-08-07T21:31:21.411Z"
      },
      {
        "duration": 18,
        "start_time": "2024-08-07T21:31:21.420Z"
      },
      {
        "duration": 15,
        "start_time": "2024-08-07T21:31:21.469Z"
      },
      {
        "duration": 5,
        "start_time": "2024-08-07T21:31:21.487Z"
      },
      {
        "duration": 14,
        "start_time": "2024-08-07T21:31:21.496Z"
      },
      {
        "duration": 4,
        "start_time": "2024-08-07T21:31:21.513Z"
      },
      {
        "duration": 23,
        "start_time": "2024-08-07T21:31:21.569Z"
      },
      {
        "duration": 4880,
        "start_time": "2024-08-07T21:31:21.596Z"
      },
      {
        "duration": 5,
        "start_time": "2024-08-07T21:31:26.480Z"
      },
      {
        "duration": 6,
        "start_time": "2024-08-07T21:31:26.489Z"
      },
      {
        "duration": 27,
        "start_time": "2024-08-07T21:31:26.499Z"
      },
      {
        "duration": 45,
        "start_time": "2024-08-07T21:31:26.529Z"
      },
      {
        "duration": 12,
        "start_time": "2024-08-07T21:31:26.577Z"
      },
      {
        "duration": 83,
        "start_time": "2024-08-07T21:31:26.592Z"
      },
      {
        "duration": 6,
        "start_time": "2024-08-07T21:31:26.678Z"
      },
      {
        "duration": 7,
        "start_time": "2024-08-07T21:31:26.687Z"
      },
      {
        "duration": 12,
        "start_time": "2024-08-07T21:31:26.697Z"
      },
      {
        "duration": 1816,
        "start_time": "2024-08-07T21:31:26.712Z"
      },
      {
        "duration": 6,
        "start_time": "2024-08-07T21:31:28.531Z"
      },
      {
        "duration": 6,
        "start_time": "2024-08-07T21:31:28.540Z"
      },
      {
        "duration": 25,
        "start_time": "2024-08-07T21:31:28.569Z"
      },
      {
        "duration": 7,
        "start_time": "2024-08-07T21:31:28.597Z"
      },
      {
        "duration": 5,
        "start_time": "2024-08-07T21:31:28.607Z"
      },
      {
        "duration": 4,
        "start_time": "2024-08-07T21:31:28.616Z"
      },
      {
        "duration": 31,
        "start_time": "2024-08-07T21:31:28.667Z"
      },
      {
        "duration": 66,
        "start_time": "2024-08-07T21:31:28.702Z"
      },
      {
        "duration": 10,
        "start_time": "2024-08-07T21:31:28.773Z"
      },
      {
        "duration": 82,
        "start_time": "2024-08-07T21:31:28.786Z"
      },
      {
        "duration": 9,
        "start_time": "2024-08-07T21:31:28.873Z"
      },
      {
        "duration": 11,
        "start_time": "2024-08-07T21:31:28.886Z"
      },
      {
        "duration": 77,
        "start_time": "2024-08-07T21:31:28.901Z"
      },
      {
        "duration": 90,
        "start_time": "2024-08-07T21:31:28.981Z"
      },
      {
        "duration": 7,
        "start_time": "2024-08-07T21:31:29.075Z"
      },
      {
        "duration": 4,
        "start_time": "2024-08-07T21:38:31.993Z"
      },
      {
        "duration": 733,
        "start_time": "2024-08-07T21:38:36.105Z"
      },
      {
        "duration": 6,
        "start_time": "2024-08-07T21:38:47.345Z"
      },
      {
        "duration": 7,
        "start_time": "2024-08-07T21:38:48.755Z"
      },
      {
        "duration": 11,
        "start_time": "2024-08-07T21:38:50.385Z"
      },
      {
        "duration": 1908,
        "start_time": "2024-08-07T21:38:53.053Z"
      },
      {
        "duration": 5,
        "start_time": "2024-08-07T21:38:57.918Z"
      },
      {
        "duration": 6,
        "start_time": "2024-08-07T21:38:59.884Z"
      },
      {
        "duration": 24,
        "start_time": "2024-08-07T21:39:01.779Z"
      },
      {
        "duration": 4043,
        "start_time": "2024-08-07T21:41:52.585Z"
      },
      {
        "duration": 1632,
        "start_time": "2024-08-07T21:41:56.632Z"
      },
      {
        "duration": 17,
        "start_time": "2024-08-07T21:41:58.267Z"
      },
      {
        "duration": 6,
        "start_time": "2024-08-07T21:41:58.293Z"
      },
      {
        "duration": 24,
        "start_time": "2024-08-07T21:41:58.306Z"
      },
      {
        "duration": 38,
        "start_time": "2024-08-07T21:41:58.336Z"
      },
      {
        "duration": 6,
        "start_time": "2024-08-07T21:41:58.378Z"
      },
      {
        "duration": 20,
        "start_time": "2024-08-07T21:41:58.388Z"
      },
      {
        "duration": 5,
        "start_time": "2024-08-07T21:41:58.412Z"
      },
      {
        "duration": 67,
        "start_time": "2024-08-07T21:41:58.424Z"
      },
      {
        "duration": 4949,
        "start_time": "2024-08-07T21:41:58.495Z"
      },
      {
        "duration": 4,
        "start_time": "2024-08-07T21:42:03.448Z"
      },
      {
        "duration": 8,
        "start_time": "2024-08-07T21:42:03.455Z"
      },
      {
        "duration": 29,
        "start_time": "2024-08-07T21:42:03.465Z"
      },
      {
        "duration": 16,
        "start_time": "2024-08-07T21:42:03.497Z"
      },
      {
        "duration": 10,
        "start_time": "2024-08-07T21:42:03.516Z"
      },
      {
        "duration": 92,
        "start_time": "2024-08-07T21:42:03.529Z"
      },
      {
        "duration": 5,
        "start_time": "2024-08-07T21:42:03.625Z"
      },
      {
        "duration": 9,
        "start_time": "2024-08-07T21:42:03.633Z"
      },
      {
        "duration": 13,
        "start_time": "2024-08-07T21:42:03.669Z"
      },
      {
        "duration": 1839,
        "start_time": "2024-08-07T21:42:03.685Z"
      },
      {
        "duration": 5,
        "start_time": "2024-08-07T21:42:05.527Z"
      },
      {
        "duration": 5,
        "start_time": "2024-08-07T21:42:05.535Z"
      },
      {
        "duration": 46,
        "start_time": "2024-08-07T21:42:05.543Z"
      },
      {
        "duration": 7,
        "start_time": "2024-08-07T21:42:05.591Z"
      },
      {
        "duration": 5,
        "start_time": "2024-08-07T21:42:05.601Z"
      },
      {
        "duration": 4,
        "start_time": "2024-08-07T21:42:05.609Z"
      },
      {
        "duration": 57,
        "start_time": "2024-08-07T21:42:05.620Z"
      },
      {
        "duration": 5,
        "start_time": "2024-08-07T21:42:05.680Z"
      },
      {
        "duration": 5,
        "start_time": "2024-08-07T21:42:05.688Z"
      },
      {
        "duration": 5,
        "start_time": "2024-08-07T21:42:05.770Z"
      },
      {
        "duration": 7,
        "start_time": "2024-08-07T21:42:05.779Z"
      },
      {
        "duration": 82,
        "start_time": "2024-08-07T21:42:05.790Z"
      },
      {
        "duration": 10,
        "start_time": "2024-08-07T21:42:05.875Z"
      },
      {
        "duration": 88,
        "start_time": "2024-08-07T21:42:05.888Z"
      },
      {
        "duration": 6,
        "start_time": "2024-08-07T21:42:05.979Z"
      }
    ],
    "kernelspec": {
      "display_name": "Python 3 (ipykernel)",
      "language": "python",
      "name": "python3"
    },
    "language_info": {
      "codemirror_mode": {
        "name": "ipython",
        "version": 3
      },
      "file_extension": ".py",
      "mimetype": "text/x-python",
      "name": "python",
      "nbconvert_exporter": "python",
      "pygments_lexer": "ipython3",
      "version": "3.9.19"
    },
    "toc": {
      "base_numbering": 1,
      "nav_menu": {},
      "number_sections": true,
      "sideBar": true,
      "skip_h1_title": true,
      "title_cell": "Índice",
      "title_sidebar": "Conteúdos ",
      "toc_cell": false,
      "toc_position": {},
      "toc_section_display": true,
      "toc_window_display": false
    },
    "colab": {
      "provenance": [],
      "include_colab_link": true
    }
  },
  "nbformat": 4,
  "nbformat_minor": 0
}