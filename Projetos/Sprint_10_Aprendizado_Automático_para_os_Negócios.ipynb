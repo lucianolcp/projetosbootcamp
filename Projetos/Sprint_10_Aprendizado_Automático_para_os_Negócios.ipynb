{
  "cells": [
    {
      "cell_type": "markdown",
      "metadata": {
        "id": "view-in-github",
        "colab_type": "text"
      },
      "source": [
        "<a href=\"https://colab.research.google.com/github/lucianolcp/projetosbootcamp/blob/main/Projetos/Sprint_10_Aprendizado_Autom%C3%A1tico_para_os_Neg%C3%B3cios.ipynb\" target=\"_parent\"><img src=\"https://colab.research.google.com/assets/colab-badge.svg\" alt=\"Open In Colab\"/></a>"
      ]
    },
    {
      "cell_type": "markdown",
      "metadata": {
        "id": "EEh0P-WfpJoL"
      },
      "source": [
        "# Projeto OilyGiant"
      ]
    },
    {
      "cell_type": "markdown",
      "metadata": {
        "id": "bGR-m0GnpJoM"
      },
      "source": [
        "## Baixar e preparar os dados"
      ]
    },
    {
      "cell_type": "code",
      "execution_count": null,
      "metadata": {
        "id": "hnXpFQP4pJoN"
      },
      "outputs": [],
      "source": [
        "# Importar bibliotecas pandas\n",
        "import pandas as pd"
      ]
    },
    {
      "cell_type": "code",
      "execution_count": null,
      "metadata": {
        "id": "DIJxXz_VpJoO",
        "outputId": "d0f4efca-e2ea-404a-bf8e-8926e448412c"
      },
      "outputs": [
        {
          "name": "stdout",
          "output_type": "stream",
          "text": [
            "Região 0:\n",
            "      id        f0        f1        f2     product\n",
            "0  txEyH  0.705745 -0.497823  1.221170  105.280062\n",
            "1  2acmU  1.334711 -0.340164  4.365080   73.037750\n",
            "2  409Wp  1.022732  0.151990  1.419926   85.265647\n",
            "3  iJLyR -0.032172  0.139033  2.978566  168.620776\n",
            "4  Xdl7t  1.988431  0.155413  4.751769  154.036647\n",
            "\n",
            "Região 1:\n",
            "      id         f0         f1        f2     product\n",
            "0  kBEdx -15.001348  -8.276000 -0.005876    3.179103\n",
            "1  62mP7  14.272088  -3.475083  0.999183   26.953261\n",
            "2  vyE1P   6.263187  -5.948386  5.001160  134.766305\n",
            "3  KcrkZ -13.081196 -11.506057  4.999415  137.945408\n",
            "4  AHL4O  12.702195  -8.147433  5.004363  134.766305\n",
            "\n",
            "Região 2:\n",
            "      id        f0        f1        f2     product\n",
            "0  fwXo0 -1.146987  0.963328 -0.828965   27.758673\n",
            "1  WJtFt  0.262778  0.269839 -2.530187   56.069697\n",
            "2  ovLUW  0.194587  0.289035 -5.586433   62.871910\n",
            "3  q6cA6  2.236060 -0.553760  0.930038  114.572842\n",
            "4  WPMUX -0.515993  1.716266  5.899011  149.600746\n"
          ]
        }
      ],
      "source": [
        "# Carregar os dados\n",
        "df_region_0 = pd.read_csv('sprint10/geo_data_0.csv')\n",
        "df_region_1 = pd.read_csv('sprint10/geo_data_1.csv')\n",
        "df_region_2 = pd.read_csv('sprint10/geo_data_2.csv')\n",
        "\n",
        "# Explorar os dados\n",
        "print(\"Região 0:\")\n",
        "print(df_region_0.head())\n",
        "\n",
        "print(\"\\nRegião 1:\")\n",
        "print(df_region_1.head())\n",
        "\n",
        "print(\"\\nRegião 2:\")\n",
        "print(df_region_2.head())"
      ]
    },
    {
      "cell_type": "code",
      "execution_count": null,
      "metadata": {
        "id": "pJsS-VeBpJoP",
        "outputId": "6a60e98d-fe6a-4f32-d99b-69c12b4505f5"
      },
      "outputs": [
        {
          "name": "stdout",
          "output_type": "stream",
          "text": [
            "Região 0:\n",
            "<class 'pandas.core.frame.DataFrame'>\n",
            "RangeIndex: 100000 entries, 0 to 99999\n",
            "Data columns (total 5 columns):\n",
            " #   Column   Non-Null Count   Dtype  \n",
            "---  ------   --------------   -----  \n",
            " 0   id       100000 non-null  object \n",
            " 1   f0       100000 non-null  float64\n",
            " 2   f1       100000 non-null  float64\n",
            " 3   f2       100000 non-null  float64\n",
            " 4   product  100000 non-null  float64\n",
            "dtypes: float64(4), object(1)\n",
            "memory usage: 3.8+ MB\n",
            "None\n",
            "\n",
            "Região 1:\n",
            "<class 'pandas.core.frame.DataFrame'>\n",
            "RangeIndex: 100000 entries, 0 to 99999\n",
            "Data columns (total 5 columns):\n",
            " #   Column   Non-Null Count   Dtype  \n",
            "---  ------   --------------   -----  \n",
            " 0   id       100000 non-null  object \n",
            " 1   f0       100000 non-null  float64\n",
            " 2   f1       100000 non-null  float64\n",
            " 3   f2       100000 non-null  float64\n",
            " 4   product  100000 non-null  float64\n",
            "dtypes: float64(4), object(1)\n",
            "memory usage: 3.8+ MB\n",
            "None\n",
            "\n",
            "Região 2:\n",
            "<class 'pandas.core.frame.DataFrame'>\n",
            "RangeIndex: 100000 entries, 0 to 99999\n",
            "Data columns (total 5 columns):\n",
            " #   Column   Non-Null Count   Dtype  \n",
            "---  ------   --------------   -----  \n",
            " 0   id       100000 non-null  object \n",
            " 1   f0       100000 non-null  float64\n",
            " 2   f1       100000 non-null  float64\n",
            " 3   f2       100000 non-null  float64\n",
            " 4   product  100000 non-null  float64\n",
            "dtypes: float64(4), object(1)\n",
            "memory usage: 3.8+ MB\n",
            "None\n"
          ]
        }
      ],
      "source": [
        "# Explorar as informações dos DataFrames\n",
        "print(\"Região 0:\")\n",
        "print(df_region_0.info())\n",
        "\n",
        "print(\"\\nRegião 1:\")\n",
        "print(df_region_1.info())\n",
        "\n",
        "print(\"\\nRegião 2:\")\n",
        "print(df_region_2.info())"
      ]
    },
    {
      "cell_type": "markdown",
      "metadata": {
        "id": "TzHG-6xGpJoP"
      },
      "source": [
        "## Treinar e testar o modelo para cada região"
      ]
    },
    {
      "cell_type": "code",
      "execution_count": null,
      "metadata": {
        "id": "vDPJgZhJpJoQ"
      },
      "outputs": [],
      "source": [
        "# Importar bibliotecas\n",
        "from sklearn.model_selection import train_test_split\n",
        "from sklearn.linear_model import LinearRegression\n",
        "from sklearn.metrics import mean_squared_error"
      ]
    },
    {
      "cell_type": "code",
      "execution_count": null,
      "metadata": {
        "id": "IAbziqMKpJoQ",
        "outputId": "e948ab4a-8c8c-4a14-a37c-555cf92bca94"
      },
      "outputs": [
        {
          "name": "stdout",
          "output_type": "stream",
          "text": [
            "Região 0 - Volume médio previsto de reservas: 92.55\n",
            "Região 0 - REQM do modelo: 37.65\n",
            "\n",
            "Região 1 - Volume médio previsto de reservas: 69.28\n",
            "Região 1 - REQM do modelo: 0.90\n",
            "\n",
            "Região 2 - Volume médio previsto de reservas: 95.10\n",
            "Região 2 - REQM do modelo: 40.13\n"
          ]
        }
      ],
      "source": [
        "def train_and_evaluate(data, region_name):\n",
        "    # Separar as features e o target\n",
        "    features = data.drop(['id', 'product'], axis=1)\n",
        "    target = data['product']\n",
        "\n",
        "    # 2.1 Dividir os dados em conjuntos de treinamento e validação\n",
        "    X_train, X_valid, y_train, y_valid = train_test_split(features, target, test_size=0.25, random_state=123)\n",
        "\n",
        "    # 2.2 Treinar o modelo de regressão linear\n",
        "    model = LinearRegression()\n",
        "    model.fit(X_train, y_train)\n",
        "\n",
        "    # 2.3 Fazer predições no conjunto de validação\n",
        "    predictions = model.predict(X_valid)\n",
        "\n",
        "    # 2.4 Salvar predições e respostas corretas\n",
        "    valid_results = pd.DataFrame({'predictions': predictions, 'actual': y_valid})\n",
        "\n",
        "    # 2.5 Calcular e imprimir o volume médio previsto de reservas e o REQM\n",
        "    mean_volume_predicted = predictions.mean()\n",
        "    rmse = mean_squared_error(y_valid, predictions, squared=False)\n",
        "\n",
        "    # Imprimir os resultados\n",
        "    print(f\"Região {region_name} - Volume médio previsto de reservas: {mean_volume_predicted:.2f}\")\n",
        "    print(f\"Região {region_name} - REQM do modelo: {rmse:.2f}\")\n",
        "\n",
        "    # Retornar resultados de validação para análise posterior\n",
        "    return valid_results\n",
        "\n",
        "# Executar a função para cada região\n",
        "results_region_0 = train_and_evaluate(df_region_0, \"0\")\n",
        "print()\n",
        "results_region_1 = train_and_evaluate(df_region_1, \"1\")\n",
        "print()\n",
        "results_region_2 = train_and_evaluate(df_region_2, \"2\")"
      ]
    },
    {
      "cell_type": "markdown",
      "metadata": {
        "id": "h-mnF53NpJoQ"
      },
      "source": [
        "## Preparar para o cálculo de lucro"
      ]
    },
    {
      "cell_type": "markdown",
      "metadata": {
        "id": "6_O9vaQVpJoQ"
      },
      "source": [
        "3.1 Armazenar todos os valores necessários para os cálculos em variáveis separadas\n",
        "\n",
        "Definir algumas variáveis que serão utilizadas nos cálculos de lucro:\n",
        "\n",
        "- Custo: 100 milhões de dólares divididos por 200 poços.\n",
        "- Receita por mil barris: 4,5 mil dólares.\n",
        "\n",
        "3.2 Comparar a quantidade mínima necessária com o volume médio de cada região\n",
        "\n",
        "Com base nos volumes médios previstos que obtivemos, pode-se verificar se as regiões atendem à quantidade mínima necessária.\n",
        "\n",
        "3.4 Fornecer conclusões sobre a etapa de preparação"
      ]
    },
    {
      "cell_type": "code",
      "execution_count": null,
      "metadata": {
        "id": "A6EvxHUdpJoR",
        "outputId": "4a2c1ff2-b0b3-499c-9a6b-8d19e77a1ade"
      },
      "outputs": [
        {
          "name": "stdout",
          "output_type": "stream",
          "text": [
            "Volume mínimo necessário para evitar prejuízo: 111.11 mil barris\n",
            "\n",
            "Região 0 - Volume médio previsto: 92.55 mil barris\n",
            "Região 0 NÃO atende a quantidade mínima necessária para evitar prejuízo.\n",
            "\n",
            "Região 1 - Volume médio previsto: 69.28 mil barris\n",
            "Região 1 NÃO atende a quantidade mínima necessária para evitar prejuízo.\n",
            "\n",
            "Região 2 - Volume médio previsto: 95.10 mil barris\n",
            "Região 2 NÃO atende a quantidade mínima necessária para evitar prejuízo.\n"
          ]
        }
      ],
      "source": [
        "# Definindo variáveis de custo e preço\n",
        "budget = 100_000_000  # Orçamento total em dólares\n",
        "number_of_wells = 200  # Número de poços de petróleo\n",
        "revenue_per_unit = 4_500  # Receita por mil barris\n",
        "minimum_units_needed = budget / number_of_wells / revenue_per_unit\n",
        "\n",
        "# Volumes médios previstos por região (usando os resultados anteriores)\n",
        "average_volume_region_0 = 92.55\n",
        "average_volume_region_1 = 69.28\n",
        "average_volume_region_2 = 95.10\n",
        "\n",
        "# Comparação de volume médio previsto com o volume mínimo necessário\n",
        "print(f\"Volume mínimo necessário para evitar prejuízo: {minimum_units_needed:.2f} mil barris\")\n",
        "print()\n",
        "# Análise\n",
        "print(f\"Região 0 - Volume médio previsto: {average_volume_region_0:.2f} mil barris\")\n",
        "\n",
        "if average_volume_region_0 >= minimum_units_needed:\n",
        "    print(\"Região 0 atende a quantidade mínima necessária para evitar prejuízo.\")\n",
        "else:\n",
        "    print(\"Região 0 NÃO atende a quantidade mínima necessária para evitar prejuízo.\")\n",
        "print()\n",
        "print(f\"Região 1 - Volume médio previsto: {average_volume_region_1:.2f} mil barris\")\n",
        "\n",
        "if average_volume_region_1 >= minimum_units_needed:\n",
        "    print(\"Região 1 atende a quantidade mínima necessária para evitar prejuízo.\")\n",
        "else:\n",
        "    print(\"Região 1 NÃO atende a quantidade mínima necessária para evitar prejuízo.\")\n",
        "print()\n",
        "print(f\"Região 2 - Volume médio previsto: {average_volume_region_2:.2f} mil barris\")\n",
        "if average_volume_region_2 >= minimum_units_needed:\n",
        "    print(\"Região 2 atende a quantidade mínima necessária para evitar prejuízo.\")\n",
        "else:\n",
        "    print(\"Região 2 NÃO atende a quantidade mínima necessária para evitar prejuízo.\")\n"
      ]
    },
    {
      "cell_type": "markdown",
      "metadata": {
        "id": "_W8z79bEpJoR"
      },
      "source": [
        "**Conclusão**\n",
        "\n",
        "Com base nos resultados, todas as regiões apresentam um volume médio previsto de reservas inferior à quantidade mínima necessária de 111,11 mil barris por poço para evitar prejuízos. Isso significa que, em média, nenhuma das regiões seria capaz de cobrir o investimento apenas com base nos volumes médios previstos."
      ]
    },
    {
      "cell_type": "markdown",
      "metadata": {
        "id": "F4WkQPMmpJoR"
      },
      "source": [
        "## Calcular lucro dos poços selecionados\n",
        "\n",
        "4.1 Escolher os 200 poços com os valores mais altos previstos de cada uma das 3 regiões\n",
        "\n",
        "4.2 Sumarizar o volume alvo de reservas de acordo com essas predições\n",
        "\n",
        "4.3 Calcular o lucro potencial dos 200 melhores poços por região"
      ]
    },
    {
      "cell_type": "code",
      "execution_count": null,
      "metadata": {
        "id": "JY9tmNgipJoR",
        "outputId": "57053624-8b38-4d3f-b6f1-9672d79bd588"
      },
      "outputs": [
        {
          "name": "stdout",
          "output_type": "stream",
          "text": [
            "Região 0 - Lucro potencial: $35346709.17\n",
            "Região 1 - Lucro potencial: $24150866.97\n",
            "Região 2 - Lucro potencial: $23703438.63\n"
          ]
        }
      ],
      "source": [
        "def calculate_profit(predictions, actual, region_name):\n",
        "    # Ordenar poços por predições de volume (em ordem decrescente) e selecionar os 200 melhores\n",
        "    top_200_indices = predictions.nlargest(200).index\n",
        "    selected_reserves = actual.loc[top_200_indices].sum()\n",
        "\n",
        "    # Calcular lucro potencial\n",
        "    profit = selected_reserves * revenue_per_unit - budget\n",
        "\n",
        "    # Imprimir resultados\n",
        "    print(f\"Região {region_name} - Lucro potencial: ${profit:.2f}\")\n",
        "\n",
        "    return profit\n",
        "\n",
        "# Calcular lucro para cada região\n",
        "profit_region_0 = calculate_profit(results_region_0['predictions'], results_region_0['actual'], \"0\")\n",
        "profit_region_1 = calculate_profit(results_region_1['predictions'], results_region_1['actual'], \"1\")\n",
        "profit_region_2 = calculate_profit(results_region_2['predictions'], results_region_2['actual'], \"2\")"
      ]
    },
    {
      "cell_type": "markdown",
      "metadata": {
        "id": "UOuUloUEpJoS"
      },
      "source": [
        "**Conclusão**\n",
        "\n",
        "Região 0:\n",
        "\n",
        "Lucro Potencial: $35.346.709,17\n",
        "\n",
        "Justificativa:\n",
        "\n",
        "Maior Lucro Potencial: Com o maior valor de lucro potencial, a Região 0 é a mais atrativa para investimento, indicando uma maior concentração de poços de alto rendimento.\n",
        "\n",
        "Alta Variabilidade do Modelo: Apesar do REQM ser mais alto na Região 0, a estratégia de selecionar apenas os poços com predições mais altas pode mitigar os efeitos de previsões imprecisas em poços individuais.\n",
        "\n",
        "Volume Médio Previsto: Embora o volume médio previsto esteja abaixo do necessário para evitar prejuízo em média, a seleção dos melhores poços compensou essa desvantagem.\n",
        "\n",
        "Com base nessa análise, a Região 0 parece ser a melhor escolha para o desenvolvimento de novos poços de petróleo. No entanto, ainda deve-se considerar a análise de risco e a variabilidade do lucro usando a técnica de bootstrapping para confirmar esta decisão."
      ]
    },
    {
      "cell_type": "markdown",
      "metadata": {
        "id": "cxBbFyWepJoS"
      },
      "source": [
        "## Calcular Riscos e Lucro para cada região\n",
        "\n",
        "5.1 Usar Bootstrapping para encontrar a Distribuição de Lucros\n",
        "\n",
        "O bootstrapping ajudará a estimar a distribuição dos lucros potenciais ao simular o processo de seleção de poços várias vezes, permitindo-nos calcular intervalos de confiança e avaliar o risco de perda.\n",
        "\n",
        "5.2 Encontrar Lucro Médio, Intervalo de Confiança de 95% e Risco de Prejuízo"
      ]
    },
    {
      "cell_type": "code",
      "execution_count": null,
      "metadata": {
        "id": "EI9ZS_82pJoS"
      },
      "outputs": [],
      "source": [
        "# Importar biblioteca\n",
        "import numpy as np"
      ]
    },
    {
      "cell_type": "code",
      "execution_count": null,
      "metadata": {
        "id": "gtu_haAspJoS"
      },
      "outputs": [],
      "source": [
        "def bootstrap_profit(predictions, actual, n_samples=1000):\n",
        "    np.random.seed(123)\n",
        "    profits = []\n",
        "\n",
        "    for _ in range(n_samples):\n",
        "        # Selecionar 500 poços aleatoriamente\n",
        "        sample_indices = np.random.choice(predictions.index, size=500, replace=True)\n",
        "        sample_predictions = predictions.loc[sample_indices]\n",
        "        sample_actual = actual.loc[sample_indices]\n",
        "\n",
        "        # Selecionar os 200 poços com as maiores previsões\n",
        "        top_200_indices = sample_predictions.nlargest(200).index\n",
        "        selected_reserves = sample_actual.loc[top_200_indices].sum()\n",
        "\n",
        "        # Calcular lucro potencial\n",
        "        profit = selected_reserves * revenue_per_unit - budget\n",
        "        profits.append(profit)\n",
        "\n",
        "    # Calcular estatísticas\n",
        "    profits = np.array(profits)\n",
        "    mean_profit = profits.mean()\n",
        "    confidence_interval = np.percentile(profits, [2.5, 97.5])\n",
        "    risk_of_loss = (profits < 0).mean() * 100  # Probabilidade de prejuízo\n",
        "\n",
        "    return mean_profit, confidence_interval, risk_of_loss\n",
        "\n",
        "# Calcular lucro e risco para cada região usando bootstrapping\n",
        "mean_profit_0, ci_0, risk_0 = bootstrap_profit(results_region_0['predictions'], results_region_0['actual'])\n",
        "mean_profit_1, ci_1, risk_1 = bootstrap_profit(results_region_1['predictions'], results_region_1['actual'])\n",
        "mean_profit_2, ci_2, risk_2 = bootstrap_profit(results_region_2['predictions'], results_region_2['actual'])"
      ]
    },
    {
      "cell_type": "code",
      "execution_count": null,
      "metadata": {
        "id": "Tkf3v3mTpJoT",
        "outputId": "a7a6d109-78e0-4170-e678-9a806988265e"
      },
      "outputs": [
        {
          "name": "stdout",
          "output_type": "stream",
          "text": [
            "Região 0:\n",
            "Lucro Médio: $6953322.17 \n",
            "Intervalo de Confiança 95%: [ 1025294.52491256 13549546.8597758 ]\n",
            "Risco de Prejuízo: 1.10%\n",
            "\n",
            "Região 1:\n",
            "Lucro Médio: $6858594.94 \n",
            "Intervalo de Confiança 95%: [ 1636937.61015573 12418127.98974418]\n",
            "Risco de Prejuízo: 0.10%\n",
            "\n",
            "Região 2:\n",
            "Lucro Médio: $5395631.59 \n",
            "Intervalo de Confiança 95%: [ -746059.44145271 11949543.65115553]\n",
            "Risco de Prejuízo: 4.00%\n"
          ]
        }
      ],
      "source": [
        "# Exibir resultados\n",
        "print(\"Região 0:\")\n",
        "print(f\"Lucro Médio: ${mean_profit_0:.2f} \")\n",
        "print(f\"Intervalo de Confiança 95%: {ci_0}\")\n",
        "print(f\"Risco de Prejuízo: {risk_0:.2f}%\")\n",
        "print()\n",
        "print(\"Região 1:\")\n",
        "print(f\"Lucro Médio: ${mean_profit_1:.2f} \")\n",
        "print(f\"Intervalo de Confiança 95%: {ci_1}\")\n",
        "print(f\"Risco de Prejuízo: {risk_1:.2f}%\")\n",
        "print()\n",
        "print(\"Região 2:\")\n",
        "print(f\"Lucro Médio: ${mean_profit_2:.2f} \")\n",
        "print(f\"Intervalo de Confiança 95%: {ci_2}\")\n",
        "print(f\"Risco de Prejuízo: {risk_2:.2f}%\")"
      ]
    },
    {
      "cell_type": "markdown",
      "metadata": {
        "id": "hiz51D63pJoT"
      },
      "source": [
        "# Conclusão final\n",
        "\n",
        "Região Recomendada: **Região 1**\n",
        "\n",
        "Justificativa:\n",
        "\n",
        "- Baixo Risco de Prejuízo: A Região 1 apresenta o menor risco de prejuízo (0.10%), o que a torna uma opção muito segura.\n",
        "\n",
        "- Lucro Médio Competitivo: O lucro médio da Região 1 é muito próximo ao da Região 0 e ainda assim oferece um risco menor.\n",
        "\n",
        "- Intervalo de Confiança: O intervalo de confiança é relativamente estreito e não inclui valores negativos, o que reforça a estabilidade da previsão de lucro.\n",
        "\n",
        "Portanto, diferente da recomendação na análise anterior (Região 0), com base tanto no lucro médio quanto no risco de prejuízo, a Região 1 parece ser a melhor escolha para o desenvolvimento de novos poços de petróleo."
      ]
    }
  ],
  "metadata": {
    "ExecuteTimeLog": [
      {
        "duration": 490,
        "start_time": "2024-07-24T17:05:27.706Z"
      },
      {
        "duration": 1098,
        "start_time": "2024-07-24T17:07:18.958Z"
      },
      {
        "duration": 255,
        "start_time": "2024-07-24T17:11:28.167Z"
      },
      {
        "duration": 496,
        "start_time": "2024-07-24T17:11:39.476Z"
      },
      {
        "duration": 51,
        "start_time": "2024-07-24T17:13:06.427Z"
      },
      {
        "duration": 25,
        "start_time": "2024-07-24T17:13:22.677Z"
      },
      {
        "duration": 385,
        "start_time": "2024-07-24T17:13:43.038Z"
      },
      {
        "duration": 759,
        "start_time": "2024-07-24T17:16:48.620Z"
      },
      {
        "duration": 3,
        "start_time": "2024-07-24T17:17:11.804Z"
      },
      {
        "duration": 27,
        "start_time": "2024-07-24T17:22:30.317Z"
      },
      {
        "duration": 19,
        "start_time": "2024-07-24T17:23:31.544Z"
      },
      {
        "duration": 29,
        "start_time": "2024-07-24T17:24:50.782Z"
      },
      {
        "duration": 159,
        "start_time": "2024-07-24T17:28:49.170Z"
      },
      {
        "duration": 334,
        "start_time": "2024-07-24T17:29:08.019Z"
      },
      {
        "duration": 8,
        "start_time": "2024-07-24T17:45:39.108Z"
      },
      {
        "duration": 9,
        "start_time": "2024-07-24T17:56:14.187Z"
      },
      {
        "duration": 8,
        "start_time": "2024-07-24T18:04:47.528Z"
      },
      {
        "duration": 11,
        "start_time": "2024-07-24T18:04:59.651Z"
      },
      {
        "duration": 9,
        "start_time": "2024-07-24T18:05:26.304Z"
      },
      {
        "duration": 8,
        "start_time": "2024-07-24T18:05:36.418Z"
      },
      {
        "duration": 8,
        "start_time": "2024-07-24T18:05:48.238Z"
      },
      {
        "duration": 14,
        "start_time": "2024-07-24T18:11:08.714Z"
      },
      {
        "duration": 4,
        "start_time": "2024-07-24T19:04:05.156Z"
      },
      {
        "duration": 5640,
        "start_time": "2024-07-24T19:04:47.823Z"
      },
      {
        "duration": 5075,
        "start_time": "2024-07-24T19:07:02.433Z"
      },
      {
        "duration": 5140,
        "start_time": "2024-07-24T19:07:17.399Z"
      },
      {
        "duration": 5,
        "start_time": "2024-07-24T19:08:00.667Z"
      },
      {
        "duration": 6,
        "start_time": "2024-07-24T19:08:13.834Z"
      },
      {
        "duration": 10,
        "start_time": "2024-07-24T19:08:26.159Z"
      },
      {
        "duration": 8,
        "start_time": "2024-07-24T19:09:16.524Z"
      },
      {
        "duration": 9,
        "start_time": "2024-07-24T19:09:24.658Z"
      },
      {
        "duration": 6483,
        "start_time": "2024-07-24T19:10:10.087Z"
      },
      {
        "duration": 24,
        "start_time": "2024-07-24T19:10:19.126Z"
      },
      {
        "duration": 8450,
        "start_time": "2024-07-24T19:11:42.242Z"
      },
      {
        "duration": 130,
        "start_time": "2024-07-24T19:37:33.784Z"
      },
      {
        "duration": 652,
        "start_time": "2024-07-24T19:38:17.118Z"
      },
      {
        "duration": 470,
        "start_time": "2024-07-24T19:38:18.591Z"
      },
      {
        "duration": 56,
        "start_time": "2024-07-24T19:38:23.301Z"
      },
      {
        "duration": 1243,
        "start_time": "2024-07-24T19:38:36.728Z"
      },
      {
        "duration": 83,
        "start_time": "2024-07-24T19:39:51.478Z"
      },
      {
        "duration": 49,
        "start_time": "2024-07-24T19:39:56.510Z"
      },
      {
        "duration": 52,
        "start_time": "2024-07-24T19:40:08.641Z"
      },
      {
        "duration": 43,
        "start_time": "2024-07-24T19:40:12.048Z"
      },
      {
        "duration": 32,
        "start_time": "2024-07-24T19:40:19.117Z"
      },
      {
        "duration": 195,
        "start_time": "2024-07-24T19:40:31.229Z"
      },
      {
        "duration": 146,
        "start_time": "2024-07-24T19:47:17.622Z"
      },
      {
        "duration": 3,
        "start_time": "2024-07-24T19:48:36.487Z"
      },
      {
        "duration": 190,
        "start_time": "2024-07-24T19:48:39.036Z"
      },
      {
        "duration": 183,
        "start_time": "2024-07-24T19:48:54.341Z"
      },
      {
        "duration": 485,
        "start_time": "2024-07-24T19:51:43.315Z"
      },
      {
        "duration": 399,
        "start_time": "2024-07-24T19:51:43.805Z"
      },
      {
        "duration": 155,
        "start_time": "2024-07-24T19:51:44.207Z"
      },
      {
        "duration": 703,
        "start_time": "2024-07-24T19:51:44.367Z"
      },
      {
        "duration": 169,
        "start_time": "2024-07-24T19:51:45.072Z"
      },
      {
        "duration": 81,
        "start_time": "2024-07-24T19:51:45.244Z"
      },
      {
        "duration": 16,
        "start_time": "2024-07-24T19:51:45.328Z"
      },
      {
        "duration": 4,
        "start_time": "2024-07-24T19:51:45.423Z"
      },
      {
        "duration": 5038,
        "start_time": "2024-07-24T19:51:45.430Z"
      },
      {
        "duration": 8,
        "start_time": "2024-07-24T19:51:50.471Z"
      },
      {
        "duration": 42,
        "start_time": "2024-07-24T19:51:57.802Z"
      }
    ],
    "kernelspec": {
      "display_name": "Python 3 (ipykernel)",
      "language": "python",
      "name": "python3"
    },
    "language_info": {
      "codemirror_mode": {
        "name": "ipython",
        "version": 3
      },
      "file_extension": ".py",
      "mimetype": "text/x-python",
      "name": "python",
      "nbconvert_exporter": "python",
      "pygments_lexer": "ipython3",
      "version": "3.9.19"
    },
    "toc": {
      "base_numbering": 1,
      "nav_menu": {},
      "number_sections": true,
      "sideBar": true,
      "skip_h1_title": true,
      "title_cell": "Table of Contents",
      "title_sidebar": "Contents",
      "toc_cell": false,
      "toc_position": {},
      "toc_section_display": true,
      "toc_window_display": false
    },
    "colab": {
      "provenance": [],
      "include_colab_link": true
    }
  },
  "nbformat": 4,
  "nbformat_minor": 0
}