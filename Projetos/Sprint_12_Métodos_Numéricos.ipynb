{
  "cells": [
    {
      "cell_type": "markdown",
      "metadata": {
        "id": "view-in-github",
        "colab_type": "text"
      },
      "source": [
        "<a href=\"https://colab.research.google.com/github/lucianolcp/projetosbootcamp/blob/main/Projetos/Sprint_12_M%C3%A9todos_Num%C3%A9ricos.ipynb\" target=\"_parent\"><img src=\"https://colab.research.google.com/assets/colab-badge.svg\" alt=\"Open In Colab\"/></a>"
      ]
    },
    {
      "cell_type": "markdown",
      "metadata": {
        "id": "2psa7VlskmlZ"
      },
      "source": [
        "O serviço de vendas de carros usados Rusty Bargain está desenvolvendo um aplicativo para atrair novos clientes. Nesse aplicativo, você pode descobrir rapidamente o valor de mercado do seu carro. Você tem acesso a dados históricos: especificações técnicas, versões de acabamento e preços. Você precisa construir o modelo para determinar o valor.\n",
        "\n",
        "Rusty Bargain está interessado em:\n",
        "\n",
        "- a qualidade da predição;\n",
        "- a velocidade da predição;\n",
        "- o tempo necessário para o treinamento"
      ]
    },
    {
      "cell_type": "markdown",
      "metadata": {
        "id": "H5FozYFlkmlZ"
      },
      "source": [
        "## Preparação de Dados"
      ]
    },
    {
      "cell_type": "code",
      "execution_count": null,
      "metadata": {
        "id": "-Iq6KPHHkmlZ"
      },
      "outputs": [],
      "source": [
        "import pandas as pd\n",
        "import numpy as np"
      ]
    },
    {
      "cell_type": "code",
      "execution_count": null,
      "metadata": {
        "id": "0zLpundqkmlb",
        "outputId": "ac41f72c-f258-4a1a-d3ea-d285b5107d8d"
      },
      "outputs": [
        {
          "data": {
            "text/html": [
              "<div>\n",
              "<style scoped>\n",
              "    .dataframe tbody tr th:only-of-type {\n",
              "        vertical-align: middle;\n",
              "    }\n",
              "\n",
              "    .dataframe tbody tr th {\n",
              "        vertical-align: top;\n",
              "    }\n",
              "\n",
              "    .dataframe thead th {\n",
              "        text-align: right;\n",
              "    }\n",
              "</style>\n",
              "<table border=\"1\" class=\"dataframe\">\n",
              "  <thead>\n",
              "    <tr style=\"text-align: right;\">\n",
              "      <th></th>\n",
              "      <th>DateCrawled</th>\n",
              "      <th>Price</th>\n",
              "      <th>VehicleType</th>\n",
              "      <th>RegistrationYear</th>\n",
              "      <th>Gearbox</th>\n",
              "      <th>Power</th>\n",
              "      <th>Model</th>\n",
              "      <th>Mileage</th>\n",
              "      <th>RegistrationMonth</th>\n",
              "      <th>FuelType</th>\n",
              "      <th>Brand</th>\n",
              "      <th>NotRepaired</th>\n",
              "      <th>DateCreated</th>\n",
              "      <th>NumberOfPictures</th>\n",
              "      <th>PostalCode</th>\n",
              "      <th>LastSeen</th>\n",
              "    </tr>\n",
              "  </thead>\n",
              "  <tbody>\n",
              "    <tr>\n",
              "      <th>0</th>\n",
              "      <td>24/03/2016 11:52</td>\n",
              "      <td>480</td>\n",
              "      <td>NaN</td>\n",
              "      <td>1993</td>\n",
              "      <td>manual</td>\n",
              "      <td>0</td>\n",
              "      <td>golf</td>\n",
              "      <td>150000</td>\n",
              "      <td>0</td>\n",
              "      <td>petrol</td>\n",
              "      <td>volkswagen</td>\n",
              "      <td>NaN</td>\n",
              "      <td>24/03/2016 00:00</td>\n",
              "      <td>0</td>\n",
              "      <td>70435</td>\n",
              "      <td>07/04/2016 03:16</td>\n",
              "    </tr>\n",
              "    <tr>\n",
              "      <th>1</th>\n",
              "      <td>24/03/2016 10:58</td>\n",
              "      <td>18300</td>\n",
              "      <td>coupe</td>\n",
              "      <td>2011</td>\n",
              "      <td>manual</td>\n",
              "      <td>190</td>\n",
              "      <td>NaN</td>\n",
              "      <td>125000</td>\n",
              "      <td>5</td>\n",
              "      <td>gasoline</td>\n",
              "      <td>audi</td>\n",
              "      <td>yes</td>\n",
              "      <td>24/03/2016 00:00</td>\n",
              "      <td>0</td>\n",
              "      <td>66954</td>\n",
              "      <td>07/04/2016 01:46</td>\n",
              "    </tr>\n",
              "    <tr>\n",
              "      <th>2</th>\n",
              "      <td>14/03/2016 12:52</td>\n",
              "      <td>9800</td>\n",
              "      <td>suv</td>\n",
              "      <td>2004</td>\n",
              "      <td>auto</td>\n",
              "      <td>163</td>\n",
              "      <td>grand</td>\n",
              "      <td>125000</td>\n",
              "      <td>8</td>\n",
              "      <td>gasoline</td>\n",
              "      <td>jeep</td>\n",
              "      <td>NaN</td>\n",
              "      <td>14/03/2016 00:00</td>\n",
              "      <td>0</td>\n",
              "      <td>90480</td>\n",
              "      <td>05/04/2016 12:47</td>\n",
              "    </tr>\n",
              "    <tr>\n",
              "      <th>3</th>\n",
              "      <td>17/03/2016 16:54</td>\n",
              "      <td>1500</td>\n",
              "      <td>small</td>\n",
              "      <td>2001</td>\n",
              "      <td>manual</td>\n",
              "      <td>75</td>\n",
              "      <td>golf</td>\n",
              "      <td>150000</td>\n",
              "      <td>6</td>\n",
              "      <td>petrol</td>\n",
              "      <td>volkswagen</td>\n",
              "      <td>no</td>\n",
              "      <td>17/03/2016 00:00</td>\n",
              "      <td>0</td>\n",
              "      <td>91074</td>\n",
              "      <td>17/03/2016 17:40</td>\n",
              "    </tr>\n",
              "    <tr>\n",
              "      <th>4</th>\n",
              "      <td>31/03/2016 17:25</td>\n",
              "      <td>3600</td>\n",
              "      <td>small</td>\n",
              "      <td>2008</td>\n",
              "      <td>manual</td>\n",
              "      <td>69</td>\n",
              "      <td>fabia</td>\n",
              "      <td>90000</td>\n",
              "      <td>7</td>\n",
              "      <td>gasoline</td>\n",
              "      <td>skoda</td>\n",
              "      <td>no</td>\n",
              "      <td>31/03/2016 00:00</td>\n",
              "      <td>0</td>\n",
              "      <td>60437</td>\n",
              "      <td>06/04/2016 10:17</td>\n",
              "    </tr>\n",
              "  </tbody>\n",
              "</table>\n",
              "</div>"
            ],
            "text/plain": [
              "        DateCrawled  Price VehicleType  RegistrationYear Gearbox  Power  \\\n",
              "0  24/03/2016 11:52    480         NaN              1993  manual      0   \n",
              "1  24/03/2016 10:58  18300       coupe              2011  manual    190   \n",
              "2  14/03/2016 12:52   9800         suv              2004    auto    163   \n",
              "3  17/03/2016 16:54   1500       small              2001  manual     75   \n",
              "4  31/03/2016 17:25   3600       small              2008  manual     69   \n",
              "\n",
              "   Model  Mileage  RegistrationMonth  FuelType       Brand NotRepaired  \\\n",
              "0   golf   150000                  0    petrol  volkswagen         NaN   \n",
              "1    NaN   125000                  5  gasoline        audi         yes   \n",
              "2  grand   125000                  8  gasoline        jeep         NaN   \n",
              "3   golf   150000                  6    petrol  volkswagen          no   \n",
              "4  fabia    90000                  7  gasoline       skoda          no   \n",
              "\n",
              "        DateCreated  NumberOfPictures  PostalCode          LastSeen  \n",
              "0  24/03/2016 00:00                 0       70435  07/04/2016 03:16  \n",
              "1  24/03/2016 00:00                 0       66954  07/04/2016 01:46  \n",
              "2  14/03/2016 00:00                 0       90480  05/04/2016 12:47  \n",
              "3  17/03/2016 00:00                 0       91074  17/03/2016 17:40  \n",
              "4  31/03/2016 00:00                 0       60437  06/04/2016 10:17  "
            ]
          },
          "execution_count": 2,
          "metadata": {},
          "output_type": "execute_result"
        }
      ],
      "source": [
        "# Carregando os dados\n",
        "df = pd.read_csv('/datasets/car_data.csv')\n",
        "\n",
        "# Exibindo as primeiras linhas do DataFrame\n",
        "df.head()"
      ]
    },
    {
      "cell_type": "code",
      "execution_count": null,
      "metadata": {
        "id": "CHHsoLUIkmlc",
        "outputId": "3dd6aa45-cd96-472b-e2d6-e029fc350b5a"
      },
      "outputs": [
        {
          "name": "stdout",
          "output_type": "stream",
          "text": [
            "       date_crawled  price vehicle_type  registration_year gearbox  power  \\\n",
            "0  24/03/2016 11:52    480          NaN               1993  manual      0   \n",
            "1  24/03/2016 10:58  18300        coupe               2011  manual    190   \n",
            "2  14/03/2016 12:52   9800          suv               2004    auto    163   \n",
            "3  17/03/2016 16:54   1500        small               2001  manual     75   \n",
            "4  31/03/2016 17:25   3600        small               2008  manual     69   \n",
            "\n",
            "   model  mileage  registration_month fuel_type       brand not_repaired  \\\n",
            "0   golf   150000                   0    petrol  volkswagen          NaN   \n",
            "1    NaN   125000                   5  gasoline        audi          yes   \n",
            "2  grand   125000                   8  gasoline        jeep          NaN   \n",
            "3   golf   150000                   6    petrol  volkswagen           no   \n",
            "4  fabia    90000                   7  gasoline       skoda           no   \n",
            "\n",
            "       date_created  number_of_pictures  postal_code         last_seen  \n",
            "0  24/03/2016 00:00                   0        70435  07/04/2016 03:16  \n",
            "1  24/03/2016 00:00                   0        66954  07/04/2016 01:46  \n",
            "2  14/03/2016 00:00                   0        90480  05/04/2016 12:47  \n",
            "3  17/03/2016 00:00                   0        91074  17/03/2016 17:40  \n",
            "4  31/03/2016 00:00                   0        60437  06/04/2016 10:17  \n"
          ]
        }
      ],
      "source": [
        "def to_snake_case(column_name):\n",
        "    return ''.join(['_' + i.lower() if i.isupper() else i for i in column_name]).lstrip('_')\n",
        "\n",
        "# Aplicar a função para converter os nomes das colunas\n",
        "df.columns = [to_snake_case(col) for col in df.columns]\n",
        "\n",
        "# Verificar a mudança\n",
        "print(df.head())"
      ]
    },
    {
      "cell_type": "code",
      "execution_count": null,
      "metadata": {
        "id": "a7mTLkIdkmld",
        "outputId": "3198ce04-e2d8-496f-85a9-83bcc649ab53"
      },
      "outputs": [
        {
          "name": "stdout",
          "output_type": "stream",
          "text": [
            "<class 'pandas.core.frame.DataFrame'>\n",
            "RangeIndex: 354369 entries, 0 to 354368\n",
            "Data columns (total 16 columns):\n",
            " #   Column              Non-Null Count   Dtype \n",
            "---  ------              --------------   ----- \n",
            " 0   date_crawled        354369 non-null  object\n",
            " 1   price               354369 non-null  int64 \n",
            " 2   vehicle_type        316879 non-null  object\n",
            " 3   registration_year   354369 non-null  int64 \n",
            " 4   gearbox             334536 non-null  object\n",
            " 5   power               354369 non-null  int64 \n",
            " 6   model               334664 non-null  object\n",
            " 7   mileage             354369 non-null  int64 \n",
            " 8   registration_month  354369 non-null  int64 \n",
            " 9   fuel_type           321474 non-null  object\n",
            " 10  brand               354369 non-null  object\n",
            " 11  not_repaired        283215 non-null  object\n",
            " 12  date_created        354369 non-null  object\n",
            " 13  number_of_pictures  354369 non-null  int64 \n",
            " 14  postal_code         354369 non-null  int64 \n",
            " 15  last_seen           354369 non-null  object\n",
            "dtypes: int64(7), object(9)\n",
            "memory usage: 43.3+ MB\n",
            "None\n"
          ]
        }
      ],
      "source": [
        "print(df.info())"
      ]
    },
    {
      "cell_type": "code",
      "execution_count": null,
      "metadata": {
        "id": "VfdGQa9wkmld",
        "outputId": "b44db01d-6dd1-4d50-cf20-29ac40e71313"
      },
      "outputs": [
        {
          "name": "stdout",
          "output_type": "stream",
          "text": [
            "date_crawled              0\n",
            "price                     0\n",
            "vehicle_type          37490\n",
            "registration_year         0\n",
            "gearbox               19833\n",
            "power                     0\n",
            "model                 19705\n",
            "mileage                   0\n",
            "registration_month        0\n",
            "fuel_type             32895\n",
            "brand                     0\n",
            "not_repaired          71154\n",
            "date_created              0\n",
            "number_of_pictures        0\n",
            "postal_code               0\n",
            "last_seen                 0\n",
            "dtype: int64\n"
          ]
        }
      ],
      "source": [
        "# Verificar valores ausentes\n",
        "print(df.isnull().sum())"
      ]
    },
    {
      "cell_type": "code",
      "execution_count": null,
      "metadata": {
        "id": "y2iE8RbMkmle"
      },
      "outputs": [],
      "source": [
        "# Remover colunas irrelevantes (não afetam valores dos veículos)\n",
        "df = df.drop(['date_crawled', 'date_created', 'number_of_pictures', 'postal_code', 'last_seen'], axis=1)"
      ]
    },
    {
      "cell_type": "markdown",
      "source": [],
      "metadata": {
        "id": "Qq1ivWoZkwAe"
      }
    },
    {
      "cell_type": "code",
      "execution_count": null,
      "metadata": {
        "id": "8drkLhJYkmle"
      },
      "outputs": [],
      "source": [
        "# Filtrar anos de registro inválidos\n",
        "df = df[(df['registration_year'] >= 1960) & (df['registration_year'] <= 2024)]"
      ]
    },
    {
      "cell_type": "code",
      "execution_count": null,
      "metadata": {
        "id": "L14Ib1T4kmle"
      },
      "outputs": [],
      "source": [
        "# Remover potencia fora do intervalo esperado (0-1000 hp)\n",
        "df = df[(df['power'] > 0) & (df['power'] <= 1000)]"
      ]
    },
    {
      "cell_type": "code",
      "execution_count": null,
      "metadata": {
        "id": "n-JFvIhxkmlf"
      },
      "outputs": [],
      "source": [
        "# Tratar valores ausentes nas colunas categóricas\n",
        "df['vehicle_type'].fillna('unknown', inplace=True)\n",
        "df['gearbox'].fillna('unknown', inplace=True)\n",
        "df['model'].fillna('unknown', inplace=True)\n",
        "df['fuel_type'].fillna('unknown', inplace=True)\n",
        "df['not_repaired'].fillna('unknown', inplace=True)"
      ]
    },
    {
      "cell_type": "code",
      "execution_count": null,
      "metadata": {
        "id": "lYCQd3Xwkmlf",
        "outputId": "c882e9ac-f58d-4675-8a72-eb01c80cee60"
      },
      "outputs": [
        {
          "data": {
            "text/plain": [
              "0    232878\n",
              "2     49556\n",
              "1     31211\n",
              "Name: not_repaired, dtype: int64"
            ]
          },
          "execution_count": 10,
          "metadata": {},
          "output_type": "execute_result"
        }
      ],
      "source": [
        "# Ajustar a codificação da variável 'not_repaired'\n",
        "df['not_repaired'] = df['not_repaired'].map({'no': 0, 'yes': 1, 'unknown': 2})\n",
        "\n",
        "# Verificar o resultado\n",
        "df['not_repaired'].value_counts()"
      ]
    },
    {
      "cell_type": "code",
      "execution_count": null,
      "metadata": {
        "id": "A4RCTyNbkmlf",
        "outputId": "73157c34-dd93-414c-dbf6-64bbff5132bf"
      },
      "outputs": [
        {
          "name": "stdout",
          "output_type": "stream",
          "text": [
            "vehicle_type      9\n",
            "gearbox           3\n",
            "model           250\n",
            "fuel_type         8\n",
            "brand            40\n",
            "dtype: int64\n"
          ]
        }
      ],
      "source": [
        "# Identificar colunas categóricas\n",
        "categorical_columns = df.select_dtypes(include=['object']).columns\n",
        "\n",
        "# Verificar a cardinalidade de cada coluna categórica\n",
        "quantity = df[categorical_columns].nunique()\n",
        "\n",
        "print(quantity)"
      ]
    },
    {
      "cell_type": "code",
      "execution_count": null,
      "metadata": {
        "id": "rqkzrmp3kmlf",
        "outputId": "6c57549b-ab5b-41b1-f0f5-c4e15841509c"
      },
      "outputs": [
        {
          "name": "stdout",
          "output_type": "stream",
          "text": [
            "   price  registration_year  power  model  mileage  registration_month  brand  \\\n",
            "1  18300               2011    190    227   125000                   5      1   \n",
            "2   9800               2004    163    117   125000                   8     14   \n",
            "3   1500               2001     75    116   150000                   6     38   \n",
            "4   3600               2008     69    101    90000                   7     31   \n",
            "5    650               1995    102     11   150000                  10      2   \n",
            "\n",
            "   not_repaired  vehicle_type_bus  vehicle_type_convertible  ...  \\\n",
            "1             1                 0                         0  ...   \n",
            "2             2                 0                         0  ...   \n",
            "3             0                 0                         0  ...   \n",
            "4             0                 0                         0  ...   \n",
            "5             1                 0                         0  ...   \n",
            "\n",
            "   gearbox_manual  gearbox_unknown  fuel_type_cng  fuel_type_electric  \\\n",
            "1               1                0              0                   0   \n",
            "2               0                0              0                   0   \n",
            "3               1                0              0                   0   \n",
            "4               1                0              0                   0   \n",
            "5               1                0              0                   0   \n",
            "\n",
            "   fuel_type_gasoline  fuel_type_hybrid  fuel_type_lpg  fuel_type_other  \\\n",
            "1                   1                 0              0                0   \n",
            "2                   1                 0              0                0   \n",
            "3                   0                 0              0                0   \n",
            "4                   1                 0              0                0   \n",
            "5                   0                 0              0                0   \n",
            "\n",
            "   fuel_type_petrol  fuel_type_unknown  \n",
            "1                 0                  0  \n",
            "2                 0                  0  \n",
            "3                 1                  0  \n",
            "4                 0                  0  \n",
            "5                 1                  0  \n",
            "\n",
            "[5 rows x 28 columns]\n"
          ]
        }
      ],
      "source": [
        "# Aplicar One-Hot Encoding às colunas de baixa cardinalidade\n",
        "df = pd.get_dummies(df, columns=['vehicle_type', 'gearbox', 'fuel_type'])\n",
        "\n",
        "# Para as colunas de alta cardinalidade:\n",
        "from sklearn.preprocessing import LabelEncoder\n",
        "\n",
        "# Label Encoding para colunas de alta cardinalidade\n",
        "label_encoders = {}\n",
        "for col in ['model', 'brand']:\n",
        "    le = LabelEncoder()\n",
        "    df[col] = le.fit_transform(df[col])\n",
        "    label_encoders[col] = le  # Armazena o encoder para uso futuro\n",
        "\n",
        "# Verificar o resultado\n",
        "print(df.head())\n"
      ]
    },
    {
      "cell_type": "code",
      "execution_count": null,
      "metadata": {
        "id": "iu9d2rp_kmlg",
        "outputId": "97f463ae-04a7-49c6-8e8c-80596c452e50"
      },
      "outputs": [
        {
          "name": "stdout",
          "output_type": "stream",
          "text": [
            "21949\n"
          ]
        }
      ],
      "source": [
        "# Contar quantos registros têm o valor 0 na coluna 'registration_month'\n",
        "count_zeros = (df['registration_month'] == 0).sum()\n",
        "print(count_zeros)"
      ]
    },
    {
      "cell_type": "markdown",
      "metadata": {
        "id": "EUftQDlskmlg"
      },
      "source": [
        "Mantive 0 como mês desconhecido em *registration_month*."
      ]
    },
    {
      "cell_type": "code",
      "execution_count": null,
      "metadata": {
        "id": "wUKC53X7kmlg"
      },
      "outputs": [],
      "source": [
        "# Escalonamento de 'mileage' e 'power'\n",
        "from sklearn.preprocessing import StandardScaler\n",
        "\n",
        "scaler = StandardScaler()\n",
        "df[['mileage', 'power']] = scaler.fit_transform(df[['mileage', 'power']])"
      ]
    },
    {
      "cell_type": "code",
      "execution_count": null,
      "metadata": {
        "id": "NeGzsGljkmlg",
        "outputId": "072e76cd-2516-48bf-f264-32e723002b81"
      },
      "outputs": [
        {
          "name": "stdout",
          "output_type": "stream",
          "text": [
            "   price  registration_year     power     model   mileage  registration_month  \\\n",
            "1  18300               2011  1.270667  1.556567 -0.096170                   5   \n",
            "2   9800               2004  0.778391  0.052948 -0.096170                   8   \n",
            "3   1500               2001 -0.826065  0.039279  0.583734                   6   \n",
            "4   3600               2008 -0.935460 -0.165760 -1.048036                   7   \n",
            "5    650               1995 -0.333789 -1.395994  0.583734                  10   \n",
            "\n",
            "      brand  not_repaired  vehicle_type_bus  vehicle_type_convertible  ...  \\\n",
            "1 -1.478213             1                 0                         0  ...   \n",
            "2 -0.506725             2                 0                         0  ...   \n",
            "3  1.286793             0                 0                         0  ...   \n",
            "4  0.763684             0                 0                         0  ...   \n",
            "5 -1.403484             1                 0                         0  ...   \n",
            "\n",
            "   gearbox_manual  gearbox_unknown  fuel_type_cng  fuel_type_electric  \\\n",
            "1               1                0              0                   0   \n",
            "2               0                0              0                   0   \n",
            "3               1                0              0                   0   \n",
            "4               1                0              0                   0   \n",
            "5               1                0              0                   0   \n",
            "\n",
            "   fuel_type_gasoline  fuel_type_hybrid  fuel_type_lpg  fuel_type_other  \\\n",
            "1                   1                 0              0                0   \n",
            "2                   1                 0              0                0   \n",
            "3                   0                 0              0                0   \n",
            "4                   1                 0              0                0   \n",
            "5                   0                 0              0                0   \n",
            "\n",
            "   fuel_type_petrol  fuel_type_unknown  \n",
            "1                 0                  0  \n",
            "2                 0                  0  \n",
            "3                 1                  0  \n",
            "4                 0                  0  \n",
            "5                 1                  0  \n",
            "\n",
            "[5 rows x 28 columns]\n"
          ]
        }
      ],
      "source": [
        "from sklearn.preprocessing import StandardScaler\n",
        "\n",
        "# Separar as colunas numéricas e categóricas\n",
        "num_columns = ['mileage', 'power']\n",
        "cat_columns = ['model', 'brand']  # Outras colunas categóricas já foram one-hot encoded\n",
        "\n",
        "# Escalar as colunas numéricas e categóricas codificadas\n",
        "scaler = StandardScaler()\n",
        "\n",
        "# Escalar as colunas numéricas e as colunas categóricas que foram label encoded\n",
        "df[num_columns + cat_columns] = scaler.fit_transform(df[num_columns + cat_columns])\n",
        "\n",
        "# Verificar o resultado\n",
        "print(df.head())"
      ]
    },
    {
      "cell_type": "code",
      "execution_count": null,
      "metadata": {
        "id": "GfDttuPakmlh",
        "outputId": "0b38358f-39d9-4a6b-92a0-efe160e8ba01"
      },
      "outputs": [
        {
          "name": "stdout",
          "output_type": "stream",
          "text": [
            "               price  registration_year         power         model  \\\n",
            "count  313645.000000      313645.000000  3.136450e+05  3.136450e+05   \n",
            "mean     4703.538096        2003.275611 -1.259583e-17  5.971690e-17   \n",
            "std      4589.197570           6.888976  1.000002e+00  1.000002e+00   \n",
            "min         0.000000        1960.000000 -2.175267e+00 -1.546356e+00   \n",
            "25%      1250.000000        1999.000000 -8.260654e-01 -9.722467e-01   \n",
            "50%      2999.000000        2003.000000 -1.879293e-01  3.927894e-02   \n",
            "75%      6880.000000        2008.000000  5.413691e-01  7.774193e-01   \n",
            "max     20000.000000        2019.000000  1.603896e+01  1.857291e+00   \n",
            "\n",
            "            mileage  registration_month         brand   not_repaired  \\\n",
            "count  3.136450e+05       313645.000000  3.136450e+05  313645.000000   \n",
            "mean   2.383239e-17            5.935319 -2.224658e-17       0.415511   \n",
            "std    1.000002e+00            3.615499  1.000002e+00       0.747572   \n",
            "min   -3.359709e+00            0.000000 -1.552943e+00       0.000000   \n",
            "25%   -9.617006e-02            3.000000 -8.803742e-01       0.000000   \n",
            "50%    5.837339e-01            6.000000  2.405743e-01       0.000000   \n",
            "75%    5.837339e-01            9.000000  9.878734e-01       1.000000   \n",
            "max    5.837339e-01           12.000000  1.361523e+00       2.000000   \n",
            "\n",
            "       vehicle_type_bus  vehicle_type_convertible  ...  gearbox_manual  \\\n",
            "count     313645.000000             313645.000000  ...   313645.000000   \n",
            "mean           0.084490                  0.060616  ...        0.783507   \n",
            "std            0.278122                  0.238626  ...        0.411855   \n",
            "min            0.000000                  0.000000  ...        0.000000   \n",
            "25%            0.000000                  0.000000  ...        1.000000   \n",
            "50%            0.000000                  0.000000  ...        1.000000   \n",
            "75%            0.000000                  0.000000  ...        1.000000   \n",
            "max            1.000000                  1.000000  ...        1.000000   \n",
            "\n",
            "       gearbox_unknown  fuel_type_cng  fuel_type_electric  fuel_type_gasoline  \\\n",
            "count    313645.000000  313645.000000       313645.000000       313645.000000   \n",
            "mean          0.020651       0.001607            0.000249            0.288986   \n",
            "std           0.142212       0.040054            0.015768            0.453292   \n",
            "min           0.000000       0.000000            0.000000            0.000000   \n",
            "25%           0.000000       0.000000            0.000000            0.000000   \n",
            "50%           0.000000       0.000000            0.000000            0.000000   \n",
            "75%           0.000000       0.000000            0.000000            1.000000   \n",
            "max           1.000000       1.000000            1.000000            1.000000   \n",
            "\n",
            "       fuel_type_hybrid  fuel_type_lpg  fuel_type_other  fuel_type_petrol  \\\n",
            "count     313645.000000  313645.000000    313645.000000     313645.000000   \n",
            "mean           0.000657       0.015655         0.000325          0.625111   \n",
            "std            0.025620       0.124136         0.018031          0.484095   \n",
            "min            0.000000       0.000000         0.000000          0.000000   \n",
            "25%            0.000000       0.000000         0.000000          0.000000   \n",
            "50%            0.000000       0.000000         0.000000          1.000000   \n",
            "75%            0.000000       0.000000         0.000000          1.000000   \n",
            "max            1.000000       1.000000         1.000000          1.000000   \n",
            "\n",
            "       fuel_type_unknown  \n",
            "count      313645.000000  \n",
            "mean            0.067411  \n",
            "std             0.250732  \n",
            "min             0.000000  \n",
            "25%             0.000000  \n",
            "50%             0.000000  \n",
            "75%             0.000000  \n",
            "max             1.000000  \n",
            "\n",
            "[8 rows x 28 columns]\n"
          ]
        }
      ],
      "source": [
        "print(df.describe())"
      ]
    },
    {
      "cell_type": "code",
      "execution_count": null,
      "metadata": {
        "id": "vqeFf8XNkmlh",
        "outputId": "0f6eafca-8aef-41df-e8c7-e25c49d922d5"
      },
      "outputs": [
        {
          "name": "stdout",
          "output_type": "stream",
          "text": [
            "Número de outliers: 4381\n"
          ]
        }
      ],
      "source": [
        "# Calcular média e desvio padrão\n",
        "mean_power = df['power'].mean()\n",
        "std_power = df['power'].std()\n",
        "\n",
        "# Definir limites para outliers\n",
        "lower_limit = mean_power - 3 * std_power\n",
        "upper_limit = mean_power + 3 * std_power\n",
        "\n",
        "# Identificar outliers\n",
        "outliers = df[(df['power'] < lower_limit) | (df['power'] > upper_limit)]\n",
        "print(f\"Número de outliers: {len(outliers)}\")"
      ]
    },
    {
      "cell_type": "code",
      "execution_count": null,
      "metadata": {
        "id": "B8s7sXvqkmlh",
        "outputId": "b2de2859-2c47-4be8-9912-8cdf4a83f4d2"
      },
      "outputs": [
        {
          "name": "stdout",
          "output_type": "stream",
          "text": [
            "Total após remoção de outliers: 309264\n"
          ]
        }
      ],
      "source": [
        "# Remover outliers\n",
        "df = df[(df['power'] >= lower_limit) & (df['power'] <= upper_limit)]\n",
        "print(f\"Total após remoção de outliers: {len(df)}\")"
      ]
    },
    {
      "cell_type": "code",
      "execution_count": null,
      "metadata": {
        "id": "Gtw1xQe1kmli",
        "outputId": "2411986c-d01e-4c2e-fa49-d6850823b068"
      },
      "outputs": [
        {
          "data": {
            "image/png": "[encoded data removed]",
            "text/plain": [
              "<Figure size 1000x600 with 1 Axes>"
            ]
          },
          "metadata": {},
          "output_type": "display_data"
        }
      ],
      "source": [
        "import matplotlib.pyplot as plt\n",
        "\n",
        "# Criar boxplot\n",
        "plt.figure(figsize=(10, 6))\n",
        "plt.boxplot(df['power'].dropna())\n",
        "plt.title('Boxplot da Potência')\n",
        "plt.ylabel('Potência')\n",
        "plt.show()"
      ]
    },
    {
      "cell_type": "code",
      "execution_count": null,
      "metadata": {
        "id": "raCDJWpdkmli",
        "outputId": "c6d5140d-8e47-446c-f9c9-768399906094"
      },
      "outputs": [
        {
          "name": "stdout",
          "output_type": "stream",
          "text": [
            "Número de outliers no ano de registro: 2841\n"
          ]
        }
      ],
      "source": [
        "# Calcular média e desvio padrão\n",
        "mean_year = df['registration_year'].mean()\n",
        "std_year = df['registration_year'].std()\n",
        "\n",
        "# Definir limites para outliers\n",
        "lower_limit_year = mean_year - 3 * std_year\n",
        "upper_limit_year = mean_year + 3 * std_year\n",
        "\n",
        "# Identificar outliers\n",
        "outliers_year = df[(df['registration_year'] < lower_limit_year) | (df['registration_year'] > upper_limit_year)]\n",
        "print(f\"Número de outliers no ano de registro: {len(outliers_year)}\")\n"
      ]
    },
    {
      "cell_type": "code",
      "execution_count": null,
      "metadata": {
        "id": "K7uEswlGkmli",
        "outputId": "ae77f26c-2c93-4252-c06f-6e64a7f5ed2e"
      },
      "outputs": [
        {
          "data": {
            "image/png": "[encoded data removed]",
            "text/plain": [
              "<Figure size 1000x600 with 1 Axes>"
            ]
          },
          "metadata": {},
          "output_type": "display_data"
        }
      ],
      "source": [
        "# Criar boxplot\n",
        "plt.figure(figsize=(10, 6))\n",
        "plt.boxplot(df['registration_year'].dropna())\n",
        "plt.title('Boxplot do Ano')\n",
        "plt.ylabel('Ano')\n",
        "plt.show()"
      ]
    },
    {
      "cell_type": "code",
      "execution_count": null,
      "metadata": {
        "id": "CsFwSkHFkmli",
        "outputId": "de8f4d53-86c6-484e-d216-03870ecffbcd"
      },
      "outputs": [
        {
          "name": "stdout",
          "output_type": "stream",
          "text": [
            "Número de registros com preço igual a 0: 6754\n"
          ]
        }
      ],
      "source": [
        "# Contar registros com preço igual a 0\n",
        "zero_price_count = df[df['price'] == 0].shape[0]\n",
        "\n",
        "print(f\"Número de registros com preço igual a 0: {zero_price_count}\")"
      ]
    },
    {
      "cell_type": "code",
      "execution_count": null,
      "metadata": {
        "id": "NGjK_dnVkmlj",
        "outputId": "88ed8f86-db54-4f7f-de1f-0c2d78862c92"
      },
      "outputs": [
        {
          "name": "stdout",
          "output_type": "stream",
          "text": [
            "Número de registros após exclusão de preço igual a 0: 302510\n"
          ]
        }
      ],
      "source": [
        "# Remover registros com preço igual a 0\n",
        "df = df[df['price'] > 0]\n",
        "\n",
        "# Verificar o novo número de registros\n",
        "print(f\"Número de registros após exclusão de preço igual a 0: {len(df)}\")"
      ]
    },
    {
      "cell_type": "markdown",
      "metadata": {
        "id": "rOa31i0Rkmlj"
      },
      "source": [
        "## Treinamento do modelo"
      ]
    },
    {
      "cell_type": "markdown",
      "metadata": {
        "id": "xL8_ee5Dkmlj"
      },
      "source": [
        "### Divisão dos dados"
      ]
    },
    {
      "cell_type": "code",
      "execution_count": null,
      "metadata": {
        "id": "EVptURcIkmlj"
      },
      "outputs": [],
      "source": [
        "from sklearn.model_selection import train_test_split\n",
        "\n",
        "# Dividir os dados em variáveis independentes (X) e dependente (y)\n",
        "X = df.drop('price', axis=1)\n",
        "y = df['price']\n",
        "\n",
        "# Dividir os dados em treino e teste (80% treino, 20% teste)\n",
        "X_train, X_test, y_train, y_test = train_test_split(X, y, test_size=0.2, random_state=123)"
      ]
    },
    {
      "cell_type": "markdown",
      "metadata": {
        "id": "1BXg0ebYkmlk"
      },
      "source": [
        "### Treinamento dos modelos:\n",
        "#### Regressão linear"
      ]
    },
    {
      "cell_type": "code",
      "execution_count": null,
      "metadata": {
        "id": "jG_oeGL4kmlk",
        "outputId": "b26220c7-4a67-41aa-b20a-ded0b3ff014e"
      },
      "outputs": [
        {
          "name": "stdout",
          "output_type": "stream",
          "text": [
            "Regressão Linear - REQM: 2844.9026147260392\n",
            "CPU times: user 410 ms, sys: 181 ms, total: 591 ms\n",
            "Wall time: 586 ms\n"
          ]
        }
      ],
      "source": [
        "%%time\n",
        "from sklearn.linear_model import LinearRegression\n",
        "from sklearn.metrics import mean_squared_error\n",
        "\n",
        "# Treinando a regressão linear\n",
        "model_lr = LinearRegression()\n",
        "model_lr.fit(X_train, y_train)\n",
        "\n",
        "# Previsões e avaliação\n",
        "y_pred_lr = model_lr.predict(X_test)\n",
        "mse_lr = mean_squared_error(y_test, y_pred_lr)\n",
        "print(f'Regressão Linear - REQM: {mse_lr ** 0.5}')"
      ]
    },
    {
      "cell_type": "markdown",
      "metadata": {
        "id": "qwMcemCakmlk"
      },
      "source": [
        "#### Árvore de decisão"
      ]
    },
    {
      "cell_type": "code",
      "execution_count": null,
      "metadata": {
        "id": "OToVF61Gkmll",
        "outputId": "a9e2aa90-c497-435e-a8d0-dad21e22941a"
      },
      "outputs": [
        {
          "name": "stdout",
          "output_type": "stream",
          "text": [
            "Árvore de Decisão - REQM: 2027.7758307992408\n",
            "CPU times: user 2.28 s, sys: 115 ms, total: 2.39 s\n",
            "Wall time: 2.43 s\n"
          ]
        }
      ],
      "source": [
        "%%time\n",
        "from sklearn.tree import DecisionTreeRegressor\n",
        "\n",
        "# Treinando a árvore de decisão\n",
        "model_dt = DecisionTreeRegressor(random_state=123)\n",
        "model_dt.fit(X_train, y_train)\n",
        "\n",
        "# Previsões e avaliação\n",
        "y_pred_dt = model_dt.predict(X_test)\n",
        "mse_dt = mean_squared_error(y_test, y_pred_dt)\n",
        "print(f'Árvore de Decisão - REQM: {mse_dt ** 0.5}')"
      ]
    },
    {
      "cell_type": "markdown",
      "metadata": {
        "id": "0JcTjUplkmll"
      },
      "source": [
        "#### Floresta aleatória"
      ]
    },
    {
      "cell_type": "code",
      "execution_count": null,
      "metadata": {
        "id": "OOrUL0T3kmll",
        "outputId": "c1b7aa9e-6923-494a-c9b5-11634bbeb857"
      },
      "outputs": [
        {
          "data": {
            "text/plain": [
              "'from sklearn.model_selection import RandomizedSearchCV\\nfrom sklearn.ensemble import RandomForestRegressor\\nimport numpy as np\\n\\n# Definindo o modelo de Floresta Aleatória\\nrf_model = RandomForestRegressor(random_state=123)\\n\\n# Definindo o espaço de busca para os hiperparâmetros\\nparam_grid = {\\n    \\'n_estimators\\': [100, 200],\\n    \\'max_depth\\': [None, 10],\\n    \\'min_samples_split\\': [2, 5],\\n    \\'min_samples_leaf\\': [1, 2]\\n}\\n\\n# Configurando o RandomizedSearchCV\\nrandom_search_rf = RandomizedSearchCV(\\n    estimator=rf_model,\\n    param_distributions=param_grid,\\n    n_iter=10,  # Número de combinações de hiperparâmetros a serem testadas\\n    cv=3,  # Validação cruzada com 3 dobras\\n    n_jobs=-1,  # Usa todos os processadores disponíveis\\n    verbose=2,  # Exibe o progresso\\n    scoring=\\'neg_mean_squared_error\\',  # Métrica para otimizar\\n    random_state=123  # Garante a reprodutibilidade\\n)\\n\\n# Treinando o modelo com RandomizedSearchCV\\n%time random_search_rf.fit(X_train, y_train)\\n\\n# Recuperando o melhor modelo\\nbest_rf_model = random_search_rf.best_estimator_\\n\\n# Exibindo os melhores hiperparâmetros encontrados\\nprint(f\"Melhores parâmetros para Floresta Aleatória: {random_search_rf.best_params_}\")\\n\\n# Avaliando o modelo no conjunto de testes\\ny_pred = best_rf_model.predict(X_test)\\nrf_rmse = np.sqrt(mean_squared_error(y_test, y_pred))\\nprint(f\"REQM do modelo otimizado de Floresta Aleatória: {rf_rmse}\")\\n'"
            ]
          },
          "execution_count": 27,
          "metadata": {},
          "output_type": "execute_result"
        }
      ],
      "source": [
        "from sklearn.model_selection import RandomizedSearchCV\n",
        "from sklearn.ensemble import RandomForestRegressor\n",
        "import numpy as np\n",
        "\n",
        "# Definindo o modelo de Floresta Aleatória\n",
        "rf_model = RandomForestRegressor(random_state=123)\n",
        "\n",
        "# Definindo o espaço de busca para os hiperparâmetros\n",
        "param_grid = {\n",
        "    'n_estimators': [100, 200],\n",
        "    'max_depth': [None, 10],\n",
        "    'min_samples_split': [2, 5],\n",
        "    'min_samples_leaf': [1, 2]\n",
        "}\n",
        "\n",
        "# Configurando o RandomizedSearchCV\n",
        "random_search_rf = RandomizedSearchCV(\n",
        "    estimator=rf_model,\n",
        "    param_distributions=param_grid,\n",
        "    n_iter=10,  # Número de combinações de hiperparâmetros a serem testadas\n",
        "    cv=3,  # Validação cruzada com 3 dobras\n",
        "    n_jobs=-1,  # Usa todos os processadores disponíveis\n",
        "    verbose=2,  # Exibe o progresso\n",
        "    scoring='neg_mean_squared_error',  # Métrica para otimizar\n",
        "    random_state=123  # Garante a reprodutibilidade\n",
        ")\n",
        "\n",
        "# Treinando o modelo com RandomizedSearchCV\n",
        "%time random_search_rf.fit(X_train, y_train)\n",
        "\n",
        "# Recuperando o melhor modelo\n",
        "best_rf_model = random_search_rf.best_estimator_\n",
        "\n",
        "# Exibindo os melhores hiperparâmetros encontrados\n",
        "print(f\"Melhores parâmetros para Floresta Aleatória: {random_search_rf.best_params_}\")\n",
        "\n",
        "# Avaliando o modelo no conjunto de testes\n",
        "y_pred = best_rf_model.predict(X_test)\n",
        "rf_rmse = np.sqrt(mean_squared_error(y_test, y_pred))\n",
        "print(f\"REQM do modelo otimizado de Floresta Aleatória: {rf_rmse}\")"
      ]
    },
    {
      "cell_type": "markdown",
      "metadata": {
        "id": "C8v7isMakmll"
      },
      "source": [
        "Este análise está derrubando o kernel, então executei localmente e o resultado foi:\n",
        "\n",
        "CPU times: user 3min 38s, sys: 6.26 s, total: 3min 44s\n",
        "Wall time: 43min 54s\n",
        "Melhores parâmetros para Floresta Aleatória: {'n_estimators': 200, 'min_samples_split': 5, 'min_samples_leaf': 2, 'max_depth': None}\n",
        "REQM do modelo otimizado de Floresta Aleatória: 1559.670278464711"
      ]
    },
    {
      "cell_type": "markdown",
      "metadata": {
        "id": "qEGhu7yrkmll"
      },
      "source": [
        "#### Gradient boosting"
      ]
    },
    {
      "cell_type": "code",
      "execution_count": null,
      "metadata": {
        "id": "1B5iRSbWkmlm",
        "outputId": "785888f8-34dc-4ea1-dd29-eb57a6e3fc89"
      },
      "outputs": [
        {
          "name": "stdout",
          "output_type": "stream",
          "text": [
            "Gradient Boosting - REQM: 1897.6420443525017\n",
            "CPU times: user 40 s, sys: 10.5 ms, total: 40 s\n",
            "Wall time: 40.1 s\n"
          ]
        }
      ],
      "source": [
        "%%time\n",
        "from sklearn.ensemble import GradientBoostingRegressor\n",
        "\n",
        "# Treinando o gradient boosting\n",
        "model_gb = GradientBoostingRegressor(random_state=123, n_estimators=100)\n",
        "model_gb.fit(X_train, y_train)\n",
        "\n",
        "# Previsões e avaliação\n",
        "y_pred_gb = model_gb.predict(X_test)\n",
        "mse_gb = mean_squared_error(y_test, y_pred_gb)\n",
        "print(f'Gradient Boosting - REQM: {mse_gb ** 0.5}')"
      ]
    },
    {
      "cell_type": "markdown",
      "metadata": {
        "id": "DBGAArNVkmlm"
      },
      "source": [
        "#### LightGBM"
      ]
    },
    {
      "cell_type": "code",
      "execution_count": null,
      "metadata": {
        "id": "V0FTvthpkmlm",
        "outputId": "25f9b463-95e2-42b4-88f5-1ba0de9f7302"
      },
      "outputs": [
        {
          "data": {
            "text/plain": [
              "'%%time\\nimport lightgbm as lgb\\nfrom sklearn.model_selection import RandomizedSearchCV\\n\\n# Defina o modelo LightGBM\\nlgb_model = lgb.LGBMRegressor(random_state=123)\\n\\n# Defina o espaço de parâmetros a ser buscado\\nparam_dist = {\\n    \\'n_estimators\\': [100, 200, 300, 400, 500],\\n    \\'max_depth\\': [10, 20, 30, None],\\n    \\'learning_rate\\': [0.01, 0.05, 0.1, 0.15],\\n    \\'num_leaves\\': [20, 30, 40, 50],\\n    \\'min_child_samples\\': [10, 20, 30],\\n    \\'subsample\\': [0.6, 0.8, 1.0],\\n    \\'colsample_bytree\\': [0.6, 0.8, 1.0]\\n}\\n\\n# Configurar o RandomizedSearchCV\\nlgb_random_search = RandomizedSearchCV(\\n    lgb_model,\\n    param_distributions=param_dist,\\n    n_iter=50,  # Número de combinações a serem testadas\\n    scoring=\\'neg_root_mean_squared_error\\',\\n    cv=5,\\n    random_state=123,\\n    n_jobs=-1\\n)\\n\\n# Ajustar o modelo usando RandomizedSearchCV\\nlgb_random_search.fit(X_train, y_train)\\n\\n# Exibir os melhores parâmetros e o REQM correspondente\\nbest_lgb_model = lgb_random_search.best_estimator_\\nbest_params = lgb_random_search.best_params_\\nbest_rmse = -lgb_random_search.best_score_\\n\\nprint(\"Melhores parâmetros para LightGBM:\", best_params)\\nprint(\"REQM do modelo otimizado de LightGBM:\", best_rmse)\\n'"
            ]
          },
          "execution_count": 29,
          "metadata": {},
          "output_type": "execute_result"
        }
      ],
      "source": [
        "%%time\n",
        "import lightgbm as lgb\n",
        "from sklearn.model_selection import RandomizedSearchCV\n",
        "\n",
        "# Defina o modelo LightGBM\n",
        "lgb_model = lgb.LGBMRegressor(random_state=123)\n",
        "\n",
        "# Defina o espaço de parâmetros a ser buscado\n",
        "param_dist = {\n",
        "    'n_estimators': [100, 200, 300, 400, 500],\n",
        "    'max_depth': [10, 20, 30, None],\n",
        "    'learning_rate': [0.01, 0.05, 0.1, 0.15],\n",
        "    'num_leaves': [20, 30, 40, 50],\n",
        "    'min_child_samples': [10, 20, 30],\n",
        "    'subsample': [0.6, 0.8, 1.0],\n",
        "    'colsample_bytree': [0.6, 0.8, 1.0]\n",
        "}\n",
        "\n",
        "# Configurar o RandomizedSearchCV\n",
        "lgb_random_search = RandomizedSearchCV(\n",
        "    lgb_model,\n",
        "    param_distributions=param_dist,\n",
        "    n_iter=50,  # Número de combinações a serem testadas\n",
        "    scoring='neg_root_mean_squared_error',\n",
        "    cv=5,\n",
        "    random_state=123,\n",
        "    n_jobs=-1\n",
        ")\n",
        "\n",
        "# Ajustar o modelo usando RandomizedSearchCV\n",
        "lgb_random_search.fit(X_train, y_train)\n",
        "\n",
        "# Exibir os melhores parâmetros e o REQM correspondente\n",
        "best_lgb_model = lgb_random_search.best_estimator_\n",
        "best_params = lgb_random_search.best_params_\n",
        "best_rmse = -lgb_random_search.best_score_\n",
        "\n",
        "print(\"Melhores parâmetros para LightGBM:\", best_params)\n",
        "print(\"REQM do modelo otimizado de LightGBM:\", best_rmse)\n"
      ]
    },
    {
      "cell_type": "markdown",
      "metadata": {
        "id": "dA0hM80xkmln"
      },
      "source": [
        "Melhores parâmetros para LightGBM: {'subsample': 0.8, 'num_leaves': 50, 'n_estimators': 500, 'min_child_samples': 30, 'max_depth': 10, 'learning_rate': 0.15, 'colsample_bytree': 0.8}\n",
        "REQM do modelo otimizado de LightGBM: 1522.7913773164485\n",
        "CPU times: user 42min 20s, sys: 11.7 s, total: 42min 31s\n",
        "Wall time: 42min 48s"
      ]
    },
    {
      "cell_type": "markdown",
      "metadata": {
        "id": "kxe4oHfDkmln"
      },
      "source": [
        "## Análise do modelo"
      ]
    },
    {
      "cell_type": "markdown",
      "metadata": {
        "id": "LypMqz8Zkmln"
      },
      "source": [
        "Desempenho do modelo:\n",
        "\n",
        "- LightGBM ainda oferece o melhor REQM, indicando a maior precisão na previsão.\n",
        "- Floresta Aleatória é a segunda melhor em termos de REQM.\n",
        "- Gradient boosting fica em terceiro.\n",
        "- Árvore de Decisão e Regressão Linear têm um desempenho inferior em termos de REQM.\n",
        "\n",
        "Tempo de execução\n",
        "\n",
        "- LightGBM é o mais lento em termos de ambos CPU Time e Wall Time, devido à complexidade e ao grande número de iterações.\n",
        "- Floresta Aleatória leva menos tempo que LightGBM, mas ainda é consideravelmente mais demorado do que Árvore de Decisão e Regressão Linear.\n",
        "- Gradient boosting é rápido, comparado com os anteriores.\n",
        "- Árvore de Decisão e Regressão Linear são significativamente mais rápidos.\n",
        "\n",
        "Qualidade vs. tempo\n",
        "\n",
        "- LightGBM continua sendo a melhor escolha em termos de precisão, mas seu tempo de execução é muito alto.\n",
        "- Floresta Aleatória é uma alternativa viável se você precisar de um equilíbrio entre precisão e tempo, já que tem um desempenho razoável em REQM e utiliza menos tempo de CPU que LightGBM.\n",
        "- Gradient boosting entre os que levaram menos tempo, foi oque chegou mais próximo dos melhores REQM.\n",
        "- Árvore de Decisão e Regressão Linear são modelos mais rápidos, mas oferecem menos precisão."
      ]
    },
    {
      "cell_type": "markdown",
      "metadata": {
        "id": "cZcFLBOlkmln"
      },
      "source": [
        "### Avaliação dos modelos\n",
        "\n",
        "#### Gradient boosting"
      ]
    },
    {
      "cell_type": "code",
      "execution_count": null,
      "metadata": {
        "id": "UnoQrFobkmlo",
        "outputId": "b51546a7-05e2-40bf-e002-eed77f4324ec"
      },
      "outputs": [
        {
          "name": "stdout",
          "output_type": "stream",
          "text": [
            "Gradient Boosting - REQM nos dados de teste: 1897.6420443525017\n",
            "CPU times: user 130 ms, sys: 33 µs, total: 130 ms\n",
            "Wall time: 143 ms\n"
          ]
        }
      ],
      "source": [
        "%%time\n",
        "# Usando o modelo treinado\n",
        "y_pred_gb_test = model_gb.predict(X_test)\n",
        "\n",
        "# Calculando o REQM nos dados de teste\n",
        "mse_gb_test = mean_squared_error(y_test, y_pred_gb_test)\n",
        "rmse_gb_test = mse_gb_test ** 0.5\n",
        "\n",
        "print(f'Gradient Boosting - REQM nos dados de teste: {rmse_gb_test}')"
      ]
    },
    {
      "cell_type": "markdown",
      "metadata": {
        "id": "7xLGgq0Ikmlo"
      },
      "source": [
        "#### Floresta Aleatória"
      ]
    },
    {
      "cell_type": "code",
      "execution_count": null,
      "metadata": {
        "id": "emjS1HXVkmlo",
        "outputId": "401226a8-aad5-4b27-a9ac-67967bbbd25d"
      },
      "outputs": [
        {
          "name": "stdout",
          "output_type": "stream",
          "text": [
            "Floresta Aleatória - REQM nos dados de teste: 1553.7983928115486\n",
            "CPU times: user 4min 26s, sys: 858 ms, total: 4min 27s\n",
            "Wall time: 4min 27s\n"
          ]
        }
      ],
      "source": [
        "%%time\n",
        "from sklearn.ensemble import RandomForestRegressor\n",
        "\n",
        "# Definindo o modelo de Floresta Aleatória com os melhores parâmetros\n",
        "rf_best_model = RandomForestRegressor(\n",
        "    n_estimators=200,\n",
        "    min_samples_split=5,\n",
        "    min_samples_leaf=2,\n",
        "    max_depth=None,\n",
        "    random_state=123\n",
        ")\n",
        "\n",
        "# Treinando o modelo nos dados de treino\n",
        "rf_best_model.fit(X_train, y_train)\n",
        "\n",
        "# Fazendo previsões nos dados de teste\n",
        "y_pred_rf_test = rf_best_model.predict(X_test)\n",
        "\n",
        "# Calculando o REQM nos dados de teste\n",
        "mse_rf_test = mean_squared_error(y_test, y_pred_rf_test)\n",
        "rmse_rf_test = mse_rf_test ** 0.5\n",
        "\n",
        "# Exibindo o resultado\n",
        "print(f'Floresta Aleatória - REQM nos dados de teste: {rmse_rf_test}')\n"
      ]
    },
    {
      "cell_type": "markdown",
      "metadata": {
        "id": "XUFaPPsAkmlo"
      },
      "source": [
        "#### LightGBM"
      ]
    },
    {
      "cell_type": "code",
      "execution_count": null,
      "metadata": {
        "id": "zdWZWoM2kmlp",
        "outputId": "ff2a6743-9bee-44f9-bdf3-e03a0626418b"
      },
      "outputs": [
        {
          "name": "stdout",
          "output_type": "stream",
          "text": [
            "LightGBM - REQM nos dados de teste 1536.372424011308\n",
            "CPU times: user 17.2 s, sys: 148 ms, total: 17.3 s\n",
            "Wall time: 17.4 s\n"
          ]
        }
      ],
      "source": [
        "%%time\n",
        "import lightgbm as lgb\n",
        "from sklearn.metrics import mean_squared_error\n",
        "\n",
        "# Treinar o modelo com os melhores parâmetros encontrados\n",
        "best_params = {'subsample': 0.8, 'num_leaves': 50, 'n_estimators': 500, 'min_child_samples': 30, 'max_depth': 10, 'learning_rate': 0.15, 'colsample_bytree': 0.8}\n",
        "lgb_model_best = lgb.LGBMRegressor(**best_params, random_state=123)\n",
        "lgb_model_best.fit(X_train, y_train)\n",
        "\n",
        "# Fazer previsões nos dados de teste\n",
        "y_pred = lgb_model_best.predict(X_test)\n",
        "\n",
        "# Avaliar o modelo\n",
        "rmse = np.sqrt(mean_squared_error(y_test, y_pred))\n",
        "print(f'LightGBM - REQM nos dados de teste {rmse}')"
      ]
    },
    {
      "cell_type": "markdown",
      "metadata": {
        "id": "oy8RZ5mHkmlp"
      },
      "source": [
        "## Conclusão"
      ]
    },
    {
      "cell_type": "markdown",
      "metadata": {
        "id": "Q-40UZ-kkmlp"
      },
      "source": [
        "O objetivo deste projeto foi desenvolver um modelo de machine learning para prever o valor de mercado de carros usados, utilizando uma abordagem de regressão. Foram testados diferentes modelos, incluindo Regressão Linear, Árvore de Decisão, Floresta Aleatória, Gradient Boosting, e LightGBM, com ajuste de hiperparâmetros para otimizar o desempenho.\n",
        "\n",
        "**Análise dos resultados**\n",
        "\n",
        "Melhor Modelo: *LightGBM*\n",
        "\n",
        "O modelo LightGBM apresentou o menor REQM (1536.372424011308) nos dados de teste, com um tempo de execução bastante eficiente. Comparado com a Floresta Aleatória e Gradient Boosting, o LightGBM teve um desempenho ligeiramente superior, tornando-se a escolha ideal para implementação final.\n",
        "\n",
        "Desempenho vs. tempo:\n",
        "\n",
        "O tempo de execução do LightGBM foi significativamente menor que o da Floresta Aleatória, o que reflete a eficiência do modelo em termos de tempo e recursos computacionais. Caso a a velocidade seja mais importente que a precisão, o uso do Gradient Boosting pode ser estudado."
      ]
    }
  ],
  "metadata": {
    "ExecuteTimeLog": [
      {
        "duration": 1224,
        "start_time": "2024-08-13T22:38:51.101Z"
      },
      {
        "duration": 720,
        "start_time": "2024-08-13T22:39:14.419Z"
      },
      {
        "duration": 13,
        "start_time": "2024-08-13T22:47:15.480Z"
      },
      {
        "duration": 145,
        "start_time": "2024-08-13T22:47:56.895Z"
      },
      {
        "duration": 132,
        "start_time": "2024-08-13T22:48:17.463Z"
      },
      {
        "duration": 28,
        "start_time": "2024-08-13T22:53:01.972Z"
      },
      {
        "duration": 65,
        "start_time": "2024-08-13T22:56:07.014Z"
      },
      {
        "duration": 8,
        "start_time": "2024-08-13T22:56:22.231Z"
      },
      {
        "duration": 7,
        "start_time": "2024-08-13T22:56:35.847Z"
      },
      {
        "duration": 7,
        "start_time": "2024-08-13T22:56:55.437Z"
      },
      {
        "duration": 15,
        "start_time": "2024-08-13T22:57:32.570Z"
      },
      {
        "duration": 16,
        "start_time": "2024-08-13T22:57:45.929Z"
      },
      {
        "duration": 48,
        "start_time": "2024-08-13T22:58:27.083Z"
      },
      {
        "duration": 15,
        "start_time": "2024-08-13T22:58:44.383Z"
      },
      {
        "duration": 33,
        "start_time": "2024-08-13T22:59:11.307Z"
      },
      {
        "duration": 95,
        "start_time": "2024-08-13T22:59:34.369Z"
      },
      {
        "duration": 77,
        "start_time": "2024-08-13T23:00:06.446Z"
      },
      {
        "duration": 98,
        "start_time": "2024-08-13T23:00:09.369Z"
      },
      {
        "duration": 602,
        "start_time": "2024-08-13T23:00:37.940Z"
      },
      {
        "duration": 22,
        "start_time": "2024-08-13T23:00:54.117Z"
      },
      {
        "duration": 1195,
        "start_time": "2024-08-13T23:03:32.526Z"
      },
      {
        "duration": 18,
        "start_time": "2024-08-13T23:03:33.725Z"
      },
      {
        "duration": 168,
        "start_time": "2024-08-13T23:03:33.746Z"
      },
      {
        "duration": 148,
        "start_time": "2024-08-13T23:03:33.918Z"
      },
      {
        "duration": 30,
        "start_time": "2024-08-13T23:03:34.069Z"
      },
      {
        "duration": 72,
        "start_time": "2024-08-13T23:03:34.102Z"
      },
      {
        "duration": 42,
        "start_time": "2024-08-13T23:03:34.177Z"
      },
      {
        "duration": 82,
        "start_time": "2024-08-13T23:03:34.233Z"
      },
      {
        "duration": 97,
        "start_time": "2024-08-13T23:03:39.681Z"
      },
      {
        "duration": 1877,
        "start_time": "2024-08-13T23:03:47.735Z"
      },
      {
        "duration": 715,
        "start_time": "2024-08-13T23:05:43.052Z"
      },
      {
        "duration": 1226,
        "start_time": "2024-08-13T23:07:15.025Z"
      },
      {
        "duration": 14,
        "start_time": "2024-08-13T23:07:16.255Z"
      },
      {
        "duration": 175,
        "start_time": "2024-08-13T23:07:16.276Z"
      },
      {
        "duration": 147,
        "start_time": "2024-08-13T23:07:16.457Z"
      },
      {
        "duration": 40,
        "start_time": "2024-08-13T23:07:16.607Z"
      },
      {
        "duration": 45,
        "start_time": "2024-08-13T23:07:16.650Z"
      },
      {
        "duration": 71,
        "start_time": "2024-08-13T23:07:16.698Z"
      },
      {
        "duration": 93,
        "start_time": "2024-08-13T23:07:16.772Z"
      },
      {
        "duration": 677,
        "start_time": "2024-08-13T23:07:16.870Z"
      },
      {
        "duration": 1134,
        "start_time": "2024-08-13T23:07:17.552Z"
      },
      {
        "duration": 147,
        "start_time": "2024-08-13T23:10:39.605Z"
      },
      {
        "duration": 18,
        "start_time": "2024-08-13T23:10:52.245Z"
      },
      {
        "duration": 179,
        "start_time": "2024-08-13T23:11:59.824Z"
      },
      {
        "duration": 61,
        "start_time": "2024-08-13T23:16:07.445Z"
      },
      {
        "duration": 5,
        "start_time": "2024-08-13T23:17:08.480Z"
      },
      {
        "duration": 3,
        "start_time": "2024-08-13T23:27:17.006Z"
      },
      {
        "duration": 13,
        "start_time": "2024-08-13T23:27:34.045Z"
      },
      {
        "duration": 4058,
        "start_time": "2024-08-13T23:28:03.752Z"
      },
      {
        "duration": 17,
        "start_time": "2024-08-13T23:34:35.544Z"
      },
      {
        "duration": 216,
        "start_time": "2024-08-13T23:34:43.922Z"
      },
      {
        "duration": 20,
        "start_time": "2024-08-13T23:35:29.992Z"
      },
      {
        "duration": 21,
        "start_time": "2024-08-13T23:35:34.068Z"
      },
      {
        "duration": 197,
        "start_time": "2024-08-13T23:35:36.020Z"
      },
      {
        "duration": 5,
        "start_time": "2024-08-13T23:36:05.615Z"
      },
      {
        "duration": 14,
        "start_time": "2024-08-13T23:36:20.073Z"
      },
      {
        "duration": 187,
        "start_time": "2024-08-13T23:36:43.374Z"
      },
      {
        "duration": 21,
        "start_time": "2024-08-13T23:39:12.601Z"
      },
      {
        "duration": 429,
        "start_time": "2024-08-13T23:39:27.683Z"
      },
      {
        "duration": 11,
        "start_time": "2024-08-13T23:39:41.122Z"
      },
      {
        "duration": 292,
        "start_time": "2024-08-13T23:41:18.378Z"
      },
      {
        "duration": 16,
        "start_time": "2024-08-13T23:42:19.814Z"
      },
      {
        "duration": 8,
        "start_time": "2024-08-13T23:43:31.545Z"
      },
      {
        "duration": 7,
        "start_time": "2024-08-13T23:43:41.770Z"
      },
      {
        "duration": 8,
        "start_time": "2024-08-13T23:43:46.729Z"
      },
      {
        "duration": 8,
        "start_time": "2024-08-13T23:43:51.086Z"
      },
      {
        "duration": 8,
        "start_time": "2024-08-13T23:43:56.982Z"
      },
      {
        "duration": 8,
        "start_time": "2024-08-13T23:44:02.001Z"
      },
      {
        "duration": 20,
        "start_time": "2024-08-13T23:45:13.429Z"
      },
      {
        "duration": 406,
        "start_time": "2024-08-13T23:45:19.404Z"
      },
      {
        "duration": 19,
        "start_time": "2024-08-13T23:45:34.084Z"
      },
      {
        "duration": 11,
        "start_time": "2024-08-13T23:45:41.277Z"
      },
      {
        "duration": 203,
        "start_time": "2024-08-13T23:45:45.464Z"
      },
      {
        "duration": 13,
        "start_time": "2024-08-13T23:46:00.361Z"
      },
      {
        "duration": 16,
        "start_time": "2024-08-13T23:46:11.632Z"
      },
      {
        "duration": 8,
        "start_time": "2024-08-13T23:47:48.781Z"
      },
      {
        "duration": 19,
        "start_time": "2024-08-13T23:48:29.072Z"
      },
      {
        "duration": 11,
        "start_time": "2024-08-13T23:48:56.777Z"
      },
      {
        "duration": 438,
        "start_time": "2024-08-13T23:50:08.202Z"
      },
      {
        "duration": 836,
        "start_time": "2024-08-13T23:50:08.645Z"
      },
      {
        "duration": 16,
        "start_time": "2024-08-13T23:50:09.484Z"
      },
      {
        "duration": 200,
        "start_time": "2024-08-13T23:50:09.505Z"
      },
      {
        "duration": 149,
        "start_time": "2024-08-13T23:50:09.711Z"
      },
      {
        "duration": 32,
        "start_time": "2024-08-13T23:50:09.863Z"
      },
      {
        "duration": 72,
        "start_time": "2024-08-13T23:50:09.899Z"
      },
      {
        "duration": 42,
        "start_time": "2024-08-13T23:50:09.976Z"
      },
      {
        "duration": 131,
        "start_time": "2024-08-13T23:50:10.021Z"
      },
      {
        "duration": 51,
        "start_time": "2024-08-13T23:50:10.158Z"
      },
      {
        "duration": 715,
        "start_time": "2024-08-13T23:50:10.212Z"
      },
      {
        "duration": 877,
        "start_time": "2024-08-13T23:50:10.930Z"
      },
      {
        "duration": 43,
        "start_time": "2024-08-13T23:50:11.810Z"
      },
      {
        "duration": 6,
        "start_time": "2024-08-13T23:50:11.856Z"
      },
      {
        "duration": 163,
        "start_time": "2024-08-13T23:50:11.865Z"
      },
      {
        "duration": 18,
        "start_time": "2024-08-13T23:50:12.032Z"
      },
      {
        "duration": 193,
        "start_time": "2024-08-13T23:50:12.053Z"
      },
      {
        "duration": 14,
        "start_time": "2024-08-13T23:50:12.250Z"
      },
      {
        "duration": 20,
        "start_time": "2024-08-13T23:50:12.267Z"
      },
      {
        "duration": 454,
        "start_time": "2024-08-13T23:50:12.290Z"
      },
      {
        "duration": 12,
        "start_time": "2024-08-13T23:50:12.747Z"
      },
      {
        "duration": 231,
        "start_time": "2024-08-13T23:50:12.762Z"
      },
      {
        "duration": 9,
        "start_time": "2024-08-13T23:50:12.996Z"
      },
      {
        "duration": 42,
        "start_time": "2024-08-13T23:50:13.008Z"
      },
      {
        "duration": 11,
        "start_time": "2024-08-13T23:50:44.088Z"
      },
      {
        "duration": 414,
        "start_time": "2024-08-13T23:50:52.281Z"
      },
      {
        "duration": 755,
        "start_time": "2024-08-13T23:50:52.699Z"
      },
      {
        "duration": 13,
        "start_time": "2024-08-13T23:50:53.457Z"
      },
      {
        "duration": 170,
        "start_time": "2024-08-13T23:50:53.473Z"
      },
      {
        "duration": 139,
        "start_time": "2024-08-13T23:50:53.647Z"
      },
      {
        "duration": 46,
        "start_time": "2024-08-13T23:50:53.790Z"
      },
      {
        "duration": 51,
        "start_time": "2024-08-13T23:50:53.839Z"
      },
      {
        "duration": 61,
        "start_time": "2024-08-13T23:50:53.892Z"
      },
      {
        "duration": 90,
        "start_time": "2024-08-13T23:50:53.956Z"
      },
      {
        "duration": 63,
        "start_time": "2024-08-13T23:50:54.051Z"
      },
      {
        "duration": 696,
        "start_time": "2024-08-13T23:50:54.117Z"
      },
      {
        "duration": 891,
        "start_time": "2024-08-13T23:50:54.816Z"
      },
      {
        "duration": 5,
        "start_time": "2024-08-13T23:50:55.710Z"
      },
      {
        "duration": 157,
        "start_time": "2024-08-13T23:50:55.720Z"
      },
      {
        "duration": 18,
        "start_time": "2024-08-13T23:50:55.880Z"
      },
      {
        "duration": 202,
        "start_time": "2024-08-13T23:50:55.902Z"
      },
      {
        "duration": 12,
        "start_time": "2024-08-13T23:50:56.107Z"
      },
      {
        "duration": 21,
        "start_time": "2024-08-13T23:50:56.133Z"
      },
      {
        "duration": 471,
        "start_time": "2024-08-13T23:50:56.157Z"
      },
      {
        "duration": 13,
        "start_time": "2024-08-13T23:50:56.635Z"
      },
      {
        "duration": 220,
        "start_time": "2024-08-13T23:50:56.655Z"
      },
      {
        "duration": 8,
        "start_time": "2024-08-13T23:50:56.878Z"
      },
      {
        "duration": 49,
        "start_time": "2024-08-13T23:50:56.889Z"
      },
      {
        "duration": 11,
        "start_time": "2024-08-13T23:51:28.300Z"
      },
      {
        "duration": 458,
        "start_time": "2024-08-14T14:32:08.737Z"
      },
      {
        "duration": 802,
        "start_time": "2024-08-14T14:32:09.198Z"
      },
      {
        "duration": 13,
        "start_time": "2024-08-14T14:32:10.004Z"
      },
      {
        "duration": 175,
        "start_time": "2024-08-14T14:32:10.033Z"
      },
      {
        "duration": 146,
        "start_time": "2024-08-14T14:32:10.211Z"
      },
      {
        "duration": 32,
        "start_time": "2024-08-14T14:32:10.360Z"
      },
      {
        "duration": 65,
        "start_time": "2024-08-14T14:32:10.398Z"
      },
      {
        "duration": 41,
        "start_time": "2024-08-14T14:32:10.466Z"
      },
      {
        "duration": 89,
        "start_time": "2024-08-14T14:32:10.510Z"
      },
      {
        "duration": 62,
        "start_time": "2024-08-14T14:32:10.604Z"
      },
      {
        "duration": 664,
        "start_time": "2024-08-14T14:32:10.668Z"
      },
      {
        "duration": 905,
        "start_time": "2024-08-14T14:32:11.335Z"
      },
      {
        "duration": 6,
        "start_time": "2024-08-14T14:32:12.243Z"
      },
      {
        "duration": 153,
        "start_time": "2024-08-14T14:32:12.252Z"
      },
      {
        "duration": 28,
        "start_time": "2024-08-14T14:32:12.408Z"
      },
      {
        "duration": 185,
        "start_time": "2024-08-14T14:32:12.439Z"
      },
      {
        "duration": 16,
        "start_time": "2024-08-14T14:32:12.627Z"
      },
      {
        "duration": 19,
        "start_time": "2024-08-14T14:32:12.646Z"
      },
      {
        "duration": 4058,
        "start_time": "2024-08-14T14:32:12.667Z"
      },
      {
        "duration": 12,
        "start_time": "2024-08-14T14:32:16.731Z"
      },
      {
        "duration": 225,
        "start_time": "2024-08-14T14:32:16.746Z"
      },
      {
        "duration": 8,
        "start_time": "2024-08-14T14:32:16.974Z"
      },
      {
        "duration": 46,
        "start_time": "2024-08-14T14:32:16.986Z"
      },
      {
        "duration": 4,
        "start_time": "2024-08-14T14:33:47.500Z"
      },
      {
        "duration": 83,
        "start_time": "2024-08-14T14:37:34.803Z"
      },
      {
        "duration": 62,
        "start_time": "2024-08-14T14:37:53.795Z"
      },
      {
        "duration": 28,
        "start_time": "2024-08-14T14:38:22.809Z"
      },
      {
        "duration": 64,
        "start_time": "2024-08-14T14:44:03.636Z"
      },
      {
        "duration": 104,
        "start_time": "2024-08-14T14:44:45.542Z"
      },
      {
        "duration": 1539,
        "start_time": "2024-08-14T14:45:02.450Z"
      },
      {
        "duration": 100883,
        "start_time": "2024-08-14T14:47:02.517Z"
      },
      {
        "duration": 1359,
        "start_time": "2024-08-14T14:49:12.256Z"
      },
      {
        "duration": 407,
        "start_time": "2024-08-14T14:49:23.790Z"
      },
      {
        "duration": 861,
        "start_time": "2024-08-14T14:49:24.201Z"
      },
      {
        "duration": 14,
        "start_time": "2024-08-14T14:49:25.065Z"
      },
      {
        "duration": 221,
        "start_time": "2024-08-14T14:49:25.083Z"
      },
      {
        "duration": 226,
        "start_time": "2024-08-14T14:49:25.307Z"
      },
      {
        "duration": 29,
        "start_time": "2024-08-14T14:49:25.536Z"
      },
      {
        "duration": 65,
        "start_time": "2024-08-14T14:49:25.568Z"
      },
      {
        "duration": 50,
        "start_time": "2024-08-14T14:49:25.636Z"
      },
      {
        "duration": 118,
        "start_time": "2024-08-14T14:49:25.689Z"
      },
      {
        "duration": 77,
        "start_time": "2024-08-14T14:49:25.813Z"
      },
      {
        "duration": 713,
        "start_time": "2024-08-14T14:49:25.893Z"
      },
      {
        "duration": 960,
        "start_time": "2024-08-14T14:49:26.609Z"
      },
      {
        "duration": 5,
        "start_time": "2024-08-14T14:49:27.573Z"
      },
      {
        "duration": 165,
        "start_time": "2024-08-14T14:49:27.582Z"
      },
      {
        "duration": 18,
        "start_time": "2024-08-14T14:49:27.750Z"
      },
      {
        "duration": 189,
        "start_time": "2024-08-14T14:49:27.771Z"
      },
      {
        "duration": 13,
        "start_time": "2024-08-14T14:49:27.963Z"
      },
      {
        "duration": 19,
        "start_time": "2024-08-14T14:49:27.978Z"
      },
      {
        "duration": 455,
        "start_time": "2024-08-14T14:49:28.000Z"
      },
      {
        "duration": 11,
        "start_time": "2024-08-14T14:49:28.459Z"
      },
      {
        "duration": 237,
        "start_time": "2024-08-14T14:49:28.473Z"
      },
      {
        "duration": 7,
        "start_time": "2024-08-14T14:49:28.713Z"
      },
      {
        "duration": 22,
        "start_time": "2024-08-14T14:49:28.732Z"
      },
      {
        "duration": 161,
        "start_time": "2024-08-14T14:49:28.758Z"
      },
      {
        "duration": 71,
        "start_time": "2024-08-14T14:49:28.922Z"
      },
      {
        "duration": 146,
        "start_time": "2024-08-14T14:49:28.996Z"
      },
      {
        "duration": 1749,
        "start_time": "2024-08-14T14:49:29.145Z"
      },
      {
        "duration": 104846,
        "start_time": "2024-08-14T14:49:30.900Z"
      },
      {
        "duration": 1369,
        "start_time": "2024-08-14T14:51:32.639Z"
      },
      {
        "duration": 433,
        "start_time": "2024-08-14T14:51:53.164Z"
      },
      {
        "duration": 778,
        "start_time": "2024-08-14T14:51:53.601Z"
      },
      {
        "duration": 14,
        "start_time": "2024-08-14T14:51:54.382Z"
      },
      {
        "duration": 164,
        "start_time": "2024-08-14T14:51:54.400Z"
      },
      {
        "duration": 159,
        "start_time": "2024-08-14T14:51:54.567Z"
      },
      {
        "duration": 29,
        "start_time": "2024-08-14T14:51:54.732Z"
      },
      {
        "duration": 47,
        "start_time": "2024-08-14T14:51:54.764Z"
      },
      {
        "duration": 41,
        "start_time": "2024-08-14T14:51:54.831Z"
      },
      {
        "duration": 98,
        "start_time": "2024-08-14T14:51:54.875Z"
      },
      {
        "duration": 60,
        "start_time": "2024-08-14T14:51:54.978Z"
      },
      {
        "duration": 672,
        "start_time": "2024-08-14T14:51:55.041Z"
      },
      {
        "duration": 905,
        "start_time": "2024-08-14T14:51:55.716Z"
      },
      {
        "duration": 10,
        "start_time": "2024-08-14T14:51:56.624Z"
      },
      {
        "duration": 150,
        "start_time": "2024-08-14T14:51:56.637Z"
      },
      {
        "duration": 20,
        "start_time": "2024-08-14T14:51:56.791Z"
      },
      {
        "duration": 180,
        "start_time": "2024-08-14T14:51:56.831Z"
      },
      {
        "duration": 20,
        "start_time": "2024-08-14T14:51:57.014Z"
      },
      {
        "duration": 19,
        "start_time": "2024-08-14T14:51:57.037Z"
      },
      {
        "duration": 450,
        "start_time": "2024-08-14T14:51:57.058Z"
      },
      {
        "duration": 20,
        "start_time": "2024-08-14T14:51:57.511Z"
      },
      {
        "duration": 216,
        "start_time": "2024-08-14T14:51:57.535Z"
      },
      {
        "duration": 8,
        "start_time": "2024-08-14T14:51:57.754Z"
      },
      {
        "duration": 20,
        "start_time": "2024-08-14T14:51:57.765Z"
      },
      {
        "duration": 177,
        "start_time": "2024-08-14T14:51:57.788Z"
      },
      {
        "duration": 78,
        "start_time": "2024-08-14T14:51:57.967Z"
      },
      {
        "duration": 98,
        "start_time": "2024-08-14T14:51:58.048Z"
      },
      {
        "duration": 1731,
        "start_time": "2024-08-14T14:51:58.152Z"
      },
      {
        "duration": 101519,
        "start_time": "2024-08-14T14:51:59.889Z"
      },
      {
        "duration": 321,
        "start_time": "2024-08-14T14:55:02.009Z"
      },
      {
        "duration": 10,
        "start_time": "2024-08-14T14:55:57.241Z"
      },
      {
        "duration": 470,
        "start_time": "2024-08-14T14:56:12.641Z"
      },
      {
        "duration": 789,
        "start_time": "2024-08-14T14:56:13.115Z"
      },
      {
        "duration": 14,
        "start_time": "2024-08-14T14:56:13.907Z"
      },
      {
        "duration": 149,
        "start_time": "2024-08-14T14:56:13.933Z"
      },
      {
        "duration": 152,
        "start_time": "2024-08-14T14:56:14.085Z"
      },
      {
        "duration": 32,
        "start_time": "2024-08-14T14:56:14.239Z"
      },
      {
        "duration": 65,
        "start_time": "2024-08-14T14:56:14.273Z"
      },
      {
        "duration": 42,
        "start_time": "2024-08-14T14:56:14.341Z"
      },
      {
        "duration": 95,
        "start_time": "2024-08-14T14:56:14.386Z"
      },
      {
        "duration": 60,
        "start_time": "2024-08-14T14:56:14.488Z"
      },
      {
        "duration": 673,
        "start_time": "2024-08-14T14:56:14.552Z"
      },
      {
        "duration": 918,
        "start_time": "2024-08-14T14:56:15.230Z"
      },
      {
        "duration": 6,
        "start_time": "2024-08-14T14:56:16.151Z"
      },
      {
        "duration": 161,
        "start_time": "2024-08-14T14:56:16.160Z"
      },
      {
        "duration": 23,
        "start_time": "2024-08-14T14:56:16.323Z"
      },
      {
        "duration": 186,
        "start_time": "2024-08-14T14:56:16.348Z"
      },
      {
        "duration": 13,
        "start_time": "2024-08-14T14:56:16.537Z"
      },
      {
        "duration": 19,
        "start_time": "2024-08-14T14:56:16.553Z"
      },
      {
        "duration": 469,
        "start_time": "2024-08-14T14:56:16.574Z"
      },
      {
        "duration": 12,
        "start_time": "2024-08-14T14:56:17.047Z"
      },
      {
        "duration": 229,
        "start_time": "2024-08-14T14:56:17.062Z"
      },
      {
        "duration": 9,
        "start_time": "2024-08-14T14:56:17.294Z"
      },
      {
        "duration": 37,
        "start_time": "2024-08-14T14:56:17.305Z"
      },
      {
        "duration": 156,
        "start_time": "2024-08-14T14:56:17.345Z"
      },
      {
        "duration": 74,
        "start_time": "2024-08-14T14:56:17.504Z"
      },
      {
        "duration": 152,
        "start_time": "2024-08-14T14:56:17.581Z"
      },
      {
        "duration": 1647,
        "start_time": "2024-08-14T14:56:17.736Z"
      },
      {
        "duration": 5,
        "start_time": "2024-08-14T14:56:19.390Z"
      },
      {
        "duration": 139,
        "start_time": "2024-08-14T14:56:19.399Z"
      },
      {
        "duration": 457,
        "start_time": "2024-08-14T14:57:17.846Z"
      },
      {
        "duration": 760,
        "start_time": "2024-08-14T14:57:18.307Z"
      },
      {
        "duration": 14,
        "start_time": "2024-08-14T14:57:19.071Z"
      },
      {
        "duration": 171,
        "start_time": "2024-08-14T14:57:19.090Z"
      },
      {
        "duration": 136,
        "start_time": "2024-08-14T14:57:19.264Z"
      },
      {
        "duration": 40,
        "start_time": "2024-08-14T14:57:19.403Z"
      },
      {
        "duration": 46,
        "start_time": "2024-08-14T14:57:19.446Z"
      },
      {
        "duration": 65,
        "start_time": "2024-08-14T14:57:19.494Z"
      },
      {
        "duration": 89,
        "start_time": "2024-08-14T14:57:19.561Z"
      },
      {
        "duration": 50,
        "start_time": "2024-08-14T14:57:19.656Z"
      },
      {
        "duration": 703,
        "start_time": "2024-08-14T14:57:19.709Z"
      },
      {
        "duration": 903,
        "start_time": "2024-08-14T14:57:20.415Z"
      },
      {
        "duration": 14,
        "start_time": "2024-08-14T14:57:21.321Z"
      },
      {
        "duration": 149,
        "start_time": "2024-08-14T14:57:21.338Z"
      },
      {
        "duration": 19,
        "start_time": "2024-08-14T14:57:21.489Z"
      },
      {
        "duration": 170,
        "start_time": "2024-08-14T14:57:21.530Z"
      },
      {
        "duration": 13,
        "start_time": "2024-08-14T14:57:21.703Z"
      },
      {
        "duration": 18,
        "start_time": "2024-08-14T14:57:21.732Z"
      },
      {
        "duration": 479,
        "start_time": "2024-08-14T14:57:21.756Z"
      },
      {
        "duration": 12,
        "start_time": "2024-08-14T14:57:22.238Z"
      },
      {
        "duration": 243,
        "start_time": "2024-08-14T14:57:22.253Z"
      },
      {
        "duration": 8,
        "start_time": "2024-08-14T14:57:22.499Z"
      },
      {
        "duration": 39,
        "start_time": "2024-08-14T14:57:22.510Z"
      },
      {
        "duration": 154,
        "start_time": "2024-08-14T14:57:22.554Z"
      },
      {
        "duration": 67,
        "start_time": "2024-08-14T14:57:22.711Z"
      },
      {
        "duration": 157,
        "start_time": "2024-08-14T14:57:22.781Z"
      },
      {
        "duration": 1708,
        "start_time": "2024-08-14T14:57:22.940Z"
      },
      {
        "duration": 5,
        "start_time": "2024-08-14T14:57:24.655Z"
      },
      {
        "duration": 28903,
        "start_time": "2024-08-14T14:57:24.663Z"
      },
      {
        "duration": 100567,
        "start_time": "2024-08-14T15:00:47.315Z"
      },
      {
        "duration": 488,
        "start_time": "2024-08-14T15:06:42.628Z"
      },
      {
        "duration": 798,
        "start_time": "2024-08-14T15:06:43.119Z"
      },
      {
        "duration": 18,
        "start_time": "2024-08-14T15:06:43.919Z"
      },
      {
        "duration": 174,
        "start_time": "2024-08-14T15:06:43.941Z"
      },
      {
        "duration": 144,
        "start_time": "2024-08-14T15:06:44.118Z"
      },
      {
        "duration": 30,
        "start_time": "2024-08-14T15:06:44.266Z"
      },
      {
        "duration": 73,
        "start_time": "2024-08-14T15:06:44.299Z"
      },
      {
        "duration": 40,
        "start_time": "2024-08-14T15:06:44.375Z"
      },
      {
        "duration": 78,
        "start_time": "2024-08-14T15:06:44.430Z"
      },
      {
        "duration": 61,
        "start_time": "2024-08-14T15:06:44.514Z"
      },
      {
        "duration": 652,
        "start_time": "2024-08-14T15:06:44.578Z"
      },
      {
        "duration": 893,
        "start_time": "2024-08-14T15:06:45.233Z"
      },
      {
        "duration": 6,
        "start_time": "2024-08-14T15:06:46.132Z"
      },
      {
        "duration": 156,
        "start_time": "2024-08-14T15:06:46.142Z"
      },
      {
        "duration": 29,
        "start_time": "2024-08-14T15:06:46.301Z"
      },
      {
        "duration": 181,
        "start_time": "2024-08-14T15:06:46.333Z"
      },
      {
        "duration": 16,
        "start_time": "2024-08-14T15:06:46.517Z"
      },
      {
        "duration": 20,
        "start_time": "2024-08-14T15:06:46.536Z"
      },
      {
        "duration": 451,
        "start_time": "2024-08-14T15:06:46.559Z"
      },
      {
        "duration": 25,
        "start_time": "2024-08-14T15:06:47.013Z"
      },
      {
        "duration": 220,
        "start_time": "2024-08-14T15:06:47.041Z"
      },
      {
        "duration": 7,
        "start_time": "2024-08-14T15:06:47.264Z"
      },
      {
        "duration": 21,
        "start_time": "2024-08-14T15:06:47.275Z"
      },
      {
        "duration": 178,
        "start_time": "2024-08-14T15:06:47.299Z"
      },
      {
        "duration": 78,
        "start_time": "2024-08-14T15:06:47.480Z"
      },
      {
        "duration": 93,
        "start_time": "2024-08-14T15:06:47.560Z"
      },
      {
        "duration": 1777,
        "start_time": "2024-08-14T15:06:47.655Z"
      },
      {
        "duration": 7,
        "start_time": "2024-08-14T15:06:49.438Z"
      },
      {
        "duration": 0,
        "start_time": "2024-08-14T15:06:49.448Z"
      },
      {
        "duration": 0,
        "start_time": "2024-08-14T15:06:49.449Z"
      },
      {
        "duration": 5,
        "start_time": "2024-08-14T15:07:10.231Z"
      },
      {
        "duration": 6,
        "start_time": "2024-08-14T15:07:14.615Z"
      },
      {
        "duration": 449,
        "start_time": "2024-08-14T15:19:27.354Z"
      },
      {
        "duration": 766,
        "start_time": "2024-08-14T15:19:27.806Z"
      },
      {
        "duration": 15,
        "start_time": "2024-08-14T15:19:28.575Z"
      },
      {
        "duration": 164,
        "start_time": "2024-08-14T15:19:28.596Z"
      },
      {
        "duration": 145,
        "start_time": "2024-08-14T15:19:28.764Z"
      },
      {
        "duration": 40,
        "start_time": "2024-08-14T15:19:28.914Z"
      },
      {
        "duration": 48,
        "start_time": "2024-08-14T15:19:28.957Z"
      },
      {
        "duration": 59,
        "start_time": "2024-08-14T15:19:29.008Z"
      },
      {
        "duration": 94,
        "start_time": "2024-08-14T15:19:29.071Z"
      },
      {
        "duration": 61,
        "start_time": "2024-08-14T15:19:29.172Z"
      },
      {
        "duration": 693,
        "start_time": "2024-08-14T15:19:29.237Z"
      },
      {
        "duration": 897,
        "start_time": "2024-08-14T15:19:29.933Z"
      },
      {
        "duration": 6,
        "start_time": "2024-08-14T15:19:30.833Z"
      },
      {
        "duration": 161,
        "start_time": "2024-08-14T15:19:30.843Z"
      },
      {
        "duration": 26,
        "start_time": "2024-08-14T15:19:31.006Z"
      },
      {
        "duration": 182,
        "start_time": "2024-08-14T15:19:31.035Z"
      },
      {
        "duration": 16,
        "start_time": "2024-08-14T15:19:31.220Z"
      },
      {
        "duration": 19,
        "start_time": "2024-08-14T15:19:31.239Z"
      },
      {
        "duration": 462,
        "start_time": "2024-08-14T15:19:31.261Z"
      },
      {
        "duration": 11,
        "start_time": "2024-08-14T15:19:31.730Z"
      },
      {
        "duration": 234,
        "start_time": "2024-08-14T15:19:31.744Z"
      },
      {
        "duration": 10,
        "start_time": "2024-08-14T15:19:31.981Z"
      },
      {
        "duration": 51,
        "start_time": "2024-08-14T15:19:31.997Z"
      },
      {
        "duration": 145,
        "start_time": "2024-08-14T15:19:32.051Z"
      },
      {
        "duration": 78,
        "start_time": "2024-08-14T15:19:32.199Z"
      },
      {
        "duration": 151,
        "start_time": "2024-08-14T15:19:32.280Z"
      },
      {
        "duration": 1673,
        "start_time": "2024-08-14T15:19:32.434Z"
      },
      {
        "duration": 6,
        "start_time": "2024-08-14T15:19:34.114Z"
      },
      {
        "duration": 14,
        "start_time": "2024-08-14T17:38:03.249Z"
      },
      {
        "duration": 9,
        "start_time": "2024-08-14T17:38:09.195Z"
      },
      {
        "duration": 445,
        "start_time": "2024-08-14T17:38:57.502Z"
      },
      {
        "duration": 815,
        "start_time": "2024-08-14T17:38:57.950Z"
      },
      {
        "duration": 14,
        "start_time": "2024-08-14T17:38:58.768Z"
      },
      {
        "duration": 170,
        "start_time": "2024-08-14T17:38:58.787Z"
      },
      {
        "duration": 144,
        "start_time": "2024-08-14T17:38:58.960Z"
      },
      {
        "duration": 38,
        "start_time": "2024-08-14T17:38:59.107Z"
      },
      {
        "duration": 48,
        "start_time": "2024-08-14T17:38:59.148Z"
      },
      {
        "duration": 64,
        "start_time": "2024-08-14T17:38:59.199Z"
      },
      {
        "duration": 88,
        "start_time": "2024-08-14T17:38:59.266Z"
      },
      {
        "duration": 49,
        "start_time": "2024-08-14T17:38:59.360Z"
      },
      {
        "duration": 704,
        "start_time": "2024-08-14T17:38:59.412Z"
      },
      {
        "duration": 885,
        "start_time": "2024-08-14T17:39:00.119Z"
      },
      {
        "duration": 5,
        "start_time": "2024-08-14T17:39:01.007Z"
      },
      {
        "duration": 158,
        "start_time": "2024-08-14T17:39:01.015Z"
      },
      {
        "duration": 19,
        "start_time": "2024-08-14T17:39:01.175Z"
      },
      {
        "duration": 188,
        "start_time": "2024-08-14T17:39:01.197Z"
      },
      {
        "duration": 13,
        "start_time": "2024-08-14T17:39:01.388Z"
      },
      {
        "duration": 42,
        "start_time": "2024-08-14T17:39:01.404Z"
      },
      {
        "duration": 472,
        "start_time": "2024-08-14T17:39:01.449Z"
      },
      {
        "duration": 15,
        "start_time": "2024-08-14T17:39:01.924Z"
      },
      {
        "duration": 245,
        "start_time": "2024-08-14T17:39:01.942Z"
      },
      {
        "duration": 9,
        "start_time": "2024-08-14T17:39:02.190Z"
      },
      {
        "duration": 36,
        "start_time": "2024-08-14T17:39:02.202Z"
      },
      {
        "duration": 164,
        "start_time": "2024-08-14T17:39:02.241Z"
      },
      {
        "duration": 71,
        "start_time": "2024-08-14T17:39:02.408Z"
      },
      {
        "duration": 149,
        "start_time": "2024-08-14T17:39:02.482Z"
      },
      {
        "duration": 1653,
        "start_time": "2024-08-14T17:39:02.634Z"
      },
      {
        "duration": 5,
        "start_time": "2024-08-14T17:39:04.294Z"
      },
      {
        "duration": 6,
        "start_time": "2024-08-14T17:39:04.303Z"
      },
      {
        "duration": 28310,
        "start_time": "2024-08-14T17:39:04.332Z"
      },
      {
        "duration": 2505232,
        "start_time": "2024-08-14T17:40:21.180Z"
      },
      {
        "duration": 2395820,
        "start_time": "2024-08-14T19:33:03.021Z"
      },
      {
        "duration": 86,
        "start_time": "2024-08-14T20:50:56.188Z"
      },
      {
        "duration": 3004,
        "start_time": "2024-08-14T20:54:54.765Z"
      },
      {
        "duration": 452,
        "start_time": "2024-08-14T20:57:16.495Z"
      },
      {
        "duration": 742,
        "start_time": "2024-08-14T20:57:16.951Z"
      },
      {
        "duration": 14,
        "start_time": "2024-08-14T20:57:17.695Z"
      },
      {
        "duration": 160,
        "start_time": "2024-08-14T20:57:17.713Z"
      },
      {
        "duration": 142,
        "start_time": "2024-08-14T20:57:17.876Z"
      },
      {
        "duration": 33,
        "start_time": "2024-08-14T20:57:18.030Z"
      },
      {
        "duration": 67,
        "start_time": "2024-08-14T20:57:18.067Z"
      },
      {
        "duration": 40,
        "start_time": "2024-08-14T20:57:18.137Z"
      },
      {
        "duration": 95,
        "start_time": "2024-08-14T20:57:18.180Z"
      },
      {
        "duration": 57,
        "start_time": "2024-08-14T20:57:18.281Z"
      },
      {
        "duration": 668,
        "start_time": "2024-08-14T20:57:18.341Z"
      },
      {
        "duration": 910,
        "start_time": "2024-08-14T20:57:19.013Z"
      },
      {
        "duration": 7,
        "start_time": "2024-08-14T20:57:19.926Z"
      },
      {
        "duration": 153,
        "start_time": "2024-08-14T20:57:19.937Z"
      },
      {
        "duration": 20,
        "start_time": "2024-08-14T20:57:20.093Z"
      },
      {
        "duration": 198,
        "start_time": "2024-08-14T20:57:20.116Z"
      },
      {
        "duration": 17,
        "start_time": "2024-08-14T20:57:20.319Z"
      },
      {
        "duration": 17,
        "start_time": "2024-08-14T20:57:20.339Z"
      },
      {
        "duration": 444,
        "start_time": "2024-08-14T20:57:20.359Z"
      },
      {
        "duration": 26,
        "start_time": "2024-08-14T20:57:20.805Z"
      },
      {
        "duration": 211,
        "start_time": "2024-08-14T20:57:20.834Z"
      },
      {
        "duration": 8,
        "start_time": "2024-08-14T20:57:21.048Z"
      },
      {
        "duration": 20,
        "start_time": "2024-08-14T20:57:21.059Z"
      },
      {
        "duration": 174,
        "start_time": "2024-08-14T20:57:21.082Z"
      },
      {
        "duration": 75,
        "start_time": "2024-08-14T20:57:21.259Z"
      },
      {
        "duration": 115,
        "start_time": "2024-08-14T20:57:21.338Z"
      },
      {
        "duration": 1745,
        "start_time": "2024-08-14T20:57:21.456Z"
      },
      {
        "duration": 11,
        "start_time": "2024-08-14T20:57:23.209Z"
      },
      {
        "duration": 8,
        "start_time": "2024-08-14T20:57:23.231Z"
      },
      {
        "duration": 28251,
        "start_time": "2024-08-14T20:57:23.242Z"
      },
      {
        "duration": 2569033,
        "start_time": "2024-08-14T20:57:51.497Z"
      },
      {
        "duration": 3035,
        "start_time": "2024-08-14T21:40:40.533Z"
      },
      {
        "duration": 64,
        "start_time": "2024-08-14T21:54:53.595Z"
      },
      {
        "duration": 1507,
        "start_time": "2024-08-14T21:55:03.645Z"
      },
      {
        "duration": 7357,
        "start_time": "2024-08-14T22:18:46.199Z"
      },
      {
        "duration": 2520,
        "start_time": "2024-08-14T22:19:08.234Z"
      },
      {
        "duration": 18699,
        "start_time": "2024-08-14T22:19:18.553Z"
      },
      {
        "duration": 319,
        "start_time": "2024-08-15T14:39:13.131Z"
      },
      {
        "duration": 1100,
        "start_time": "2024-08-15T14:41:10.085Z"
      },
      {
        "duration": 444,
        "start_time": "2024-08-15T14:42:35.732Z"
      },
      {
        "duration": 786,
        "start_time": "2024-08-15T14:42:36.179Z"
      },
      {
        "duration": 15,
        "start_time": "2024-08-15T14:42:36.967Z"
      },
      {
        "duration": 169,
        "start_time": "2024-08-15T14:42:36.985Z"
      },
      {
        "duration": 151,
        "start_time": "2024-08-15T14:42:37.158Z"
      },
      {
        "duration": 37,
        "start_time": "2024-08-15T14:42:37.312Z"
      },
      {
        "duration": 70,
        "start_time": "2024-08-15T14:42:37.353Z"
      },
      {
        "duration": 43,
        "start_time": "2024-08-15T14:42:37.427Z"
      },
      {
        "duration": 95,
        "start_time": "2024-08-15T14:42:37.473Z"
      },
      {
        "duration": 63,
        "start_time": "2024-08-15T14:42:37.570Z"
      },
      {
        "duration": 666,
        "start_time": "2024-08-15T14:42:37.636Z"
      },
      {
        "duration": 898,
        "start_time": "2024-08-15T14:42:38.304Z"
      },
      {
        "duration": 6,
        "start_time": "2024-08-15T14:42:39.209Z"
      },
      {
        "duration": 156,
        "start_time": "2024-08-15T14:42:39.223Z"
      },
      {
        "duration": 26,
        "start_time": "2024-08-15T14:42:39.382Z"
      },
      {
        "duration": 180,
        "start_time": "2024-08-15T14:42:39.412Z"
      },
      {
        "duration": 21,
        "start_time": "2024-08-15T14:42:39.595Z"
      },
      {
        "duration": 20,
        "start_time": "2024-08-15T14:42:39.619Z"
      },
      {
        "duration": 4076,
        "start_time": "2024-08-15T14:42:39.641Z"
      },
      {
        "duration": 13,
        "start_time": "2024-08-15T14:42:43.721Z"
      },
      {
        "duration": 239,
        "start_time": "2024-08-15T14:42:43.736Z"
      },
      {
        "duration": 8,
        "start_time": "2024-08-15T14:42:43.978Z"
      },
      {
        "duration": 36,
        "start_time": "2024-08-15T14:42:43.989Z"
      },
      {
        "duration": 103,
        "start_time": "2024-08-15T14:42:44.028Z"
      },
      {
        "duration": 75,
        "start_time": "2024-08-15T14:42:44.133Z"
      },
      {
        "duration": 200,
        "start_time": "2024-08-15T14:42:44.212Z"
      },
      {
        "duration": 1900,
        "start_time": "2024-08-15T14:42:44.416Z"
      },
      {
        "duration": 7,
        "start_time": "2024-08-15T14:42:46.319Z"
      },
      {
        "duration": 7,
        "start_time": "2024-08-15T14:42:46.329Z"
      },
      {
        "duration": 29877,
        "start_time": "2024-08-15T14:42:46.339Z"
      },
      {
        "duration": 7,
        "start_time": "2024-08-15T14:43:16.219Z"
      },
      {
        "duration": 18615,
        "start_time": "2024-08-15T14:43:16.229Z"
      },
      {
        "duration": 9902,
        "start_time": "2024-08-15T14:43:34.846Z"
      },
      {
        "duration": 490,
        "start_time": "2024-08-15T14:53:32.120Z"
      },
      {
        "duration": 127,
        "start_time": "2024-08-15T14:54:25.201Z"
      },
      {
        "duration": 186355,
        "start_time": "2024-08-15T14:54:30.834Z"
      },
      {
        "duration": 3,
        "start_time": "2024-08-15T15:10:33.190Z"
      },
      {
        "duration": 3674,
        "start_time": "2024-08-15T15:14:45.940Z"
      },
      {
        "duration": 29,
        "start_time": "2024-08-15T15:15:04.067Z"
      },
      {
        "duration": 360,
        "start_time": "2024-08-15T15:15:28.345Z"
      },
      {
        "duration": 14840,
        "start_time": "2024-08-15T15:18:54.624Z"
      },
      {
        "duration": 44517,
        "start_time": "2024-08-15T15:19:14.445Z"
      },
      {
        "duration": 62706,
        "start_time": "2024-08-15T15:21:48.143Z"
      },
      {
        "duration": 228,
        "start_time": "2024-08-15T15:25:24.928Z"
      },
      {
        "duration": 16087,
        "start_time": "2024-08-15T15:29:26.764Z"
      },
      {
        "duration": 83,
        "start_time": "2024-08-15T15:30:17.940Z"
      },
      {
        "duration": 1677,
        "start_time": "2024-08-15T15:30:35.788Z"
      },
      {
        "duration": 1538,
        "start_time": "2024-08-15T15:35:06.209Z"
      },
      {
        "duration": 473,
        "start_time": "2024-08-15T15:35:39.416Z"
      },
      {
        "duration": 69,
        "start_time": "2024-08-15T15:35:52.942Z"
      },
      {
        "duration": 14957,
        "start_time": "2024-08-15T15:36:03.914Z"
      },
      {
        "duration": 136,
        "start_time": "2024-08-15T15:40:32.675Z"
      },
      {
        "duration": 1575,
        "start_time": "2024-08-15T15:41:01.018Z"
      },
      {
        "duration": 424,
        "start_time": "2024-08-15T15:42:15.762Z"
      },
      {
        "duration": 747,
        "start_time": "2024-08-15T15:42:16.190Z"
      },
      {
        "duration": 14,
        "start_time": "2024-08-15T15:42:16.940Z"
      },
      {
        "duration": 168,
        "start_time": "2024-08-15T15:42:16.958Z"
      },
      {
        "duration": 151,
        "start_time": "2024-08-15T15:42:17.129Z"
      },
      {
        "duration": 34,
        "start_time": "2024-08-15T15:42:17.284Z"
      },
      {
        "duration": 61,
        "start_time": "2024-08-15T15:42:17.321Z"
      },
      {
        "duration": 63,
        "start_time": "2024-08-15T15:42:17.386Z"
      },
      {
        "duration": 95,
        "start_time": "2024-08-15T15:42:17.451Z"
      },
      {
        "duration": 59,
        "start_time": "2024-08-15T15:42:17.551Z"
      },
      {
        "duration": 682,
        "start_time": "2024-08-15T15:42:17.613Z"
      },
      {
        "duration": 895,
        "start_time": "2024-08-15T15:42:18.298Z"
      },
      {
        "duration": 15,
        "start_time": "2024-08-15T15:42:19.196Z"
      },
      {
        "duration": 149,
        "start_time": "2024-08-15T15:42:19.213Z"
      },
      {
        "duration": 19,
        "start_time": "2024-08-15T15:42:19.365Z"
      },
      {
        "duration": 188,
        "start_time": "2024-08-15T15:42:19.387Z"
      },
      {
        "duration": 12,
        "start_time": "2024-08-15T15:42:19.578Z"
      },
      {
        "duration": 18,
        "start_time": "2024-08-15T15:42:19.609Z"
      },
      {
        "duration": 452,
        "start_time": "2024-08-15T15:42:19.632Z"
      },
      {
        "duration": 24,
        "start_time": "2024-08-15T15:42:20.087Z"
      },
      {
        "duration": 212,
        "start_time": "2024-08-15T15:42:20.114Z"
      },
      {
        "duration": 8,
        "start_time": "2024-08-15T15:42:20.329Z"
      },
      {
        "duration": 20,
        "start_time": "2024-08-15T15:42:20.339Z"
      },
      {
        "duration": 175,
        "start_time": "2024-08-15T15:42:20.362Z"
      },
      {
        "duration": 173,
        "start_time": "2024-08-15T15:42:20.540Z"
      },
      {
        "duration": 1714,
        "start_time": "2024-08-15T15:42:20.716Z"
      },
      {
        "duration": 8,
        "start_time": "2024-08-15T15:42:22.433Z"
      },
      {
        "duration": 29984,
        "start_time": "2024-08-15T15:42:22.448Z"
      },
      {
        "duration": 2718702,
        "start_time": "2024-08-15T15:42:52.435Z"
      },
      {
        "duration": 134,
        "start_time": "2024-08-15T16:28:11.208Z"
      },
      {
        "duration": 186887,
        "start_time": "2024-08-15T16:28:11.346Z"
      },
      {
        "duration": 17405,
        "start_time": "2024-08-15T16:31:18.237Z"
      },
      {
        "duration": 427,
        "start_time": "2024-08-15T21:45:56.142Z"
      },
      {
        "duration": 788,
        "start_time": "2024-08-15T21:45:57.225Z"
      },
      {
        "duration": 14,
        "start_time": "2024-08-15T21:45:59.906Z"
      },
      {
        "duration": 153,
        "start_time": "2024-08-15T21:46:02.820Z"
      },
      {
        "duration": 136,
        "start_time": "2024-08-15T21:46:04.849Z"
      },
      {
        "duration": 29,
        "start_time": "2024-08-15T21:46:12.527Z"
      },
      {
        "duration": 53,
        "start_time": "2024-08-15T21:46:16.839Z"
      },
      {
        "duration": 42,
        "start_time": "2024-08-15T21:46:19.756Z"
      },
      {
        "duration": 78,
        "start_time": "2024-08-15T21:46:21.341Z"
      },
      {
        "duration": 50,
        "start_time": "2024-08-15T21:46:23.381Z"
      },
      {
        "duration": 693,
        "start_time": "2024-08-15T21:46:25.389Z"
      },
      {
        "duration": 232,
        "start_time": "2024-08-15T21:46:37.345Z"
      },
      {
        "duration": 294,
        "start_time": "2024-08-15T21:51:03.249Z"
      },
      {
        "duration": 6,
        "start_time": "2024-08-15T22:01:13.838Z"
      },
      {
        "duration": 132,
        "start_time": "2024-08-15T22:01:15.410Z"
      },
      {
        "duration": 16,
        "start_time": "2024-08-15T22:01:17.676Z"
      },
      {
        "duration": 490,
        "start_time": "2024-08-15T22:02:41.682Z"
      },
      {
        "duration": 777,
        "start_time": "2024-08-15T22:02:42.911Z"
      },
      {
        "duration": 14,
        "start_time": "2024-08-15T22:02:45.465Z"
      },
      {
        "duration": 146,
        "start_time": "2024-08-15T22:02:47.444Z"
      },
      {
        "duration": 137,
        "start_time": "2024-08-15T22:02:49.587Z"
      },
      {
        "duration": 31,
        "start_time": "2024-08-15T22:02:52.290Z"
      },
      {
        "duration": 49,
        "start_time": "2024-08-15T22:02:55.250Z"
      },
      {
        "duration": 43,
        "start_time": "2024-08-15T22:02:56.458Z"
      },
      {
        "duration": 77,
        "start_time": "2024-08-15T22:02:57.892Z"
      },
      {
        "duration": 49,
        "start_time": "2024-08-15T22:02:59.255Z"
      },
      {
        "duration": 230,
        "start_time": "2024-08-15T22:03:01.215Z"
      },
      {
        "duration": 1291,
        "start_time": "2024-08-15T22:03:14.546Z"
      },
      {
        "duration": 773,
        "start_time": "2024-08-15T22:03:21.285Z"
      },
      {
        "duration": 96,
        "start_time": "2024-08-15T22:06:12.675Z"
      },
      {
        "duration": 83,
        "start_time": "2024-08-15T22:07:06.735Z"
      },
      {
        "duration": 420,
        "start_time": "2024-08-15T22:07:19.258Z"
      },
      {
        "duration": 742,
        "start_time": "2024-08-15T22:07:20.319Z"
      },
      {
        "duration": 17,
        "start_time": "2024-08-15T22:07:22.796Z"
      },
      {
        "duration": 140,
        "start_time": "2024-08-15T22:07:24.457Z"
      },
      {
        "duration": 135,
        "start_time": "2024-08-15T22:07:26.193Z"
      },
      {
        "duration": 31,
        "start_time": "2024-08-15T22:07:27.905Z"
      },
      {
        "duration": 49,
        "start_time": "2024-08-15T22:07:29.476Z"
      },
      {
        "duration": 44,
        "start_time": "2024-08-15T22:07:30.774Z"
      },
      {
        "duration": 78,
        "start_time": "2024-08-15T22:07:31.630Z"
      },
      {
        "duration": 49,
        "start_time": "2024-08-15T22:07:33.119Z"
      },
      {
        "duration": 227,
        "start_time": "2024-08-15T22:07:34.353Z"
      },
      {
        "duration": 1007,
        "start_time": "2024-08-15T22:07:52.949Z"
      },
      {
        "duration": 389,
        "start_time": "2024-08-15T22:08:59.017Z"
      },
      {
        "duration": 287,
        "start_time": "2024-08-15T22:09:10.405Z"
      },
      {
        "duration": 261,
        "start_time": "2024-08-15T22:09:27.583Z"
      },
      {
        "duration": 252,
        "start_time": "2024-08-15T22:10:14.053Z"
      },
      {
        "duration": 493,
        "start_time": "2024-08-15T22:11:04.275Z"
      },
      {
        "duration": 772,
        "start_time": "2024-08-15T22:11:04.771Z"
      },
      {
        "duration": 15,
        "start_time": "2024-08-15T22:11:05.545Z"
      },
      {
        "duration": 164,
        "start_time": "2024-08-15T22:11:05.564Z"
      },
      {
        "duration": 147,
        "start_time": "2024-08-15T22:11:05.731Z"
      },
      {
        "duration": 30,
        "start_time": "2024-08-15T22:11:05.890Z"
      },
      {
        "duration": 66,
        "start_time": "2024-08-15T22:11:05.924Z"
      },
      {
        "duration": 43,
        "start_time": "2024-08-15T22:11:05.994Z"
      },
      {
        "duration": 98,
        "start_time": "2024-08-15T22:11:06.039Z"
      },
      {
        "duration": 60,
        "start_time": "2024-08-15T22:11:06.143Z"
      },
      {
        "duration": 241,
        "start_time": "2024-08-15T22:11:06.206Z"
      },
      {
        "duration": 998,
        "start_time": "2024-08-15T22:11:06.450Z"
      },
      {
        "duration": 5,
        "start_time": "2024-08-15T22:11:07.452Z"
      },
      {
        "duration": 170,
        "start_time": "2024-08-15T22:11:07.460Z"
      },
      {
        "duration": 275,
        "start_time": "2024-08-15T22:11:07.633Z"
      },
      {
        "duration": 274,
        "start_time": "2024-08-15T22:11:07.911Z"
      },
      {
        "duration": 16,
        "start_time": "2024-08-15T22:11:08.188Z"
      },
      {
        "duration": 83,
        "start_time": "2024-08-15T22:11:08.207Z"
      },
      {
        "duration": 4088,
        "start_time": "2024-08-15T22:11:08.293Z"
      },
      {
        "duration": 15,
        "start_time": "2024-08-15T22:11:12.394Z"
      },
      {
        "duration": 234,
        "start_time": "2024-08-15T22:11:12.413Z"
      },
      {
        "duration": 9,
        "start_time": "2024-08-15T22:11:12.650Z"
      },
      {
        "duration": 80,
        "start_time": "2024-08-15T22:11:12.662Z"
      },
      {
        "duration": 158,
        "start_time": "2024-08-15T22:11:12.745Z"
      },
      {
        "duration": 592,
        "start_time": "2024-08-15T22:11:12.907Z"
      },
      {
        "duration": 2436,
        "start_time": "2024-08-15T22:11:13.502Z"
      },
      {
        "duration": 7,
        "start_time": "2024-08-15T22:11:15.941Z"
      },
      {
        "duration": 40118,
        "start_time": "2024-08-15T22:11:15.955Z"
      },
      {
        "duration": 16,
        "start_time": "2024-08-15T22:11:56.076Z"
      },
      {
        "duration": 148,
        "start_time": "2024-08-15T22:11:56.095Z"
      },
      {
        "duration": 267653,
        "start_time": "2024-08-15T22:11:56.246Z"
      },
      {
        "duration": 17423,
        "start_time": "2024-08-15T22:16:23.902Z"
      }
    ],
    "kernelspec": {
      "display_name": "Python 3 (ipykernel)",
      "language": "python",
      "name": "python3"
    },
    "language_info": {
      "codemirror_mode": {
        "name": "ipython",
        "version": 3
      },
      "file_extension": ".py",
      "mimetype": "text/x-python",
      "name": "python",
      "nbconvert_exporter": "python",
      "pygments_lexer": "ipython3",
      "version": "3.9.19"
    },
    "toc": {
      "base_numbering": 1,
      "nav_menu": {},
      "number_sections": true,
      "sideBar": true,
      "skip_h1_title": true,
      "title_cell": "Table of Contents",
      "title_sidebar": "Contents",
      "toc_cell": false,
      "toc_position": {},
      "toc_section_display": true,
      "toc_window_display": false
    },
    "colab": {
      "provenance": [],
      "toc_visible": true,
      "include_colab_link": true
    }
  },
  "nbformat": 4,
  "nbformat_minor": 0
}